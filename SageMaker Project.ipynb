{
 "cells": [
  {
   "cell_type": "markdown",
   "metadata": {},
   "source": [
    "# Creating a Sentiment Analysis Web App\n",
    "## Using PyTorch and SageMaker\n",
    "\n",
    "_Deep Learning Nanodegree Program | Deployment_\n",
    "\n",
    "---\n",
    "\n",
    "Now that we have a basic understanding of how SageMaker works we will try to use it to construct a complete project from end to end. Our goal will be to have a simple web page which a user can use to enter a movie review. The web page will then send the review off to our deployed model which will predict the sentiment of the entered review.\n",
    "\n",
    "## Instructions\n",
    "\n",
    "Some template code has already been provided for you, and you will need to implement additional functionality to successfully complete this notebook. You will not need to modify the included code beyond what is requested. Sections that begin with '**TODO**' in the header indicate that you need to complete or implement some portion within them. Instructions will be provided for each section and the specifics of the implementation are marked in the code block with a `# TODO: ...` comment. Please be sure to read the instructions carefully!\n",
    "\n",
    "In addition to implementing code, there will be questions for you to answer which relate to the task and your implementation. Each section where you will answer a question is preceded by a '**Question:**' header. Carefully read each question and provide your answer below the '**Answer:**' header by editing the Markdown cell.\n",
    "\n",
    "> **Note**: Code and Markdown cells can be executed using the **Shift+Enter** keyboard shortcut. In addition, a cell can be edited by typically clicking it (double-click for Markdown cells) or by pressing **Enter** while it is highlighted.\n",
    "\n",
    "## General Outline\n",
    "\n",
    "Recall the general outline for SageMaker projects using a notebook instance.\n",
    "\n",
    "1. Download or otherwise retrieve the data.\n",
    "2. Process / Prepare the data.\n",
    "3. Upload the processed data to S3.\n",
    "4. Train a chosen model.\n",
    "5. Test the trained model (typically using a batch transform job).\n",
    "6. Deploy the trained model.\n",
    "7. Use the deployed model.\n",
    "\n",
    "For this project, you will be following the steps in the general outline with some modifications. \n",
    "\n",
    "First, you will not be testing the model in its own step. You will still be testing the model, however, you will do it by deploying your model and then using the deployed model by sending the test data to it. One of the reasons for doing this is so that you can make sure that your deployed model is working correctly before moving forward.\n",
    "\n",
    "In addition, you will deploy and use your trained model a second time. In the second iteration you will customize the way that your trained model is deployed by including some of your own code. In addition, your newly deployed model will be used in the sentiment analysis web app."
   ]
  },
  {
   "cell_type": "markdown",
   "metadata": {},
   "source": [
    "## Step 1: Downloading the data\n",
    "\n",
    "As in the XGBoost in SageMaker notebook, we will be using the [IMDb dataset](http://ai.stanford.edu/~amaas/data/sentiment/)\n",
    "\n",
    "> Maas, Andrew L., et al. [Learning Word Vectors for Sentiment Analysis](http://ai.stanford.edu/~amaas/data/sentiment/). In _Proceedings of the 49th Annual Meeting of the Association for Computational Linguistics: Human Language Technologies_. Association for Computational Linguistics, 2011."
   ]
  },
  {
   "cell_type": "code",
   "execution_count": 5,
   "metadata": {},
   "outputs": [
    {
     "name": "stdout",
     "output_type": "stream",
     "text": [
      "mkdir: cannot create directory ‘../data’: File exists\n",
      "--2020-08-04 20:32:49--  http://ai.stanford.edu/~amaas/data/sentiment/aclImdb_v1.tar.gz\n",
      "Resolving ai.stanford.edu (ai.stanford.edu)... 171.64.68.10\n",
      "Connecting to ai.stanford.edu (ai.stanford.edu)|171.64.68.10|:80... connected.\n",
      "HTTP request sent, awaiting response... 200 OK\n",
      "Length: 84125825 (80M) [application/x-gzip]\n",
      "Saving to: ‘../data/aclImdb_v1.tar.gz’\n",
      "\n",
      "../data/aclImdb_v1. 100%[===================>]  80.23M  23.1MB/s    in 5.0s    \n",
      "\n",
      "2020-08-04 20:32:54 (16.1 MB/s) - ‘../data/aclImdb_v1.tar.gz’ saved [84125825/84125825]\n",
      "\n"
     ]
    }
   ],
   "source": [
    "%mkdir ../data\n",
    "!wget -O ../data/aclImdb_v1.tar.gz http://ai.stanford.edu/~amaas/data/sentiment/aclImdb_v1.tar.gz\n",
    "!tar -zxf ../data/aclImdb_v1.tar.gz -C ../data"
   ]
  },
  {
   "cell_type": "markdown",
   "metadata": {},
   "source": [
    "## Step 2: Preparing and Processing the data\n",
    "\n",
    "Also, as in the XGBoost notebook, we will be doing some initial data processing. The first few steps are the same as in the XGBoost example. To begin with, we will read in each of the reviews and combine them into a single input structure. Then, we will split the dataset into a training set and a testing set."
   ]
  },
  {
   "cell_type": "code",
   "execution_count": 6,
   "metadata": {},
   "outputs": [],
   "source": [
    "import os\n",
    "import glob\n",
    "\n",
    "def read_imdb_data(data_dir='../data/aclImdb'):\n",
    "    data = {}\n",
    "    labels = {}\n",
    "    \n",
    "    for data_type in ['train', 'test']:\n",
    "        data[data_type] = {}\n",
    "        labels[data_type] = {}\n",
    "        \n",
    "        for sentiment in ['pos', 'neg']:\n",
    "            data[data_type][sentiment] = []\n",
    "            labels[data_type][sentiment] = []\n",
    "            \n",
    "            path = os.path.join(data_dir, data_type, sentiment, '*.txt')\n",
    "            files = glob.glob(path)\n",
    "            \n",
    "            for f in files:\n",
    "                with open(f) as review:\n",
    "                    data[data_type][sentiment].append(review.read())\n",
    "                    # Here we represent a positive review by '1' and a negative review by '0'\n",
    "                    labels[data_type][sentiment].append(1 if sentiment == 'pos' else 0)\n",
    "                    \n",
    "            assert len(data[data_type][sentiment]) == len(labels[data_type][sentiment]), \\\n",
    "                    \"{}/{} data size does not match labels size\".format(data_type, sentiment)\n",
    "                \n",
    "    return data, labels"
   ]
  },
  {
   "cell_type": "code",
   "execution_count": 7,
   "metadata": {},
   "outputs": [
    {
     "name": "stdout",
     "output_type": "stream",
     "text": [
      "IMDB reviews: train = 12500 pos / 12500 neg, test = 12500 pos / 12500 neg\n"
     ]
    }
   ],
   "source": [
    "data, labels = read_imdb_data()\n",
    "print(\"IMDB reviews: train = {} pos / {} neg, test = {} pos / {} neg\".format(\n",
    "            len(data['train']['pos']), len(data['train']['neg']),\n",
    "            len(data['test']['pos']), len(data['test']['neg'])))"
   ]
  },
  {
   "cell_type": "markdown",
   "metadata": {},
   "source": [
    "Now that we've read the raw training and testing data from the downloaded dataset, we will combine the positive and negative reviews and shuffle the resulting records."
   ]
  },
  {
   "cell_type": "code",
   "execution_count": 8,
   "metadata": {},
   "outputs": [],
   "source": [
    "from sklearn.utils import shuffle\n",
    "\n",
    "def prepare_imdb_data(data, labels):\n",
    "    \"\"\"Prepare training and test sets from IMDb movie reviews.\"\"\"\n",
    "    \n",
    "    #Combine positive and negative reviews and labels\n",
    "    data_train = data['train']['pos'] + data['train']['neg']\n",
    "    data_test = data['test']['pos'] + data['test']['neg']\n",
    "    labels_train = labels['train']['pos'] + labels['train']['neg']\n",
    "    labels_test = labels['test']['pos'] + labels['test']['neg']\n",
    "    \n",
    "    #Shuffle reviews and corresponding labels within training and test sets\n",
    "    data_train, labels_train = shuffle(data_train, labels_train)\n",
    "    data_test, labels_test = shuffle(data_test, labels_test)\n",
    "    \n",
    "    # Return a unified training data, test data, training labels, test labets\n",
    "    return data_train, data_test, labels_train, labels_test"
   ]
  },
  {
   "cell_type": "code",
   "execution_count": 9,
   "metadata": {},
   "outputs": [
    {
     "name": "stdout",
     "output_type": "stream",
     "text": [
      "IMDb reviews (combined): train = 25000, test = 25000\n"
     ]
    }
   ],
   "source": [
    "train_X, test_X, train_y, test_y = prepare_imdb_data(data, labels)\n",
    "print(\"IMDb reviews (combined): train = {}, test = {}\".format(len(train_X), len(test_X)))"
   ]
  },
  {
   "cell_type": "markdown",
   "metadata": {},
   "source": [
    "Now that we have our training and testing sets unified and prepared, we should do a quick check and see an example of the data our model will be trained on. This is generally a good idea as it allows you to see how each of the further processing steps affects the reviews and it also ensures that the data has been loaded correctly."
   ]
  },
  {
   "cell_type": "code",
   "execution_count": 6,
   "metadata": {},
   "outputs": [
    {
     "name": "stdout",
     "output_type": "stream",
     "text": [
      "First saw this half a lifetime ago on a black-and-white TV in a small Samoan village and thought it was hilarious. Now, having seen it for the second time, so much later, I don't find it hilarious. I don't find ANYTHING hilarious anymore. But this is a witty and light-hearted comedy that moves along quickly without stumbling and I thoroughly enjoyed it.<br /><br />It's 1945 and Fred MacMurray is a 4F who's dying to get into one of the armed forces. He rubs a lamp in the scrapyard he's managing and a genie appears to grant him a few wishes. (Ho hum, right? But though the introduction is no more than okay, the fantasies are pretty lively.) MacMurray tells the genie that he wants to be in the army. Poof, and he is marching along with Washington's soldiers into a particularly warm and inviting USO where June Haver and Joan Leslie are wearing lots of lace doilies or whatever they are, and lavender wigs. Washington sends MacMurray to spy on the enemy -- red-coating, German-speaking Hessians, not Brits. The Hessians are jammed into a Bierstube and singing a very amusing drinking song extolling the virtues of the Vaterland, \"where the white wine is winier/ and the Rhine water's Rhinier/ and the bratwurst is mellower/ and the yellow hair is yellower/ and the Frauleins are jucier/ and the goose steps are goosier.\" Something like that. The characterizations are fabulous, as good as Sig Rumann's best. Otto Preminger is the suspicious and sinister Hessian general. \"You know, Heidelberg, vee are 241 to 1 against you -- but vee are not afraid.\" <br /><br />I can't go on too long with these fantasies but they're all quite funny, and so are the lyrics. When he wishes he were in the Navy, MacMurray winds up with Columbus and the fantasy is presented as grand opera. \"Don't you know that sailing west meant/ a terrifically expensive investment?/ And who do you suppose provides the means/ but Isabella, Queen of Queens.\" When they sight the New World, someone remarks that it looks great. \"I don't care what it looks like,\" mutters Columbus, \"but that place is going to be called Columbusland.\"<br /><br />Anyway, everything is finally straightened out, though the genie by this time is quite drunk, and MacMurray winds up in the Marine Corps with the right girl.<br /><br />I've made it sound too cute, maybe, but it IS cute. The kids will enjoy the puffs of smoke and the magic and the corny love story. The adults will get a kick out of the more challenging elements of the story (who are the Hessians?) unless they happen to be college graduates, in which case they might want to stick with the legerdemain and say, \"Wow! Awesome!\"\n",
      "1\n"
     ]
    }
   ],
   "source": [
    "print(train_X[100])\n",
    "print(train_y[100])"
   ]
  },
  {
   "cell_type": "markdown",
   "metadata": {},
   "source": [
    "The first step in processing the reviews is to make sure that any html tags that appear should be removed. In addition we wish to tokenize our input, that way words such as *entertained* and *entertaining* are considered the same with regard to sentiment analysis."
   ]
  },
  {
   "cell_type": "code",
   "execution_count": 10,
   "metadata": {},
   "outputs": [],
   "source": [
    "import nltk\n",
    "from nltk.corpus import stopwords\n",
    "from nltk.stem.porter import *\n",
    "\n",
    "import re\n",
    "from bs4 import BeautifulSoup\n",
    "\n",
    "def review_to_words(review):\n",
    "    nltk.download(\"stopwords\", quiet=True)\n",
    "    stemmer = PorterStemmer()\n",
    "    \n",
    "    text = BeautifulSoup(review, \"html.parser\").get_text() # Remove HTML tags\n",
    "    text = re.sub(r\"[^a-zA-Z0-9]\", \" \", text.lower()) # Convert to lower case\n",
    "    words = text.split() # Split string into words\n",
    "    words = [w for w in words if w not in stopwords.words(\"english\")] # Remove stopwords\n",
    "    words = [PorterStemmer().stem(w) for w in words] # stem\n",
    "    \n",
    "    return words"
   ]
  },
  {
   "cell_type": "markdown",
   "metadata": {},
   "source": [
    "The `review_to_words` method defined above uses `BeautifulSoup` to remove any html tags that appear and uses the `nltk` package to tokenize the reviews. As a check to ensure we know how everything is working, try applying `review_to_words` to one of the reviews in the training set."
   ]
  },
  {
   "cell_type": "code",
   "execution_count": 11,
   "metadata": {},
   "outputs": [
    {
     "data": {
      "text/plain": [
       "['modern',\n",
       " 'viewer',\n",
       " 'know',\n",
       " 'littl',\n",
       " 'film',\n",
       " 'primarili',\n",
       " 'model',\n",
       " 'remak',\n",
       " 'money',\n",
       " 'pit',\n",
       " 'older',\n",
       " 'viewer',\n",
       " 'today',\n",
       " 'watch',\n",
       " 'wisp',\n",
       " 'nostalgia',\n",
       " 'cari',\n",
       " 'grant',\n",
       " 'myrna',\n",
       " 'loy',\n",
       " 'melvyn',\n",
       " 'dougla',\n",
       " 'superstar',\n",
       " 'easier',\n",
       " 'less',\n",
       " 'complic',\n",
       " 'era',\n",
       " 'time',\n",
       " 'cours',\n",
       " 'way',\n",
       " 'modifi',\n",
       " 'perspect',\n",
       " 'mani',\n",
       " 'film',\n",
       " 'today',\n",
       " 'verili',\n",
       " 'ulcer',\n",
       " 'social',\n",
       " 'polit',\n",
       " 'commentari',\n",
       " 'natur',\n",
       " 'curios',\n",
       " 'wonder',\n",
       " 'controversi',\n",
       " 'older',\n",
       " 'seemingli',\n",
       " 'less',\n",
       " 'provoc',\n",
       " 'film',\n",
       " 'mr',\n",
       " 'bland',\n",
       " 'build',\n",
       " 'dream',\n",
       " 'hous',\n",
       " 'may',\n",
       " 'therefor',\n",
       " 'audienc',\n",
       " 'look',\n",
       " '1948',\n",
       " 'polit',\n",
       " 'commentari',\n",
       " 'howev',\n",
       " 'subtl',\n",
       " 'find',\n",
       " 'hous',\n",
       " 'late',\n",
       " '40',\n",
       " 'truli',\n",
       " 'exasper',\n",
       " 'experi',\n",
       " 'lightli',\n",
       " 'soften',\n",
       " 'come',\n",
       " 'levittown',\n",
       " 'like',\n",
       " 'polit',\n",
       " 'movi',\n",
       " 'bland',\n",
       " 'children',\n",
       " 'alway',\n",
       " 'seem',\n",
       " 'talk',\n",
       " 'progress',\n",
       " 'idea',\n",
       " 'taught',\n",
       " 'school',\n",
       " 'real',\n",
       " 'life',\n",
       " 'would',\n",
       " 'get',\n",
       " 'teacher',\n",
       " 'accus',\n",
       " 'commun',\n",
       " 'real',\n",
       " 'life',\n",
       " 'myrna',\n",
       " 'loy',\n",
       " 'hous',\n",
       " 'activist',\n",
       " 'democrat',\n",
       " 'feminist',\n",
       " 'melvyn',\n",
       " 'dougla',\n",
       " 'less',\n",
       " 'democrat',\n",
       " 'firebrand',\n",
       " 'marri',\n",
       " 'congresswoman',\n",
       " 'helen',\n",
       " 'gahagan',\n",
       " 'dougla',\n",
       " 'young',\n",
       " 'richard',\n",
       " 'nixon',\n",
       " 'accus',\n",
       " 'soft',\n",
       " 'commun',\n",
       " 'ruin',\n",
       " 'jason',\n",
       " 'robard',\n",
       " 'sr',\n",
       " 'small',\n",
       " 'role',\n",
       " 'film',\n",
       " 'polit',\n",
       " 'activ',\n",
       " 'less',\n",
       " 'notic',\n",
       " 'importantli',\n",
       " 'son',\n",
       " 'jason',\n",
       " 'robard',\n",
       " 'jr',\n",
       " 'would',\n",
       " 'mani',\n",
       " 'year',\n",
       " 'activ',\n",
       " 'liber',\n",
       " 'democrat',\n",
       " 'almost',\n",
       " 'odd',\n",
       " 'fellow',\n",
       " 'cari',\n",
       " 'grant',\n",
       " 'whose',\n",
       " 'strident',\n",
       " 'conservat',\n",
       " 'reflect',\n",
       " 'major',\n",
       " 'polit',\n",
       " 'sentiment',\n",
       " 'hollywood',\n",
       " 'alreadi',\n",
       " 'slip',\n",
       " '1948',\n",
       " 'commun',\n",
       " 'real',\n",
       " 'perceiv',\n",
       " 'threat',\n",
       " 'blacklist',\n",
       " 'around',\n",
       " 'corner',\n",
       " 'would',\n",
       " 'anoth',\n",
       " 'decad',\n",
       " 'polit',\n",
       " 'activ',\n",
       " 'would',\n",
       " 'reappear',\n",
       " 'mainstream',\n",
       " 'film',\n",
       " 'subtli']"
      ]
     },
     "execution_count": 11,
     "metadata": {},
     "output_type": "execute_result"
    }
   ],
   "source": [
    "# TODO: Apply review_to_words to a review (train_X[100] or any other review)\n",
    "review_to_words(train_X[100])"
   ]
  },
  {
   "cell_type": "markdown",
   "metadata": {},
   "source": [
    "**Question:** Above we mentioned that `review_to_words` method removes html formatting and allows us to tokenize the words found in a review, for example, converting *entertained* and *entertaining* into *entertain* so that they are treated as though they are the same word. What else, if anything, does this method do to the input?"
   ]
  },
  {
   "cell_type": "markdown",
   "metadata": {},
   "source": [
    "**Answer:**\n",
    "The review_to_words method does the following to the input:\n",
    "\n",
    "- Removes all the HTML tags using BeatutifulSoup.\n",
    "- Replaces all the non-aplha-numeric tags with a space and converts the input to lower case.\n",
    "- Converts sentences into a list of words.\n",
    "- Removes all the stopwords, which are common words like \"the\" and \"as\".\n",
    "- Strips each word of its suffixes and prefixes so that only the root word remains."
   ]
  },
  {
   "cell_type": "markdown",
   "metadata": {},
   "source": [
    "The method below applies the `review_to_words` method to each of the reviews in the training and testing datasets. In addition it caches the results. This is because performing this processing step can take a long time. This way if you are unable to complete the notebook in the current session, you can come back without needing to process the data a second time."
   ]
  },
  {
   "cell_type": "code",
   "execution_count": 12,
   "metadata": {},
   "outputs": [],
   "source": [
    "import pickle\n",
    "\n",
    "cache_dir = os.path.join(\"../cache\", \"sentiment_analysis\")  # where to store cache files\n",
    "os.makedirs(cache_dir, exist_ok=True)  # ensure cache directory exists\n",
    "\n",
    "def preprocess_data(data_train, data_test, labels_train, labels_test,\n",
    "                    cache_dir=cache_dir, cache_file=\"preprocessed_data.pkl\"):\n",
    "    \"\"\"Convert each review to words; read from cache if available.\"\"\"\n",
    "\n",
    "    # If cache_file is not None, try to read from it first\n",
    "    cache_data = None\n",
    "    if cache_file is not None:\n",
    "        try:\n",
    "            with open(os.path.join(cache_dir, cache_file), \"rb\") as f:\n",
    "                cache_data = pickle.load(f)\n",
    "            print(\"Read preprocessed data from cache file:\", cache_file)\n",
    "        except:\n",
    "            pass  # unable to read from cache, but that's okay\n",
    "    \n",
    "    # If cache is missing, then do the heavy lifting\n",
    "    if cache_data is None:\n",
    "        # Preprocess training and test data to obtain words for each review\n",
    "        #words_train = list(map(review_to_words, data_train))\n",
    "        #words_test = list(map(review_to_words, data_test))\n",
    "        words_train = [review_to_words(review) for review in data_train]\n",
    "        words_test = [review_to_words(review) for review in data_test]\n",
    "        \n",
    "        # Write to cache file for future runs\n",
    "        if cache_file is not None:\n",
    "            cache_data = dict(words_train=words_train, words_test=words_test,\n",
    "                              labels_train=labels_train, labels_test=labels_test)\n",
    "            with open(os.path.join(cache_dir, cache_file), \"wb\") as f:\n",
    "                pickle.dump(cache_data, f)\n",
    "            print(\"Wrote preprocessed data to cache file:\", cache_file)\n",
    "    else:\n",
    "        # Unpack data loaded from cache file\n",
    "        words_train, words_test, labels_train, labels_test = (cache_data['words_train'],\n",
    "                cache_data['words_test'], cache_data['labels_train'], cache_data['labels_test'])\n",
    "    \n",
    "    return words_train, words_test, labels_train, labels_test"
   ]
  },
  {
   "cell_type": "code",
   "execution_count": 13,
   "metadata": {},
   "outputs": [
    {
     "name": "stdout",
     "output_type": "stream",
     "text": [
      "Read preprocessed data from cache file: preprocessed_data.pkl\n"
     ]
    }
   ],
   "source": [
    "# Preprocess data\n",
    "train_X, test_X, train_y, test_y = preprocess_data(train_X, test_X, train_y, test_y)"
   ]
  },
  {
   "cell_type": "markdown",
   "metadata": {},
   "source": [
    "## Transform the data\n",
    "\n",
    "In the XGBoost notebook we transformed the data from its word representation to a bag-of-words feature representation. For the model we are going to construct in this notebook we will construct a feature representation which is very similar. To start, we will represent each word as an integer. Of course, some of the words that appear in the reviews occur very infrequently and so likely don't contain much information for the purposes of sentiment analysis. The way we will deal with this problem is that we will fix the size of our working vocabulary and we will only include the words that appear most frequently. We will then combine all of the infrequent words into a single category and, in our case, we will label it as `1`.\n",
    "\n",
    "Since we will be using a recurrent neural network, it will be convenient if the length of each review is the same. To do this, we will fix a size for our reviews and then pad short reviews with the category 'no word' (which we will label `0`) and truncate long reviews."
   ]
  },
  {
   "cell_type": "markdown",
   "metadata": {},
   "source": [
    "### (TODO) Create a word dictionary\n",
    "\n",
    "To begin with, we need to construct a way to map words that appear in the reviews to integers. Here we fix the size of our vocabulary (including the 'no word' and 'infrequent' categories) to be `5000` but you may wish to change this to see how it affects the model.\n",
    "\n",
    "> **TODO:** Complete the implementation for the `build_dict()` method below. Note that even though the vocab_size is set to `5000`, we only want to construct a mapping for the most frequently appearing `4998` words. This is because we want to reserve the special labels `0` for 'no word' and `1` for 'infrequent word'."
   ]
  },
  {
   "cell_type": "code",
   "execution_count": 14,
   "metadata": {},
   "outputs": [],
   "source": [
    "import numpy as np\n",
    "from collections import Counter\n",
    "\n",
    "def build_dict(data, vocab_size = 5000):\n",
    "    \"\"\"Construct and return a dictionary mapping each of the most frequently appearing words to a unique integer.\"\"\"\n",
    "    \n",
    "    # TODO: Determine how often each word appears in `data`. Note that `data` is a list of sentences and that a\n",
    "    #       sentence is a list of words.\n",
    "    \n",
    "    word_count = {} # A dict storing the words that appear in the reviews along with how often they occur\n",
    "    \n",
    "    for movie_review in data:\n",
    "        count = Counter(movie_review)\n",
    "        for word in count:\n",
    "            word_count[word] = count[word] + (word_count[word] if word in word_count else 0)\n",
    "    \n",
    "    # TODO: Sort the words found in `data` so that sorted_words[0] is the most frequently appearing word and\n",
    "    #       sorted_words[-1] is the least frequently appearing word.\n",
    "    \n",
    "    sorted_words = sorted(word_count, key=lambda w: word_count[w], reverse=True)\n",
    "    \n",
    "    word_dict = {} # This is what we are building, a dictionary that translates words into integers\n",
    "    for idx, word in enumerate(sorted_words[:vocab_size - 2]): # The -2 is so that we save room for the 'no word'\n",
    "        word_dict[word] = idx + 2                              # 'infrequent' labels\n",
    "        \n",
    "    return word_dict"
   ]
  },
  {
   "cell_type": "code",
   "execution_count": 15,
   "metadata": {},
   "outputs": [],
   "source": [
    "word_dict = build_dict(train_X)"
   ]
  },
  {
   "cell_type": "markdown",
   "metadata": {},
   "source": [
    "**Question:** What are the five most frequently appearing (tokenized) words in the training set? Does it makes sense that these words appear frequently in the training set?"
   ]
  },
  {
   "cell_type": "markdown",
   "metadata": {},
   "source": [
    "**Answer:**\n",
    "The five most frequently appearing words in the training set are:\n",
    "\n",
    "1. movie\n",
    "2. film\n",
    "3. one\n",
    "4. like\n",
    "5. time\n",
    "\n",
    "It does makes sense that these would be the five most frequently words, especially \"movie\" and \"film\" since the training set is data derived from movie reviews. \"One\", \"like\" and \"time\" also make sense as people often will make comments like, \"waste of time\", \"one of the best/worst movies of all time\", \"liked/did not like this film,\" etc. when writing up a review."
   ]
  },
  {
   "cell_type": "code",
   "execution_count": 16,
   "metadata": {},
   "outputs": [
    {
     "name": "stdout",
     "output_type": "stream",
     "text": [
      "{'movi': 2, 'film': 3, 'one': 4, 'like': 5, 'time': 6, 'good': 7, 'make': 8, 'charact': 9, 'get': 10, 'see': 11, 'watch': 12, 'stori': 13, 'even': 14, 'would': 15, 'realli': 16, 'well': 17, 'scene': 18, 'look': 19, 'show': 20, 'much': 21, 'end': 22, 'peopl': 23, 'bad': 24, 'go': 25, 'great': 26, 'also': 27, 'first': 28, 'love': 29, 'think': 30, 'way': 31, 'act': 32, 'play': 33, 'made': 34, 'thing': 35, 'could': 36, 'know': 37, 'say': 38, 'seem': 39, 'work': 40, 'plot': 41, 'two': 42, 'actor': 43, 'year': 44, 'come': 45, 'mani': 46, 'seen': 47, 'take': 48, 'life': 49, 'want': 50, 'never': 51, 'littl': 52, 'best': 53, 'tri': 54, 'man': 55, 'ever': 56, 'give': 57, 'better': 58, 'still': 59, 'perform': 60, 'find': 61, 'feel': 62, 'part': 63, 'back': 64, 'use': 65, 'someth': 66, 'director': 67, 'actual': 68, 'interest': 69, 'lot': 70, 'real': 71, 'old': 72, 'cast': 73, 'though': 74, 'live': 75, 'star': 76, 'enjoy': 77, 'guy': 78, 'anoth': 79, 'new': 80, 'role': 81, 'noth': 82, '10': 83, 'funni': 84, 'music': 85, 'point': 86, 'start': 87, 'set': 88, 'girl': 89, 'origin': 90, 'day': 91, 'world': 92, 'everi': 93, 'believ': 94, 'turn': 95, 'quit': 96, 'direct': 97, 'us': 98, 'thought': 99, 'fact': 100, 'minut': 101, 'horror': 102, 'kill': 103, 'action': 104, 'comedi': 105, 'pretti': 106, 'young': 107, 'wonder': 108, 'happen': 109, 'around': 110, 'got': 111, 'effect': 112, 'right': 113, 'long': 114, 'howev': 115, 'big': 116, 'line': 117, 'famili': 118, 'enough': 119, 'seri': 120, 'may': 121, 'need': 122, 'fan': 123, 'bit': 124, 'script': 125, 'beauti': 126, 'person': 127, 'becom': 128, 'without': 129, 'must': 130, 'alway': 131, 'friend': 132, 'tell': 133, 'reason': 134, 'saw': 135, 'last': 136, 'final': 137, 'kid': 138, 'almost': 139, 'put': 140, 'least': 141, 'sure': 142, 'done': 143, 'whole': 144, 'place': 145, 'complet': 146, 'kind': 147, 'expect': 148, 'differ': 149, 'shot': 150, 'far': 151, 'mean': 152, 'anyth': 153, 'book': 154, 'laugh': 155, 'might': 156, 'name': 157, 'sinc': 158, 'begin': 159, '2': 160, 'probabl': 161, 'woman': 162, 'help': 163, 'entertain': 164, 'let': 165, 'screen': 166, 'call': 167, 'tv': 168, 'moment': 169, 'away': 170, 'read': 171, 'yet': 172, 'rather': 173, 'worst': 174, 'run': 175, 'fun': 176, 'lead': 177, 'hard': 178, 'audienc': 179, 'idea': 180, 'anyon': 181, 'episod': 182, 'american': 183, 'found': 184, 'appear': 185, 'bore': 186, 'especi': 187, 'although': 188, 'hope': 189, 'cours': 190, 'keep': 191, 'anim': 192, 'job': 193, 'goe': 194, 'move': 195, 'sens': 196, 'dvd': 197, 'version': 198, 'war': 199, 'money': 200, 'someon': 201, 'mind': 202, 'mayb': 203, 'problem': 204, 'true': 205, 'hous': 206, 'everyth': 207, 'nice': 208, 'second': 209, 'rate': 210, 'three': 211, 'night': 212, 'face': 213, 'follow': 214, 'recommend': 215, 'product': 216, 'main': 217, 'worth': 218, 'leav': 219, 'human': 220, 'special': 221, 'excel': 222, 'togeth': 223, 'wast': 224, 'sound': 225, 'everyon': 226, 'john': 227, 'hand': 228, '1': 229, 'father': 230, 'later': 231, 'eye': 232, 'said': 233, 'view': 234, 'instead': 235, 'review': 236, 'boy': 237, 'high': 238, 'hour': 239, 'miss': 240, 'talk': 241, 'classic': 242, 'wife': 243, 'understand': 244, 'left': 245, 'care': 246, 'black': 247, 'death': 248, 'open': 249, 'murder': 250, 'write': 251, 'half': 252, 'head': 253, 'rememb': 254, 'chang': 255, 'viewer': 256, 'fight': 257, 'gener': 258, 'surpris': 259, 'short': 260, 'includ': 261, 'die': 262, 'fall': 263, 'less': 264, 'els': 265, 'entir': 266, 'piec': 267, 'involv': 268, 'pictur': 269, 'simpli': 270, 'home': 271, 'power': 272, 'top': 273, 'total': 274, 'usual': 275, 'budget': 276, 'attempt': 277, 'suppos': 278, 'releas': 279, 'hollywood': 280, 'terribl': 281, 'song': 282, 'men': 283, 'possibl': 284, 'featur': 285, 'portray': 286, 'disappoint': 287, 'poor': 288, '3': 289, 'coupl': 290, 'stupid': 291, 'camera': 292, 'dead': 293, 'wrong': 294, 'produc': 295, 'low': 296, 'video': 297, 'either': 298, 'aw': 299, 'definit': 300, 'except': 301, 'rest': 302, 'given': 303, 'absolut': 304, 'women': 305, 'lack': 306, 'word': 307, 'writer': 308, 'titl': 309, 'talent': 310, 'decid': 311, 'full': 312, 'perfect': 313, 'along': 314, 'style': 315, 'close': 316, 'truli': 317, 'school': 318, 'emot': 319, 'save': 320, 'age': 321, 'sex': 322, 'next': 323, 'bring': 324, 'mr': 325, 'case': 326, 'killer': 327, 'heart': 328, 'comment': 329, 'sort': 330, 'creat': 331, 'perhap': 332, 'came': 333, 'brother': 334, 'sever': 335, 'joke': 336, 'art': 337, 'dialogu': 338, 'game': 339, 'small': 340, 'base': 341, 'flick': 342, 'written': 343, 'sequenc': 344, 'meet': 345, 'earli': 346, 'often': 347, 'other': 348, 'mother': 349, 'develop': 350, 'humor': 351, 'actress': 352, 'consid': 353, 'dark': 354, 'guess': 355, 'amaz': 356, 'unfortun': 357, 'lost': 358, 'light': 359, 'exampl': 360, 'cinema': 361, 'drama': 362, 'ye': 363, 'white': 364, 'experi': 365, 'imagin': 366, 'mention': 367, 'stop': 368, 'natur': 369, 'forc': 370, 'manag': 371, 'felt': 372, 'cut': 373, 'present': 374, 'children': 375, 'fail': 376, 'son': 377, 'car': 378, 'qualiti': 379, 'support': 380, 'ask': 381, 'hit': 382, 'side': 383, 'voic': 384, 'extrem': 385, 'impress': 386, 'wors': 387, 'evil': 388, 'stand': 389, 'went': 390, 'certainli': 391, 'basic': 392, 'oh': 393, 'overal': 394, 'favorit': 395, 'horribl': 396, 'mysteri': 397, 'number': 398, 'type': 399, 'danc': 400, 'wait': 401, 'hero': 402, '5': 403, 'alreadi': 404, 'learn': 405, 'matter': 406, '4': 407, 'michael': 408, 'genr': 409, 'fine': 410, 'despit': 411, 'throughout': 412, 'walk': 413, 'success': 414, 'histori': 415, 'question': 416, 'zombi': 417, 'town': 418, 'realiz': 419, 'relationship': 420, 'child': 421, 'past': 422, 'daughter': 423, 'late': 424, 'b': 425, 'wish': 426, 'hate': 427, 'credit': 428, 'event': 429, 'theme': 430, 'touch': 431, 'citi': 432, 'today': 433, 'sometim': 434, 'behind': 435, 'god': 436, 'twist': 437, 'sit': 438, 'annoy': 439, 'deal': 440, 'stay': 441, 'abl': 442, 'rent': 443, 'pleas': 444, 'edit': 445, 'blood': 446, 'deserv': 447, 'comic': 448, 'anyway': 449, 'appar': 450, 'soon': 451, 'gave': 452, 'etc': 453, 'level': 454, 'slow': 455, 'chanc': 456, 'score': 457, 'bodi': 458, 'brilliant': 459, 'incred': 460, 'figur': 461, 'situat': 462, 'self': 463, 'major': 464, 'stuff': 465, 'decent': 466, 'element': 467, 'dream': 468, 'return': 469, 'obvious': 470, 'continu': 471, 'order': 472, 'pace': 473, 'ridicul': 474, 'happi': 475, 'group': 476, 'highli': 477, 'add': 478, 'thank': 479, 'ladi': 480, 'novel': 481, 'speak': 482, 'pain': 483, 'career': 484, 'shoot': 485, 'strang': 486, 'heard': 487, 'sad': 488, 'polic': 489, 'husband': 490, 'import': 491, 'break': 492, 'took': 493, 'cannot': 494, 'strong': 495, 'predict': 496, 'robert': 497, 'violenc': 498, 'hilari': 499, 'recent': 500, 'countri': 501, 'known': 502, 'particularli': 503, 'pick': 504, 'documentari': 505, 'season': 506, 'critic': 507, 'jame': 508, 'compar': 509, 'obviou': 510, 'alon': 511, 'told': 512, 'state': 513, 'rock': 514, 'visual': 515, 'exist': 516, 'theater': 517, 'offer': 518, 'opinion': 519, 'gore': 520, 'hold': 521, 'crap': 522, 'result': 523, 'realiti': 524, 'room': 525, 'hear': 526, 'effort': 527, 'clich': 528, 'thriller': 529, 'caus': 530, 'serious': 531, 'explain': 532, 'sequel': 533, 'king': 534, 'local': 535, 'ago': 536, 'none': 537, 'hell': 538, 'note': 539, 'allow': 540, 'sister': 541, 'david': 542, 'simpl': 543, 'femal': 544, 'deliv': 545, 'ok': 546, 'convinc': 547, 'class': 548, 'check': 549, 'suspens': 550, 'win': 551, 'oscar': 552, 'buy': 553, 'huge': 554, 'valu': 555, 'sexual': 556, 'cool': 557, 'scari': 558, 'excit': 559, 'similar': 560, 'exactli': 561, 'provid': 562, 'apart': 563, 'shown': 564, 'avoid': 565, 'seriou': 566, 'english': 567, 'taken': 568, 'whose': 569, 'cinematographi': 570, 'shock': 571, 'polit': 572, 'spoiler': 573, 'offic': 574, 'across': 575, 'middl': 576, 'street': 577, 'pass': 578, 'messag': 579, 'silli': 580, 'charm': 581, 'somewhat': 582, 'modern': 583, 'filmmak': 584, 'confus': 585, 'form': 586, 'tale': 587, 'singl': 588, 'jack': 589, 'mostli': 590, 'attent': 591, 'carri': 592, 'william': 593, 'sing': 594, 'subject': 595, 'five': 596, 'prove': 597, 'richard': 598, 'team': 599, 'stage': 600, 'unlik': 601, 'cop': 602, 'georg': 603, 'televis': 604, 'monster': 605, 'earth': 606, 'villain': 607, 'cover': 608, 'pay': 609, 'marri': 610, 'toward': 611, 'build': 612, 'parent': 613, 'pull': 614, 'due': 615, 'fill': 616, 'respect': 617, 'dialog': 618, 'four': 619, 'remind': 620, 'futur': 621, 'weak': 622, 'typic': 623, '7': 624, 'cheap': 625, 'intellig': 626, 'british': 627, 'atmospher': 628, '80': 629, 'clearli': 630, 'non': 631, 'paul': 632, 'dog': 633, 'fast': 634, '8': 635, 'knew': 636, 'artist': 637, 'crime': 638, 'easili': 639, 'escap': 640, 'doubt': 641, 'adult': 642, 'detail': 643, 'date': 644, 'romant': 645, 'fire': 646, 'member': 647, 'drive': 648, 'gun': 649, 'straight': 650, 'beyond': 651, 'fit': 652, 'attack': 653, 'imag': 654, 'upon': 655, 'posit': 656, 'whether': 657, 'fantast': 658, 'peter': 659, 'aspect': 660, 'captur': 661, 'appreci': 662, 'ten': 663, 'plan': 664, 'discov': 665, 'remain': 666, 'near': 667, 'period': 668, 'air': 669, 'realist': 670, 'mark': 671, 'red': 672, 'dull': 673, 'adapt': 674, 'within': 675, 'spend': 676, 'lose': 677, 'color': 678, 'materi': 679, 'chase': 680, 'mari': 681, 'storylin': 682, 'forget': 683, 'bunch': 684, 'clear': 685, 'lee': 686, 'victim': 687, 'nearli': 688, 'box': 689, 'york': 690, 'inspir': 691, 'match': 692, 'finish': 693, 'mess': 694, 'standard': 695, 'easi': 696, 'truth': 697, 'busi': 698, 'suffer': 699, 'dramat': 700, 'space': 701, 'bill': 702, 'western': 703, 'e': 704, 'list': 705, 'battl': 706, 'notic': 707, 'de': 708, 'french': 709, 'ad': 710, '9': 711, 'tom': 712, 'larg': 713, 'among': 714, 'eventu': 715, 'train': 716, 'accept': 717, 'agre': 718, 'spirit': 719, 'soundtrack': 720, 'third': 721, 'teenag': 722, 'soldier': 723, 'adventur': 724, 'sorri': 725, 'famou': 726, 'drug': 727, 'suggest': 728, 'normal': 729, 'cri': 730, 'babi': 731, 'ultim': 732, 'troubl': 733, 'contain': 734, 'certain': 735, 'cultur': 736, 'romanc': 737, 'rare': 738, 'lame': 739, 'somehow': 740, 'mix': 741, 'disney': 742, 'gone': 743, 'cartoon': 744, 'student': 745, 'reveal': 746, 'fear': 747, 'kept': 748, 'suck': 749, 'attract': 750, 'appeal': 751, 'premis': 752, 'design': 753, 'greatest': 754, 'secret': 755, 'shame': 756, 'throw': 757, 'scare': 758, 'copi': 759, 'wit': 760, 'america': 761, 'admit': 762, 'relat': 763, 'particular': 764, 'brought': 765, 'screenplay': 766, 'whatev': 767, 'pure': 768, '70': 769, 'harri': 770, 'averag': 771, 'master': 772, 'describ': 773, 'male': 774, 'treat': 775, '20': 776, 'fantasi': 777, 'issu': 778, 'warn': 779, 'inde': 780, 'forward': 781, 'background': 782, 'project': 783, 'free': 784, 'japanes': 785, 'memor': 786, 'poorli': 787, 'award': 788, 'locat': 789, 'potenti': 790, 'amus': 791, 'struggl': 792, 'magic': 793, 'weird': 794, 'societi': 795, 'okay': 796, 'doctor': 797, 'imdb': 798, 'accent': 799, 'hot': 800, 'water': 801, '30': 802, 'alien': 803, 'dr': 804, 'express': 805, 'odd': 806, 'crazi': 807, 'choic': 808, 'studio': 809, 'fiction': 810, 'control': 811, 'becam': 812, 'masterpiec': 813, 'difficult': 814, 'fli': 815, 'joe': 816, 'scream': 817, 'costum': 818, 'lover': 819, 'refer': 820, 'uniqu': 821, 'remak': 822, 'girlfriend': 823, 'vampir': 824, 'prison': 825, 'execut': 826, 'wear': 827, 'jump': 828, 'wood': 829, 'unless': 830, 'creepi': 831, 'cheesi': 832, 'superb': 833, 'otherwis': 834, 'parti': 835, 'ghost': 836, 'roll': 837, 'public': 838, 'mad': 839, 'depict': 840, 'moral': 841, 'earlier': 842, 'week': 843, 'badli': 844, 'jane': 845, 'dumb': 846, 'fi': 847, 'flaw': 848, 'grow': 849, 'deep': 850, 'sci': 851, 'cat': 852, 'maker': 853, 'footag': 854, 'connect': 855, 'older': 856, 'bother': 857, 'plenti': 858, 'outsid': 859, 'stick': 860, 'gay': 861, 'catch': 862, 'co': 863, 'plu': 864, 'popular': 865, 'equal': 866, 'social': 867, 'disturb': 868, 'quickli': 869, 'perfectli': 870, 'dress': 871, 'era': 872, '90': 873, 'mistak': 874, 'lie': 875, 'ride': 876, 'previou': 877, 'combin': 878, 'concept': 879, 'band': 880, 'answer': 881, 'surviv': 882, 'rich': 883, 'front': 884, 'sweet': 885, 'christma': 886, 'insid': 887, 'eat': 888, 'bare': 889, 'concern': 890, 'listen': 891, 'ben': 892, 'beat': 893, 'c': 894, 'term': 895, 'serv': 896, 'german': 897, 'la': 898, 'meant': 899, 'hardli': 900, 'stereotyp': 901, 'innoc': 902, 'law': 903, 'desper': 904, 'memori': 905, 'promis': 906, 'intent': 907, 'cute': 908, 'steal': 909, 'inform': 910, 'variou': 911, 'brain': 912, 'post': 913, 'tone': 914, 'island': 915, 'amount': 916, 'track': 917, 'nuditi': 918, 'compani': 919, 'store': 920, 'claim': 921, '50': 922, 'hair': 923, 'flat': 924, 'univers': 925, 'land': 926, 'scott': 927, 'fairli': 928, 'danger': 929, 'kick': 930, 'player': 931, 'plain': 932, 'step': 933, 'crew': 934, 'toni': 935, 'share': 936, 'tast': 937, 'centuri': 938, 'engag': 939, 'achiev': 940, 'travel': 941, 'cold': 942, 'record': 943, 'rip': 944, 'suit': 945, 'manner': 946, 'sadli': 947, 'tension': 948, 'spot': 949, 'wrote': 950, 'fascin': 951, 'intens': 952, 'familiar': 953, 'depth': 954, 'burn': 955, 'remark': 956, 'histor': 957, 'destroy': 958, 'sleep': 959, 'purpos': 960, 'languag': 961, 'ignor': 962, 'ruin': 963, 'delight': 964, 'italian': 965, 'unbeliev': 966, 'collect': 967, 'abil': 968, 'soul': 969, 'clever': 970, 'detect': 971, 'violent': 972, 'rape': 973, 'reach': 974, 'door': 975, 'liter': 976, 'scienc': 977, 'trash': 978, 'caught': 979, 'reveng': 980, 'commun': 981, 'creatur': 982, 'approach': 983, 'trip': 984, 'fashion': 985, 'intrigu': 986, 'skill': 987, 'paint': 988, 'introduc': 989, 'complex': 990, 'channel': 991, 'camp': 992, 'christian': 993, 'hole': 994, 'extra': 995, 'immedi': 996, 'limit': 997, 'mental': 998, 'ann': 999, '6': 1000, 'mere': 1001, 'slightli': 1002, 'comput': 1003, 'million': 1004, 'slasher': 1005, 'conclus': 1006, 'imposs': 1007, 'suddenli': 1008, 'crimin': 1009, 'teen': 1010, 'neither': 1011, 'physic': 1012, 'spent': 1013, 'nation': 1014, 'respons': 1015, 'planet': 1016, 'receiv': 1017, 'fake': 1018, 'blue': 1019, 'sick': 1020, 'bizarr': 1021, 'embarrass': 1022, 'indian': 1023, '15': 1024, 'ring': 1025, 'drop': 1026, 'pop': 1027, 'drag': 1028, 'haunt': 1029, 'pointless': 1030, 'suspect': 1031, 'edg': 1032, 'search': 1033, 'handl': 1034, 'common': 1035, 'biggest': 1036, 'faith': 1037, 'hurt': 1038, 'arriv': 1039, 'technic': 1040, 'angel': 1041, 'genuin': 1042, 'dad': 1043, 'f': 1044, 'solid': 1045, 'awesom': 1046, 'former': 1047, 'focu': 1048, 'colleg': 1049, 'van': 1050, 'count': 1051, 'heavi': 1052, 'tear': 1053, 'rais': 1054, 'wall': 1055, 'laughabl': 1056, 'visit': 1057, 'younger': 1058, 'fair': 1059, 'sign': 1060, 'excus': 1061, 'cult': 1062, 'motion': 1063, 'tough': 1064, 'key': 1065, 'desir': 1066, 'super': 1067, 'stun': 1068, 'addit': 1069, 'exploit': 1070, 'cloth': 1071, 'tortur': 1072, 'smith': 1073, 'davi': 1074, 'race': 1075, 'cross': 1076, 'author': 1077, 'jim': 1078, 'compel': 1079, 'focus': 1080, 'consist': 1081, 'minor': 1082, 'commit': 1083, 'chemistri': 1084, 'pathet': 1085, 'park': 1086, 'frank': 1087, 'obsess': 1088, 'tradit': 1089, 'grade': 1090, 'asid': 1091, '60': 1092, 'brutal': 1093, 'steve': 1094, 'somewher': 1095, 'rule': 1096, 'u': 1097, 'opportun': 1098, 'grant': 1099, 'depress': 1100, 'explor': 1101, 'besid': 1102, 'honest': 1103, 'anti': 1104, 'dub': 1105, 'trailer': 1106, 'intend': 1107, 'bar': 1108, 'scientist': 1109, 'west': 1110, 'longer': 1111, 'regard': 1112, 'judg': 1113, 'decad': 1114, 'silent': 1115, 'armi': 1116, 'creativ': 1117, 'wild': 1118, 'g': 1119, 'south': 1120, 'stewart': 1121, 'draw': 1122, 'road': 1123, 'govern': 1124, 'boss': 1125, 'ex': 1126, 'practic': 1127, 'club': 1128, 'festiv': 1129, 'gang': 1130, 'motiv': 1131, 'surprisingli': 1132, 'london': 1133, 'page': 1134, 'green': 1135, 'redeem': 1136, 'militari': 1137, 'aliv': 1138, 'machin': 1139, 'display': 1140, 'idiot': 1141, 'repeat': 1142, 'thrill': 1143, '100': 1144, 'nobodi': 1145, 'folk': 1146, 'yeah': 1147, '40': 1148, 'journey': 1149, 'garbag': 1150, 'ground': 1151, 'tire': 1152, 'smile': 1153, 'bought': 1154, 'mood': 1155, 'cost': 1156, 'sam': 1157, 'stone': 1158, 'mouth': 1159, 'noir': 1160, 'agent': 1161, 'terrif': 1162, 'utterli': 1163, 'requir': 1164, 'honestli': 1165, 'sexi': 1166, 'area': 1167, 'geniu': 1168, 'report': 1169, 'enter': 1170, 'investig': 1171, 'glad': 1172, 'humour': 1173, 'serial': 1174, 'occasion': 1175, 'passion': 1176, 'narr': 1177, 'marriag': 1178, 'climax': 1179, 'industri': 1180, 'studi': 1181, 'nowher': 1182, 'center': 1183, 'ship': 1184, 'charli': 1185, 'demon': 1186, 'bear': 1187, 'loos': 1188, 'hors': 1189, 'hang': 1190, 'wow': 1191, 'graphic': 1192, 'admir': 1193, 'giant': 1194, 'send': 1195, 'damn': 1196, 'loud': 1197, 'nake': 1198, 'rel': 1199, 'subtl': 1200, 'profession': 1201, 'blow': 1202, 'bottom': 1203, 'insult': 1204, 'batman': 1205, 'boyfriend': 1206, 'doubl': 1207, 'r': 1208, 'kelli': 1209, 'initi': 1210, 'frame': 1211, 'gem': 1212, 'opera': 1213, 'church': 1214, 'challeng': 1215, 'affect': 1216, 'cinemat': 1217, 'drawn': 1218, 'evid': 1219, 'nightmar': 1220, 'l': 1221, 'j': 1222, 'seek': 1223, 'fulli': 1224, 'essenti': 1225, 'conflict': 1226, 'arm': 1227, 'christoph': 1228, 'grace': 1229, 'wind': 1230, 'henri': 1231, 'narrat': 1232, 'assum': 1233, 'witch': 1234, 'push': 1235, 'hunt': 1236, 'chri': 1237, 'wise': 1238, 'repres': 1239, 'month': 1240, 'nomin': 1241, 'hide': 1242, 'sceneri': 1243, 'avail': 1244, 'affair': 1245, 'justic': 1246, 'bond': 1247, 'smart': 1248, 'thu': 1249, 'flashback': 1250, 'outstand': 1251, 'interview': 1252, 'satisfi': 1253, 'presenc': 1254, 'constantli': 1255, 'bed': 1256, 'central': 1257, 'sell': 1258, 'content': 1259, 'iron': 1260, 'gag': 1261, 'everybodi': 1262, 'hotel': 1263, 'slowli': 1264, 'hire': 1265, 'system': 1266, 'hey': 1267, 'adam': 1268, 'charl': 1269, 'thrown': 1270, 'individu': 1271, 'mediocr': 1272, 'jone': 1273, 'allen': 1274, 'lesson': 1275, 'ray': 1276, 'billi': 1277, 'cameo': 1278, 'photographi': 1279, 'fellow': 1280, 'pari': 1281, 'strike': 1282, 'brief': 1283, 'rise': 1284, 'absurd': 1285, 'independ': 1286, 'neg': 1287, 'phone': 1288, 'impact': 1289, 'ill': 1290, 'born': 1291, 'model': 1292, 'fresh': 1293, 'spoil': 1294, 'angl': 1295, 'abus': 1296, 'likabl': 1297, 'hill': 1298, 'discuss': 1299, 'ahead': 1300, 'sight': 1301, 'sent': 1302, 'photograph': 1303, 'logic': 1304, 'occur': 1305, 'shine': 1306, 'blame': 1307, 'bruce': 1308, 'mainli': 1309, 'forev': 1310, 'skip': 1311, 'commerci': 1312, 'surround': 1313, 'segment': 1314, 'teacher': 1315, 'held': 1316, 'blond': 1317, 'zero': 1318, 'summer': 1319, 'resembl': 1320, 'satir': 1321, 'trap': 1322, 'fool': 1323, 'ball': 1324, 'queen': 1325, 'six': 1326, 'sub': 1327, 'twice': 1328, 'tragedi': 1329, 'pack': 1330, 'reaction': 1331, 'bomb': 1332, 'protagonist': 1333, 'will': 1334, 'hospit': 1335, 'sport': 1336, 'mile': 1337, 'vote': 1338, 'drink': 1339, 'trust': 1340, 'mom': 1341, 'jerri': 1342, 'encount': 1343, 'plane': 1344, 'program': 1345, 'station': 1346, 'al': 1347, 'current': 1348, 'martin': 1349, 'celebr': 1350, 'choos': 1351, 'join': 1352, 'tragic': 1353, 'favourit': 1354, 'lord': 1355, 'round': 1356, 'field': 1357, 'jean': 1358, 'vision': 1359, 'robot': 1360, 'tie': 1361, 'arthur': 1362, 'fortun': 1363, 'roger': 1364, 'random': 1365, 'psycholog': 1366, 'intern': 1367, 'dread': 1368, 'prefer': 1369, 'nonsens': 1370, 'improv': 1371, 'epic': 1372, 'legend': 1373, 'formula': 1374, 'pleasur': 1375, 'highlight': 1376, 'tape': 1377, '11': 1378, 'dollar': 1379, 'porn': 1380, 'wide': 1381, 'thin': 1382, 'object': 1383, 'fox': 1384, 'gorgeou': 1385, 'ugli': 1386, 'influenc': 1387, 'buddi': 1388, 'ii': 1389, 'prepar': 1390, 'nasti': 1391, 'supposedli': 1392, 'progress': 1393, 'warm': 1394, 'reflect': 1395, 'youth': 1396, 'worthi': 1397, 'length': 1398, 'unusu': 1399, 'latter': 1400, 'crash': 1401, 'childhood': 1402, 'superior': 1403, 'seven': 1404, 'shop': 1405, 'remot': 1406, 'theatr': 1407, 'pilot': 1408, 'disgust': 1409, 'paid': 1410, 'funniest': 1411, 'fell': 1412, 'convers': 1413, 'trick': 1414, 'castl': 1415, 'gangster': 1416, 'establish': 1417, 'rob': 1418, 'disast': 1419, 'ident': 1420, 'disappear': 1421, 'mine': 1422, 'heaven': 1423, 'suicid': 1424, 'decis': 1425, 'heroin': 1426, 'tend': 1427, 'forgotten': 1428, 'mask': 1429, 'singer': 1430, 'partner': 1431, 'brian': 1432, 'alan': 1433, 'desert': 1434, 'recogn': 1435, 'stuck': 1436, 'thoroughli': 1437, 'p': 1438, 'sky': 1439, 'ms': 1440, 'replac': 1441, 'accur': 1442, 'market': 1443, 'clue': 1444, 'seemingli': 1445, 'eddi': 1446, 'andi': 1447, 'commentari': 1448, 'danni': 1449, 'uncl': 1450, 'jackson': 1451, 'devil': 1452, 'pair': 1453, 'therefor': 1454, 'refus': 1455, 'that': 1456, 'ed': 1457, 'fate': 1458, 'accid': 1459, 'river': 1460, 'fault': 1461, 'unit': 1462, 'tune': 1463, 'afraid': 1464, 'stephen': 1465, 'clean': 1466, 'hidden': 1467, 'russian': 1468, 'quick': 1469, 'test': 1470, 'instanc': 1471, 'irrit': 1472, 'convey': 1473, 'readi': 1474, 'captain': 1475, 'european': 1476, 'frustrat': 1477, 'daniel': 1478, 'insan': 1479, 'food': 1480, 'wed': 1481, 'rescu': 1482, 'chines': 1483, '1950': 1484, 'dirti': 1485, 'lock': 1486, 'angri': 1487, 'joy': 1488, 'price': 1489, 'steven': 1490, 'cage': 1491, 'bland': 1492, 'anymor': 1493, 'rang': 1494, 'wooden': 1495, 'rush': 1496, 'n': 1497, 'news': 1498, 'jason': 1499, 'worri': 1500, 'led': 1501, 'twenti': 1502, 'board': 1503, 'martial': 1504, '12': 1505, 'cgi': 1506, 'hunter': 1507, 'symbol': 1508, 'transform': 1509, 'onto': 1510, 'johnni': 1511, 'x': 1512, 'invent': 1513, 'sentiment': 1514, 'piti': 1515, 'attitud': 1516, 'explan': 1517, 'process': 1518, 'owner': 1519, 'awar': 1520, 'aim': 1521, 'favor': 1522, 'necessari': 1523, 'floor': 1524, 'energi': 1525, 'target': 1526, 'opposit': 1527, 'religi': 1528, 'insight': 1529, 'window': 1530, 'chick': 1531, 'blind': 1532, 'movement': 1533, 'research': 1534, 'possess': 1535, 'comparison': 1536, 'deepli': 1537, 'mountain': 1538, 'grand': 1539, 'whatsoev': 1540, 'comed': 1541, 'rain': 1542, 'began': 1543, 'shadow': 1544, 'bank': 1545, 'mid': 1546, 'parodi': 1547, 'princ': 1548, 'credibl': 1549, 'friendship': 1550, 'weapon': 1551, 'taylor': 1552, 'pre': 1553, 'flesh': 1554, 'dougla': 1555, 'teach': 1556, 'terror': 1557, 'hint': 1558, 'protect': 1559, 'bloodi': 1560, 'marvel': 1561, 'watchabl': 1562, 'drunk': 1563, 'anybodi': 1564, 'leader': 1565, 'load': 1566, 'accord': 1567, 'superman': 1568, 'freddi': 1569, 'brown': 1570, 'seat': 1571, 'tim': 1572, 'appropri': 1573, 'jeff': 1574, 'hitler': 1575, 'unknown': 1576, 'knock': 1577, 'charg': 1578, 'villag': 1579, 'keaton': 1580, 'enemi': 1581, 'unnecessari': 1582, 'empti': 1583, 'media': 1584, 'england': 1585, 'craft': 1586, 'dare': 1587, 'utter': 1588, 'strength': 1589, 'perspect': 1590, 'buck': 1591, 'wave': 1592, 'correct': 1593, 'nativ': 1594, 'contrast': 1595, 'ford': 1596, 'kiss': 1597, 'magnific': 1598, 'nazi': 1599, 'knowledg': 1600, 'chill': 1601, 'distract': 1602, 'anywher': 1603, 'soap': 1604, 'speed': 1605, 'breath': 1606, 'mission': 1607, 'fred': 1608, 'ice': 1609, '1980': 1610, 'jr': 1611, 'joan': 1612, 'crowd': 1613, 'moon': 1614, 'soft': 1615, '000': 1616, 'kate': 1617, 'frighten': 1618, 'dick': 1619, 'nick': 1620, 'dan': 1621, 'hundr': 1622, 'radio': 1623, 'dozen': 1624, 'simon': 1625, 'somebodi': 1626, 'shakespear': 1627, 'academi': 1628, 'loss': 1629, 'thousand': 1630, 'andrew': 1631, 'quot': 1632, 'root': 1633, 'vehicl': 1634, 'sum': 1635, 'account': 1636, 'leg': 1637, 'convent': 1638, 'behavior': 1639, '1970': 1640, 'regular': 1641, 'gold': 1642, 'worker': 1643, 'pretenti': 1644, 'demand': 1645, 'compet': 1646, 'notabl': 1647, 'interpret': 1648, 'stretch': 1649, 'explos': 1650, 'candi': 1651, 'privat': 1652, 'japan': 1653, 'lynch': 1654, 'debut': 1655, 'constant': 1656, 'tarzan': 1657, 'revolv': 1658, 'prais': 1659, 'spi': 1660, 'translat': 1661, 'sea': 1662, 'failur': 1663, 'jesu': 1664, 'quiet': 1665, 'technolog': 1666, 'threaten': 1667, 'ass': 1668, 'sat': 1669, 'franc': 1670, 'aid': 1671, 'met': 1672, 'punch': 1673, 'higher': 1674, 'kevin': 1675, 'toy': 1676, 'interact': 1677, 'mike': 1678, 'abandon': 1679, 'vh': 1680, 'command': 1681, 'separ': 1682, 'confront': 1683, 'bet': 1684, 'servic': 1685, 'recal': 1686, 'gotten': 1687, 'belong': 1688, 'techniqu': 1689, 'site': 1690, 'stunt': 1691, 'bug': 1692, 'freak': 1693, 'cabl': 1694, 'foot': 1695, 'capabl': 1696, 'african': 1697, 'jimmi': 1698, 'fu': 1699, 'bright': 1700, 'succeed': 1701, 'presid': 1702, 'fat': 1703, 'boat': 1704, 'stock': 1705, 'clark': 1706, 'structur': 1707, 'spanish': 1708, 'gene': 1709, 'kidnap': 1710, 'paper': 1711, 'factor': 1712, 'belief': 1713, 'whilst': 1714, 'realism': 1715, 'witti': 1716, 'educ': 1717, 'tree': 1718, 'realis': 1719, 'complic': 1720, 'bob': 1721, 'attend': 1722, 'assist': 1723, 'broken': 1724, 'finest': 1725, 'santa': 1726, 'up': 1727, 'determin': 1728, 'observ': 1729, 'depart': 1730, 'smoke': 1731, 'v': 1732, 'hat': 1733, 'rubbish': 1734, 'domin': 1735, 'fame': 1736, 'routin': 1737, 'oper': 1738, 'lewi': 1739, 'morgan': 1740, 'safe': 1741, 'kinda': 1742, 'foreign': 1743, 'lone': 1744, 'advanc': 1745, 'hook': 1746, 'numer': 1747, 'rank': 1748, 'vs': 1749, 'civil': 1750, 'rose': 1751, 'washington': 1752, 'shape': 1753, 'shallow': 1754, 'werewolf': 1755, 'gari': 1756, 'morn': 1757, 'ordinari': 1758, 'winner': 1759, 'accomplish': 1760, 'kong': 1761, 'virtual': 1762, 'whenev': 1763, 'peac': 1764, 'grab': 1765, 'offens': 1766, 'luck': 1767, 'h': 1768, 'complain': 1769, 'welcom': 1770, 'bigger': 1771, 'contriv': 1772, 'activ': 1773, 'patient': 1774, 'unfunni': 1775, 'con': 1776, 'trek': 1777, 'dimension': 1778, 'pretend': 1779, 'dri': 1780, 'flash': 1781, 'eric': 1782, 'lesbian': 1783, 'code': 1784, 'cain': 1785, 'wake': 1786, 'statu': 1787, 'manipul': 1788, 'dancer': 1789, 'guard': 1790, 'corrupt': 1791, 'albert': 1792, 'gain': 1793, 'signific': 1794, 'context': 1795, 'sourc': 1796, 'speech': 1797, 'awkward': 1798, 'clip': 1799, 'psycho': 1800, 'corni': 1801, '13': 1802, 'sean': 1803, 'anthoni': 1804, 'religion': 1805, 'theatric': 1806, 'advic': 1807, 'w': 1808, 'curiou': 1809, 'priest': 1810, 'reli': 1811, 'flow': 1812, 'addict': 1813, 'secur': 1814, 'jennif': 1815, 'specif': 1816, 'asian': 1817, 'howard': 1818, 'skin': 1819, 'core': 1820, 'comfort': 1821, 'luke': 1822, 'promot': 1823, 'organ': 1824, 'golden': 1825, 'cash': 1826, 'lucki': 1827, 'cheat': 1828, 'lower': 1829, 'associ': 1830, 'dislik': 1831, 'degre': 1832, 'frequent': 1833, 'balanc': 1834, 'devic': 1835, 'spell': 1836, 'contribut': 1837, 'regret': 1838, 'frankli': 1839, 'wing': 1840, 'lake': 1841, 'forgiv': 1842, 'print': 1843, 'sake': 1844, 'thoma': 1845, 'betti': 1846, 'mass': 1847, 'gordon': 1848, 'unexpect': 1849, 'crack': 1850, 'amateur': 1851, 'categori': 1852, 'invit': 1853, 'depend': 1854, 'unfold': 1855, 'grown': 1856, 'construct': 1857, 'intellectu': 1858, 'walter': 1859, 'grew': 1860, 'anna': 1861, 'matur': 1862, 'honor': 1863, 'condit': 1864, 'sudden': 1865, 'mirror': 1866, 'spectacular': 1867, 'sole': 1868, 'veteran': 1869, 'liner': 1870, 'experienc': 1871, 'overli': 1872, 'grip': 1873, 'demonstr': 1874, 'freedom': 1875, 'card': 1876, 'meanwhil': 1877, 'robin': 1878, 'gift': 1879, 'section': 1880, 'subtitl': 1881, 'circumst': 1882, 'drew': 1883, 'sheriff': 1884, 'brilliantli': 1885, 'theori': 1886, 'crappi': 1887, 'colour': 1888, 'oliv': 1889, 'unabl': 1890, 'parker': 1891, 'altern': 1892, 'laughter': 1893, 'path': 1894, 'pile': 1895, 'sheer': 1896, 'cook': 1897, 'matt': 1898, 'relief': 1899, 'wander': 1900, 'defin': 1901, 'lawyer': 1902, 'hall': 1903, 'sinatra': 1904, 'accident': 1905, 'treatment': 1906, 'hank': 1907, 'dragon': 1908, 'captiv': 1909, 'gratuit': 1910, 'moor': 1911, 'halloween': 1912, 'wound': 1913, 'barbara': 1914, 'wayn': 1915, 'kung': 1916, 'cowboy': 1917, 'k': 1918, 'jacki': 1919, 'unintent': 1920, 'broadway': 1921, 'surreal': 1922, 'statement': 1923, 'winter': 1924, 'canadian': 1925, 'spoof': 1926, 'treasur': 1927, 'fare': 1928, 'compos': 1929, 'fish': 1930, 'gonna': 1931, 'cheer': 1932, 'sensit': 1933, 'emerg': 1934, 'unrealist': 1935, 'woodi': 1936, 'victor': 1937, 'ran': 1938, 'sympathet': 1939, 'driven': 1940, 'neighbor': 1941, 'expos': 1942, 'authent': 1943, 'menac': 1944, 'glass': 1945, 'topic': 1946, 'overlook': 1947, 'gross': 1948, 'handsom': 1949, 'michel': 1950, 'chief': 1951, 'ancient': 1952, 'pleasant': 1953, 'stranger': 1954, 'network': 1955, 'feet': 1956, 'built': 1957, 'cinderella': 1958, 'nevertheless': 1959, 'russel': 1960, 'contemporari': 1961, 'comedian': 1962, 'earn': 1963, 'endless': 1964, 'miser': 1965, 'gori': 1966, 'blockbust': 1967, 'consider': 1968, 'underr': 1969, 'letter': 1970, 'switch': 1971, 'brook': 1972, 'solv': 1973, 'convict': 1974, 'edward': 1975, 'bullet': 1976, 'virgin': 1977, 'joseph': 1978, 'victoria': 1979, '0': 1980, 'chosen': 1981, 'scenario': 1982, 'scale': 1983, 'alex': 1984, 'cynic': 1985, 'com': 1986, 'curs': 1987, 'gut': 1988, 'sword': 1989, 'outrag': 1990, 'driver': 1991, 'monkey': 1992, 'wrap': 1993, 'screenwrit': 1994, 'proper': 1995, 'uk': 1996, 'substanc': 1997, 'juli': 1998, 'par': 1999, 'remov': 2000, 'court': 2001, 'indic': 2002, 'bird': 2003, 'loser': 2004, 'naiv': 2005, 'rental': 2006, 'consequ': 2007, 'roy': 2008, 'advertis': 2009, 'nanci': 2010, 'inevit': 2011, 'grave': 2012, 'bridg': 2013, 'germani': 2014, 'brave': 2015, 'le': 2016, 'slap': 2017, 'fatal': 2018, 'invis': 2019, 'provok': 2020, 'loui': 2021, 'footbal': 2022, 'ador': 2023, 'anger': 2024, 'anderson': 2025, 'chan': 2026, 'alcohol': 2027, 'stumbl': 2028, 'ryan': 2029, 'professor': 2030, 'willi': 2031, 'bat': 2032, 'australian': 2033, 'sharp': 2034, 'patrick': 2035, '1930': 2036, 'assassin': 2037, 'refresh': 2038, 'amateurish': 2039, 'liber': 2040, 'lousi': 2041, 'strongli': 2042, 'saturday': 2043, 'deni': 2044, 'eight': 2045, 'heck': 2046, 'cell': 2047, 'ape': 2048, 'trilog': 2049, 'sin': 2050, 'justifi': 2051, 'vagu': 2052, 'resid': 2053, 'san': 2054, 'reput': 2055, 'mini': 2056, 'indi': 2057, 'terrifi': 2058, 'defeat': 2059, 'creator': 2060, 'sympathi': 2061, 'tabl': 2062, 'task': 2063, 'tediou': 2064, 'expert': 2065, 'endur': 2066, 'prevent': 2067, 'basebal': 2068, 'trial': 2069, 'employ': 2070, 'imit': 2071, 'rival': 2072, 'offend': 2073, 'che': 2074, 'pitch': 2075, 'fairi': 2076, 'dig': 2077, 'max': 2078, 'complaint': 2079, 'weekend': 2080, 'beach': 2081, 'europ': 2082, 'murphi': 2083, 'risk': 2084, 'purchas': 2085, 'format': 2086, 'powel': 2087, 'titan': 2088, 'hype': 2089, 'harsh': 2090, 'nois': 2091, 'reminisc': 2092, 'bite': 2093, 'glimps': 2094, 'tini': 2095, 'fals': 2096, 'till': 2097, 'asleep': 2098, '14': 2099, 'prime': 2100, 'north': 2101, 'strip': 2102, 'texa': 2103, 'revel': 2104, 'descript': 2105, 'destruct': 2106, 'africa': 2107, 'semi': 2108, 'sitcom': 2109, 'arrest': 2110, 'spin': 2111, 'excess': 2112, 'surfac': 2113, 'inner': 2114, 'uninterest': 2115, 'massiv': 2116, 'controversi': 2117, 'argu': 2118, 'dinosaur': 2119, 'makeup': 2120, 'maintain': 2121, 'hitchcock': 2122, 'twin': 2123, 'ideal': 2124, 'kim': 2125, 'stare': 2126, 'expens': 2127, 'ludicr': 2128, 'melodrama': 2129, 'insist': 2130, 'reject': 2131, 'forest': 2132, 'atroci': 2133, 'supernatur': 2134, 'erot': 2135, 'ala': 2136, 'host': 2137, 'press': 2138, 'ga': 2139, 'nail': 2140, 'subplot': 2141, 'columbo': 2142, 'cant': 2143, 'dude': 2144, 'identifi': 2145, 'notch': 2146, 'presum': 2147, 'character': 2148, 'plagu': 2149, 'forgett': 2150, 'crude': 2151, 'closer': 2152, 'method': 2153, 'guest': 2154, 'princess': 2155, 'ear': 2156, 'lion': 2157, 'beast': 2158, 'landscap': 2159, 'foster': 2160, 'border': 2161, 'accus': 2162, 'bound': 2163, 'storytel': 2164, 'previous': 2165, 'damag': 2166, 'aunt': 2167, 'urban': 2168, 'jungl': 2169, 'birth': 2170, 'pacino': 2171, 'guid': 2172, 'doll': 2173, 'jess': 2174, 'propaganda': 2175, 'chose': 2176, 'nude': 2177, 'thirti': 2178, 'emma': 2179, 'mate': 2180, 'whoever': 2181, '25': 2182, 'mainstream': 2183, 'warrior': 2184, 'pet': 2185, 'friday': 2186, 'cooper': 2187, 'exact': 2188, 'upset': 2189, 'gritti': 2190, 'deadli': 2191, 'size': 2192, 'poster': 2193, 'merit': 2194, 'latest': 2195, 'warner': 2196, 'sun': 2197, 'popul': 2198, 'contact': 2199, 'citizen': 2200, 'blend': 2201, 'rough': 2202, 'ton': 2203, '1990': 2204, 'wilson': 2205, 'corps': 2206, 'settl': 2207, 'buff': 2208, 'contest': 2209, 'select': 2210, 'environ': 2211, 'alic': 2212, 'metal': 2213, 'bu': 2214, 'pitt': 2215, 'overcom': 2216, 'widow': 2217, 'mgm': 2218, 'rat': 2219, 'guilti': 2220, 'revolut': 2221, 'link': 2222, 'ted': 2223, 'lift': 2224, 'particip': 2225, 'exagger': 2226, '1960': 2227, 'prostitut': 2228, 'accompani': 2229, 'corpor': 2230, 'matrix': 2231, 'afternoon': 2232, 'moron': 2233, 'corner': 2234, 'johnson': 2235, 'multipl': 2236, 'doom': 2237, 'holm': 2238, 'leagu': 2239, 'instal': 2240, 'sincer': 2241, 'hood': 2242, 'clair': 2243, 'friendli': 2244, 'campi': 2245, 'string': 2246, 'advis': 2247, 'examin': 2248, 'irish': 2249, 'blah': 2250, 'aka': 2251, 'grim': 2252, 'junk': 2253, 'defend': 2254, 'hip': 2255, 'lugosi': 2256, 'sunday': 2257, 'shake': 2258, 'tight': 2259, 'varieti': 2260, 'pro': 2261, 'shut': 2262, 'confid': 2263, 'icon': 2264, 'rachel': 2265, 'goal': 2266, 'directli': 2267, 'denni': 2268, 'medic': 2269, 'sullivan': 2270, 'jaw': 2271, 'mexican': 2272, 'attach': 2273, 'truck': 2274, 'legendari': 2275, 'breast': 2276, 'terrorist': 2277, 'sentenc': 2278, 'courag': 2279, 'prior': 2280, 'dean': 2281, 'vietnam': 2282, 'bourn': 2283, 'sarah': 2284, 'duke': 2285, 'donald': 2286, 'un': 2287, 'yell': 2288, 'proceed': 2289, 'hong': 2290, 'entri': 2291, 'nose': 2292, 'behav': 2293, 'split': 2294, 'jerk': 2295, 'stolen': 2296, 'forth': 2297, 'confess': 2298, 'crush': 2299, 'unconvinc': 2300, 'lifetim': 2301, 'gather': 2302, 'everywher': 2303, 'concentr': 2304, 'swim': 2305, 'borrow': 2306, 'buri': 2307, 'pan': 2308, 'spite': 2309, 'julia': 2310, 'california': 2311, 'turkey': 2312, 'deliveri': 2313, 'lip': 2314, 'offici': 2315, 'quest': 2316, 'freeman': 2317, 'proud': 2318, 'reward': 2319, 'china': 2320, 'downright': 2321, 'flight': 2322, 'hoffman': 2323, 'inept': 2324, 'sink': 2325, 'lazi': 2326, 'fabul': 2327, 'sir': 2328, 'jail': 2329, 'notori': 2330, 'worthwhil': 2331, 'fade': 2332, 'betray': 2333, 'encourag': 2334, 'jon': 2335, 'shower': 2336, 'teeth': 2337, 'relev': 2338, 'storm': 2339, 'survivor': 2340, 'bag': 2341, 'cousin': 2342, 'bell': 2343, 'branagh': 2344, 'imageri': 2345, 'susan': 2346, 'retard': 2347, 'lisa': 2348, 'quirki': 2349, 'hugh': 2350, 'bride': 2351, 'mexico': 2352, 'toler': 2353, 'trade': 2354, 'shark': 2355, 'stab': 2356, 'summari': 2357, 'alright': 2358, 'facial': 2359, 'finger': 2360, 'tremend': 2361, 'bitter': 2362, 'ha': 2363, 'pose': 2364, 'von': 2365, 'blown': 2366, 'hyster': 2367, 'ron': 2368, 'scheme': 2369, 'bone': 2370, 'christ': 2371, 'cruel': 2372, 'larri': 2373, 'afterward': 2374, 'address': 2375, 'ned': 2376, 'snake': 2377, 'tour': 2378, 'beg': 2379, 'feed': 2380, 'swear': 2381, 'screw': 2382, 'thumb': 2383, 'distinct': 2384, 'pursu': 2385, 'traci': 2386, 'mechan': 2387, 'photo': 2388, 'raw': 2389, 'occas': 2390, 'obscur': 2391, 'chair': 2392, 'stomach': 2393, 'chain': 2394, 'resist': 2395, 'cabin': 2396, 'argument': 2397, 'render': 2398, 'necessarili': 2399, 'gruesom': 2400, 'heavili': 2401, 'southern': 2402, 'sidney': 2403, 'holiday': 2404, 'hardi': 2405, 'indulg': 2406, 'satan': 2407, 'understood': 2408, 'philip': 2409, 'india': 2410, 'racist': 2411, 'tongu': 2412, 'pregnant': 2413, 'midnight': 2414, 'fourth': 2415, 'outfit': 2416, 'lay': 2417, 'obnoxi': 2418, 'stalk': 2419, 'belov': 2420, 'forgot': 2421, 'integr': 2422, 'garden': 2423, 'deeper': 2424, 'magazin': 2425, 'slapstick': 2426, '17': 2427, 'ticket': 2428, 'inhabit': 2429, 'restor': 2430, 'carol': 2431, 'shoe': 2432, 'brad': 2433, 'devot': 2434, 'lincoln': 2435, 'incid': 2436, 'underground': 2437, 'disbelief': 2438, 'guarante': 2439, 'lili': 2440, 'elizabeth': 2441, 'anticip': 2442, 'benefit': 2443, 'divorc': 2444, 'maria': 2445, 'sandler': 2446, 'princip': 2447, 'greater': 2448, 'mildli': 2449, 'cring': 2450, 'capit': 2451, 'amazingli': 2452, 'creation': 2453, 'bbc': 2454, 'explod': 2455, 'slave': 2456, 'halfway': 2457, 'extraordinari': 2458, 'funnier': 2459, 'introduct': 2460, 'lesli': 2461, 'extent': 2462, 'enhanc': 2463, 'wreck': 2464, 'tap': 2465, 'text': 2466, 'overwhelm': 2467, 'advantag': 2468, 'transfer': 2469, 'punish': 2470, 'lo': 2471, 'horrif': 2472, 'preview': 2473, 'plant': 2474, 'deliber': 2475, 'jessica': 2476, 'error': 2477, 'dynam': 2478, 'lane': 2479, 'east': 2480, 'vacat': 2481, '2000': 2482, 'homosexu': 2483, 'sophist': 2484, 'miscast': 2485, 'appli': 2486, 'basi': 2487, 'ensu': 2488, 'miller': 2489, 'vincent': 2490, 'measur': 2491, 'steel': 2492, 'sleazi': 2493, 'via': 2494, 'mansion': 2495, 'spoken': 2496, 'reed': 2497, 'uncomfort': 2498, 'extend': 2499, 'elev': 2500, 'bollywood': 2501, 'dentist': 2502, 'goofi': 2503, 'alter': 2504, 'stanley': 2505, 'hippi': 2506, 'breathtak': 2507, 'assign': 2508, 'savag': 2509, 'melt': 2510, 'conceiv': 2511, 'fix': 2512, 'beer': 2513, 'daili': 2514, 'cathol': 2515, 'blair': 2516, 'overact': 2517, 'mous': 2518, 'properli': 2519, 'everyday': 2520, 'oppos': 2521, 'nowaday': 2522, 'carpent': 2523, 'subsequ': 2524, 'sacrific': 2525, 'succe': 2526, 'inspector': 2527, 'burt': 2528, 'block': 2529, 'neck': 2530, 'laura': 2531, 'massacr': 2532, 'circl': 2533, 'access': 2534, 'concert': 2535, 'portrait': 2536, 'mob': 2537, 'fay': 2538, 'lesser': 2539, 'seagal': 2540, 'grey': 2541, 'christi': 2542, 'fallen': 2543, 'pool': 2544, 'chees': 2545, 'isol': 2546, 'usa': 2547, 'sinist': 2548, 'competit': 2549, 'react': 2550, 'jake': 2551, 'jewish': 2552, 'relax': 2553, 'creep': 2554, 'appal': 2555, 'immens': 2556, '2006': 2557, 'suitabl': 2558, 'ironi': 2559, 'lyric': 2560, 'chop': 2561, 'stink': 2562, 'nonetheless': 2563, 'nine': 2564, 'spiritu': 2565, 'franchis': 2566, 'showcas': 2567, 'rage': 2568, 'nut': 2569, 'navi': 2570, 'spring': 2571, 'needless': 2572, 'sold': 2573, 'reduc': 2574, 'shirt': 2575, 'luci': 2576, 'retir': 2577, 'adopt': 2578, 'user': 2579, 'asham': 2580, 'zone': 2581, 'bulli': 2582, 'per': 2583, 'nurs': 2584, 'jay': 2585, 'bath': 2586, 'stanwyck': 2587, 'uninspir': 2588, 'digit': 2589, 'laid': 2590, 'sutherland': 2591, '1940': 2592, 'upper': 2593, 'amongst': 2594, '2001': 2595, 'illustr': 2596, 'broadcast': 2597, 'oddli': 2598, 'brando': 2599, 'throat': 2600, 'disguis': 2601, 'baker': 2602, 'aspir': 2603, 'fulfil': 2604, 'stylish': 2605, 'wanna': 2606, 'endear': 2607, 'nobl': 2608, 'neighborhood': 2609, 'pound': 2610, 'wwii': 2611, 'impli': 2612, 'pride': 2613, 'em': 2614, '18': 2615, 'thief': 2616, '16': 2617, 'dawn': 2618, 'distribut': 2619, 'albeit': 2620, 'shift': 2621, 'prop': 2622, 'cinematograph': 2623, 'shoulder': 2624, 'tens': 2625, 'bett': 2626, 'diseas': 2627, 'coher': 2628, 'rochest': 2629, 'dinner': 2630, 'bo': 2631, 'contract': 2632, 'matthau': 2633, 'silenc': 2634, 'knife': 2635, 'wash': 2636, 'forti': 2637, 'shout': 2638, 'function': 2639, 'poignant': 2640, 'snow': 2641, 'rebel': 2642, 'surf': 2643, 'henc': 2644, 'cannib': 2645, 'height': 2646, 'derek': 2647, 'cancel': 2648, 'chuck': 2649, 'mindless': 2650, 'heat': 2651, 'duti': 2652, 'silver': 2653, 'widmark': 2654, 'internet': 2655, 'proof': 2656, 'eeri': 2657, 'horrend': 2658, 'reunion': 2659, 'instinct': 2660, 'elvira': 2661, 'incoher': 2662, 'premier': 2663, 'absorb': 2664, 'torn': 2665, 'pie': 2666, 'greatli': 2667, 'glori': 2668, 'repetit': 2669, 'spielberg': 2670, 'innov': 2671, 'etern': 2672, 'neat': 2673, 'alik': 2674, 'elvi': 2675, 'mill': 2676, 'musician': 2677, 'racism': 2678, 'precis': 2679, 'nelson': 2680, 'infam': 2681, 'redempt': 2682, 'itali': 2683, 'wealthi': 2684, 'bang': 2685, 'lovabl': 2686, 'trite': 2687, 'britain': 2688, 'horrifi': 2689, 'fbi': 2690, 'crisi': 2691, 'announc': 2692, 'homag': 2693, 'diamond': 2694, 'blank': 2695, 'burton': 2696, 'resolut': 2697, 'parallel': 2698, 'wilder': 2699, 'happili': 2700, 'helen': 2701, 'streisand': 2702, 'dedic': 2703, 'ensembl': 2704, 'pat': 2705, 'hammer': 2706, 'chaplin': 2707, 'flop': 2708, 'plastic': 2709, 'st': 2710, 'mar': 2711, 'carter': 2712, 'oil': 2713, 'cube': 2714, 'triumph': 2715, 'disagre': 2716, 'broke': 2717, 'factori': 2718, 'conclud': 2719, 'own': 2720, 'vega': 2721, 'weight': 2722, 'bush': 2723, 'march': 2724, 'chuckl': 2725, 'row': 2726, 'climb': 2727, 'rocket': 2728, 'fighter': 2729, 'meaning': 2730, 'wherea': 2731, 'lust': 2732, 'spare': 2733, 'dane': 2734, 'enorm': 2735, 'luca': 2736, 'mst3k': 2737, 'boot': 2738, 'sensibl': 2739, 'unforgett': 2740, 'kurt': 2741, 'thug': 2742, 'dump': 2743, 'rap': 2744, 'brand': 2745, 'arnold': 2746, 'butt': 2747, 'caricatur': 2748, 'threat': 2749, 'difficulti': 2750, 'adequ': 2751, 'engin': 2752, 'dear': 2753, 'karloff': 2754, 'stress': 2755, 'bobbi': 2756, 'fifti': 2757, 'homeless': 2758, 'secretari': 2759, 'elabor': 2760, 'ego': 2761, 'hamlet': 2762, 'fest': 2763, 'swing': 2764, 'barri': 2765, 'journalist': 2766, 'ralph': 2767, 'polish': 2768, 'arrog': 2769, 'flynn': 2770, 'float': 2771, 'arrang': 2772, 'resort': 2773, 'induc': 2774, 'fanci': 2775, 'tool': 2776, 'unbear': 2777, 'grate': 2778, 'conspiraci': 2779, 'puppet': 2780, 'simpson': 2781, 'spike': 2782, 'phillip': 2783, 'basement': 2784, 'pig': 2785, 'guilt': 2786, 'tribut': 2787, 'boll': 2788, 'exercis': 2789, 'muppet': 2790, 'choreograph': 2791, 'cruis': 2792, 'item': 2793, 'editor': 2794, 'fianc': 2795, 'file': 2796, 'tower': 2797, 'layer': 2798, 'toilet': 2799, 'ward': 2800, 'slip': 2801, 'puzzl': 2802, 'medium': 2803, '24': 2804, 'korean': 2805, 'babe': 2806, 'ham': 2807, 'document': 2808, 'scarecrow': 2809, 'stan': 2810, 'inexplic': 2811, 'philosoph': 2812, 'catherin': 2813, 'minim': 2814, 'larger': 2815, 'persona': 2816, 'transit': 2817, 'doc': 2818, 'spark': 2819, 'glover': 2820, 'denzel': 2821, 'assur': 2822, 'portion': 2823, 'slaughter': 2824, 'librari': 2825, 'territori': 2826, 'superfici': 2827, 'orient': 2828, 'jet': 2829, 'owe': 2830, 'ban': 2831, 'shi': 2832, 'boredom': 2833, 'curti': 2834, 'walken': 2835, 'wolf': 2836, 'dorothi': 2837, 'sneak': 2838, 'pg': 2839, 'financi': 2840, 'jeremi': 2841, 'backdrop': 2842, 'ambigu': 2843, 'multi': 2844, 'metaphor': 2845, 'whale': 2846, 'cusack': 2847, 'hudson': 2848, 'profound': 2849, 'eleph': 2850, 'elsewher': 2851, '2005': 2852, 'hack': 2853, 'stiff': 2854, 'notion': 2855, 'rave': 2856, 'ultra': 2857, 'union': 2858, 'birthday': 2859, 'implaus': 2860, 'viru': 2861, 'gadget': 2862, 'poison': 2863, 'distanc': 2864, '1st': 2865, 'urg': 2866, 'newspap': 2867, 'pad': 2868, 'superhero': 2869, 'disc': 2870, 'canada': 2871, 'afford': 2872, 'deriv': 2873, 'lloyd': 2874, 'eastwood': 2875, 'bibl': 2876, 'eva': 2877, 'squar': 2878, 'reader': 2879, 'hawk': 2880, 'slight': 2881, 'spread': 2882, 'essenc': 2883, 'sadist': 2884, 'cure': 2885, 'huh': 2886, 'button': 2887, 'skit': 2888, 'charisma': 2889, 'montag': 2890, 'health': 2891, 'restaur': 2892, 'heston': 2893, 'drown': 2894, 'godfath': 2895, 'fetch': 2896, 'invest': 2897, 'gradual': 2898, 'maniac': 2899, 'lab': 2900, 'estat': 2901, 'peak': 2902, 'companion': 2903, 'dealt': 2904, 'muslim': 2905, 'scoobi': 2906, 'alli': 2907, 'countless': 2908, 'subtleti': 2909, 'cup': 2910, 'servant': 2911, 'tea': 2912, 'kane': 2913, 'ritter': 2914, 'gothic': 2915, 'miik': 2916, 'briefli': 2917, 'elect': 2918, 'iii': 2919, 'heroic': 2920, 'charismat': 2921, 'salli': 2922, 'electr': 2923, 'cole': 2924, 'ingredi': 2925, 'nuanc': 2926, 'wannab': 2927, 'admittedli': 2928, 'resourc': 2929, 'toss': 2930, 'tender': 2931, 'bud': 2932, 'reel': 2933, 'neil': 2934, 'grandmoth': 2935, 'kubrick': 2936, 'carrey': 2937, 'label': 2938, 'poverti': 2939, 'shall': 2940, 'gate': 2941, 'stronger': 2942, 'pit': 2943, 'reev': 2944, 'stood': 2945, 'mild': 2946, 'mafia': 2947, 'pauli': 2948, 'dawson': 2949, 'punk': 2950, 'smooth': 2951, 'easier': 2952, 'terri': 2953, 'tag': 2954, 'updat': 2955, 'astair': 2956, 'smash': 2957, 'useless': 2958, 'burst': 2959, 'outcom': 2960, 'cardboard': 2961, 'fond': 2962, 'cox': 2963, 'ian': 2964, 'assault': 2965, 'bakshi': 2966, 'rex': 2967, 'exchang': 2968, '2002': 2969, 'increasingli': 2970, 'coincid': 2971, 'vari': 2972, 'sketch': 2973, 'qualifi': 2974, 'resolv': 2975, 'samurai': 2976, 'vulner': 2977, 'divers': 2978, 'fist': 2979, 'melodramat': 2980, 'suspend': 2981, 'be': 2982, 'blast': 2983, 'reynold': 2984, 'templ': 2985, 'conveni': 2986, 'insert': 2987, 'tame': 2988, 'scratch': 2989, 'brillianc': 2990, 'luckili': 2991, 'meat': 2992, 'pin': 2993, 'coach': 2994, 'ambiti': 2995, 'jami': 2996, 'hamilton': 2997, 'matthew': 2998, 'nuclear': 2999, 'farm': 3000, 'soprano': 3001, 'fisher': 3002, 'walker': 3003, 'seventi': 3004, 'gotta': 3005, 'strictli': 3006, 'revers': 3007, 'struck': 3008, 'spooki': 3009, 'butcher': 3010, 'kudo': 3011, 'instantli': 3012, 'closet': 3013, 'grasp': 3014, 'empir': 3015, 'eccentr': 3016, 'cave': 3017, 'discoveri': 3018, 'timeless': 3019, 'worthless': 3020, 'ninja': 3021, 'monk': 3022, 'convolut': 3023, 'brosnan': 3024, 'clock': 3025, 'recreat': 3026, 'joey': 3027, 'sloppi': 3028, 'declar': 3029, 'pal': 3030, 'evok': 3031, 'wipe': 3032, 'norman': 3033, 'clown': 3034, 'eighti': 3035, 'mitchel': 3036, 'communist': 3037, 'bleak': 3038, 'miracl': 3039, 'inconsist': 3040, 'sidekick': 3041, 'importantli': 3042, 'cliff': 3043, 'fifteen': 3044, 'partli': 3045, 'gray': 3046, 'selfish': 3047, 'seller': 3048, '45': 3049, 'enthusiast': 3050, 'stoog': 3051, 'australia': 3052, 'seed': 3053, 'cheek': 3054, 'psychiatrist': 3055, 'lifestyl': 3056, 'piano': 3057, 'chew': 3058, 'flawless': 3059, 'aforement': 3060, 'ho': 3061, 'debat': 3062, 'destin': 3063, 'farc': 3064, 'websit': 3065, 'superbl': 3066, 'incompet': 3067, 'bash': 3068, 'wrestl': 3069, 'soviet': 3070, 'regardless': 3071, 'kitchen': 3072, 'pressur': 3073, 'slice': 3074, 'wick': 3075, 'drivel': 3076, 'abc': 3077, 'directori': 3078, 'dash': 3079, 'emili': 3080, 'splatter': 3081, 'anni': 3082, 'dire': 3083, 'akshay': 3084, 'cagney': 3085, 'suppli': 3086, 'prize': 3087, 'duo': 3088, 'increas': 3089, 'cia': 3090, 'judi': 3091, 'pleasantli': 3092, 'glow': 3093, 'seduc': 3094, 'artifici': 3095, 'chapter': 3096, 'doo': 3097, 'helicopt': 3098, 'distant': 3099, 'cameron': 3100, 'blob': 3101, 'recov': 3102, 'mann': 3103, 'lou': 3104, 'jar': 3105, 'ken': 3106, 'dave': 3107, 'beaten': 3108, 'boil': 3109, 'curios': 3110, 'flower': 3111, 'ranger': 3112, 'psychot': 3113, 'combat': 3114, 'glenn': 3115, 'favour': 3116, 'craig': 3117, 'drunken': 3118, 'francisco': 3119, 'splendid': 3120, 'goldberg': 3121, 'craven': 3122, 'perri': 3123, 'eleg': 3124, 'web': 3125, 'hop': 3126, 'turner': 3127, 'ellen': 3128, 'panic': 3129, 'laurel': 3130, 'ruth': 3131, 'gentl': 3132, 'alexand': 3133, 'philosophi': 3134, 'fx': 3135, 'graduat': 3136, 'rid': 3137, 'greek': 3138, 'hatr': 3139, 'min': 3140, 'wizard': 3141, 'slightest': 3142, '20th': 3143, 'modesti': 3144, 'plausibl': 3145, 'flip': 3146, 'falk': 3147, 'shortli': 3148, 'gandhi': 3149, 'jealou': 3150, 'felix': 3151, 'holi': 3152, 'legal': 3153, 'harm': 3154, 'tall': 3155, 'futurist': 3156, 'fund': 3157, 'preciou': 3158, 'lend': 3159, 'dracula': 3160, 'manhattan': 3161, 'unpleas': 3162, 'we': 3163, 'ocean': 3164, 'knight': 3165, 'thread': 3166, 'mock': 3167, 'scientif': 3168, 'forbidden': 3169, 'bless': 3170, 'childish': 3171, 'overdon': 3172, 'tank': 3173, 'explicit': 3174, 'reviv': 3175, 'nod': 3176, 'digniti': 3177, 'ami': 3178, 'giallo': 3179, 'fever': 3180, 'thick': 3181, 'nerv': 3182, 'broad': 3183, 'elderli': 3184, 'verhoeven': 3185, '99': 3186, 'pirat': 3187, 'awe': 3188, 'mel': 3189, 'repeatedli': 3190, 'awaken': 3191, 'unwatch': 3192, 'torment': 3193, 'eve': 3194, '2004': 3195, 'margaret': 3196, 'yesterday': 3197, 'roman': 3198, 'absenc': 3199, 'romero': 3200, 'automat': 3201, 'rivet': 3202, 'bin': 3203, 'stiller': 3204, 'lean': 3205, 'politician': 3206, 'ah': 3207, 'griffith': 3208, 'acclaim': 3209, 'kay': 3210, 'eas': 3211, 'launch': 3212, 'publish': 3213, 'timothi': 3214, 'uniform': 3215, 'custom': 3216, 'royal': 3217, 'ambit': 3218, 'antic': 3219, 'bathroom': 3220, 'termin': 3221, 'darker': 3222, 'pulp': 3223, 'pierc': 3224, 'transport': 3225, 'phrase': 3226, 'homicid': 3227, 'sunshin': 3228, 'purpl': 3229, 'stinker': 3230, 'tomato': 3231, 'warren': 3232, 'foul': 3233, 'wallac': 3234, 'crook': 3235, 'gabriel': 3236, 'prom': 3237, 'horrid': 3238, 'ought': 3239, 'karen': 3240, 'pray': 3241, 'packag': 3242, 'kenneth': 3243, 'evolv': 3244, 'juvenil': 3245, 'album': 3246, 'marin': 3247, 'hollow': 3248, 'rambo': 3249, 'li': 3250, 'viciou': 3251, 'saint': 3252, 'awak': 3253, 'donna': 3254, 'choreographi': 3255, 'contrari': 3256, 'sixti': 3257, '2003': 3258, 'eyr': 3259, 'q': 3260, 'revolutionari': 3261, 'coloni': 3262, 'brazil': 3263, 'overr': 3264, 'option': 3265, 'mummi': 3266, 'conserv': 3267, 'defi': 3268, 'boast': 3269, 'nerd': 3270, 'blade': 3271, 'dose': 3272, 'ireland': 3273, 'kapoor': 3274, 'mildr': 3275, 'twelv': 3276, 'stole': 3277, 'candid': 3278, 'ramon': 3279, 'beatti': 3280, 'confirm': 3281, 'collabor': 3282, 'detract': 3283, 'natali': 3284, 'altman': 3285, 'kirk': 3286, 'flame': 3287, 'fulci': 3288, 'funer': 3289, 'trio': 3290, 'astonish': 3291, 'global': 3292, 'protest': 3293, 'jazz': 3294, 'audio': 3295, 'blake': 3296, 'yellow': 3297, 'spit': 3298, 'delici': 3299, 'tommi': 3300, 'mystic': 3301, 'bull': 3302, 'shade': 3303, 'bottl': 3304, 'enterpris': 3305, 'whip': 3306, 'racial': 3307, 'destini': 3308, 'nicholson': 3309, 'leap': 3310, 'harder': 3311, 'neo': 3312, 'vivid': 3313, 'popcorn': 3314, 'meaningless': 3315, 'merci': 3316, 'bedroom': 3317, 'adolesc': 3318, 'inherit': 3319, 'staff': 3320, 'reunit': 3321, 'altogeth': 3322, 'fonda': 3323, 'todd': 3324, 'enchant': 3325, 'visibl': 3326, 'pseudo': 3327, 'threw': 3328, 'swedish': 3329, 'respond': 3330, 'voight': 3331, 'crocodil': 3332, 'moodi': 3333, 'kennedi': 3334, 'suspici': 3335, 'befriend': 3336, 'uneven': 3337, 'tip': 3338, 'madonna': 3339, 'reserv': 3340, 'fanat': 3341, 'decor': 3342, 'bust': 3343, 'edi': 3344, 'ruthless': 3345, 'synopsi': 3346, 'lawrenc': 3347, 'wire': 3348, 'leonard': 3349, 'lemmon': 3350, 'roommat': 3351, 'exhibit': 3352, 'await': 3353, 'jew': 3354, 'atlanti': 3355, 'ventur': 3356, 'centr': 3357, 'holli': 3358, 'chao': 3359, 'audit': 3360, 'dimens': 3361, 'bargain': 3362, 'clint': 3363, 'bold': 3364, 'bradi': 3365, 'clumsi': 3366, '2007': 3367, 'unsettl': 3368, 'abysm': 3369, 'voyag': 3370, 'garner': 3371, 'incident': 3372, 'rural': 3373, 'carl': 3374, 'palma': 3375, 'hart': 3376, 'daddi': 3377, 'cd': 3378, 'poetic': 3379, 'lit': 3380, 'characterist': 3381, 'acknowledg': 3382, 'nearbi': 3383, 'troop': 3384, 'echo': 3385, 'neglect': 3386, 'wealth': 3387, 'cari': 3388, 'trail': 3389, 'timon': 3390, 'tiger': 3391, 'elimin': 3392, '2nd': 3393, 'versu': 3394, 'cuba': 3395, 'humili': 3396, 'mall': 3397, 'immigr': 3398, 'imperson': 3399, 'ant': 3400, 'mickey': 3401, 'jeffrey': 3402, 'pun': 3403, 'collaps': 3404, 'infect': 3405, 'solo': 3406, 'repuls': 3407, 'mistaken': 3408, 'prejudic': 3409, 'saga': 3410, 'celluloid': 3411, 'domest': 3412, 'marshal': 3413, 'homer': 3414, 'paus': 3415, 'inan': 3416, 'ginger': 3417, 'apolog': 3418, 'harvey': 3419, 'gear': 3420, 'coat': 3421, 'olivi': 3422, 'hbo': 3423, 'assembl': 3424, 'undoubtedli': 3425, 'leon': 3426, '1996': 3427, 'pant': 3428, 'cake': 3429, 'sore': 3430, 'chest': 3431, 'promin': 3432, 'interrupt': 3433, 'inappropri': 3434, 'tribe': 3435, 'equip': 3436, 'coffe': 3437, 'milk': 3438, 'pot': 3439, 'florida': 3440, 'maggi': 3441, 'brooklyn': 3442, 'instant': 3443, 'aveng': 3444, 'vulgar': 3445, 'devast': 3446, 'institut': 3447, 'colonel': 3448, 'highest': 3449, 'consum': 3450, 'airplan': 3451, 'jenni': 3452, 'pen': 3453, 'primari': 3454, 'retain': 3455, 'furthermor': 3456, 'embrac': 3457, 'solut': 3458, 'colleagu': 3459, 'humbl': 3460, 'trace': 3461, 'exot': 3462, 'polanski': 3463, 'godzilla': 3464, 'illog': 3465, 'strain': 3466, 'bowl': 3467, 'dian': 3468, 'smaller': 3469, 'ya': 3470, 'rick': 3471, '1999': 3472, 'poke': 3473, 'gender': 3474, 'outer': 3475, '3rd': 3476, 'sale': 3477, 'dutch': 3478, 'seduct': 3479, 'linda': 3480, 'disabl': 3481, 'wive': 3482, 'descend': 3483, 'principl': 3484, 'cope': 3485, 'cue': 3486, 'blatant': 3487, 'predecessor': 3488, 'beneath': 3489, 'gloriou': 3490, 'vast': 3491, 'hal': 3492, 'inferior': 3493, 'devoid': 3494, 'rabbit': 3495, 'secondli': 3496, 'glamor': 3497, 'dive': 3498, 'gundam': 3499, 'bubbl': 3500, 'scope': 3501, 'dud': 3502, 'lol': 3503, 'primarili': 3504, 'mixtur': 3505, 'yard': 3506, 'april': 3507, 'invas': 3508, 'simplist': 3509, 'pearl': 3510, 'breed': 3511, 'shirley': 3512, 'z': 3513, 'arab': 3514, 'trademark': 3515, 'museum': 3516, 'et': 3517, 'talki': 3518, 'shelf': 3519, 'casual': 3520, 'garbo': 3521, 'senseless': 3522, 'hideou': 3523, 'alert': 3524, 'domino': 3525, 'aggress': 3526, 'disjoint': 3527, 'myer': 3528, 'streep': 3529, 'countrysid': 3530, 'alfr': 3531, 'grinch': 3532, 'hardcor': 3533, 'mail': 3534, 'experiment': 3535, 'slide': 3536, 'obtain': 3537, 'applaud': 3538, 'mayor': 3539, 'stir': 3540, 'rendit': 3541, 'stack': 3542, 'stellar': 3543, 'loyal': 3544, 'defens': 3545, 'maci': 3546, 'boom': 3547, 'robinson': 3548, 'oz': 3549, 'acid': 3550, 'uwe': 3551, 'unhappi': 3552, 'vanish': 3553, 'illeg': 3554, 'hopeless': 3555, 'khan': 3556, 'disgrac': 3557, 'robberi': 3558, 'sh': 3559, 'counter': 3560, 'fri': 3561, 'berlin': 3562, 'grandfath': 3563, 'craze': 3564, 'span': 3565, 'soccer': 3566, 'tenant': 3567, 'emphasi': 3568, 'declin': 3569, 'hartley': 3570, 'recruit': 3571, 'diana': 3572, 'rifl': 3573, 'spider': 3574, 'amanda': 3575, 'psychic': 3576, 'blew': 3577, 'dismiss': 3578, 'incomprehens': 3579, 'scroog': 3580, 'wont': 3581, 'topless': 3582, 'dicken': 3583, 'tempt': 3584, 'niro': 3585, 'porno': 3586, 'revolt': 3587, 'bitch': 3588, 'faster': 3589, 'sympath': 3590, 'ration': 3591, 'trashi': 3592, 'justin': 3593, 'riot': 3594, 'intim': 3595, 'shaw': 3596, 'goer': 3597, 'resurrect': 3598, 'shed': 3599, 'ethnic': 3600, 'parad': 3601, 'woo': 3602, 'lumet': 3603, 'wet': 3604, 'sibl': 3605, 'region': 3606, 'dealer': 3607, 'jonathan': 3608, 'weakest': 3609, 'slick': 3610, 'hopper': 3611, 'choru': 3612, 'wendi': 3613, 'enlighten': 3614, 'immort': 3615, 'hesit': 3616, 'patriot': 3617, 'steam': 3618, 'nephew': 3619, 'lena': 3620, 'gap': 3621, 'honesti': 3622, '00': 3623, 'eager': 3624, 'worm': 3625, 'unreal': 3626, 'partial': 3627, 'wheel': 3628, 'farmer': 3629, 'feminist': 3630, 'mario': 3631, 'ensur': 3632, 'commend': 3633, 'rider': 3634, 'ballet': 3635, 'biographi': 3636, 'andr': 3637, 'sandra': 3638, 'vice': 3639, 'psychopath': 3640, 'sappi': 3641, 'snap': 3642, 'confin': 3643, 'safeti': 3644, 'repress': 3645, 'mutant': 3646, 'prequel': 3647, 'skull': 3648, 'properti': 3649, 'util': 3650, 'nostalg': 3651, 'victori': 3652, 'kingdom': 3653, 'wore': 3654, 'charlott': 3655, 'franco': 3656, 'blunt': 3657, 'composit': 3658, 'leo': 3659, 'owen': 3660, 'morri': 3661, 'hung': 3662, 'similarli': 3663, 'macarthur': 3664, 'bergman': 3665, 'nervou': 3666, 'tad': 3667, 'pattern': 3668, 'heartbreak': 3669, 'latin': 3670, 'deed': 3671, 'exit': 3672, 'rocki': 3673, 'bumbl': 3674, 'emperor': 3675, 'rambl': 3676, 'acquir': 3677, 'rope': 3678, 'whoopi': 3679, 'recycl': 3680, 'montana': 3681, 'snl': 3682, 'drum': 3683, 'thru': 3684, 'bow': 3685, 'del': 3686, 'cg': 3687, 'dust': 3688, 'dalton': 3689, 'tail': 3690, 'bonu': 3691, 'compass': 3692, 'hyde': 3693, 'compens': 3694, '1972': 3695, 'campbel': 3696, 'speci': 3697, 'farrel': 3698, 'drain': 3699, 'despair': 3700, 'repli': 3701, 'miseri': 3702, 'strand': 3703, 'valuabl': 3704, 'kyle': 3705, 'gimmick': 3706, 'romp': 3707, 'pour': 3708, 'martian': 3709, 'rotten': 3710, 'bleed': 3711, 'downhil': 3712, 'percept': 3713, 'rapist': 3714, '35': 3715, 'tonight': 3716, 'oppress': 3717, 'gal': 3718, 'radic': 3719, 'chess': 3720, 'wacki': 3721, 'carradin': 3722, 'da': 3723, 'mistress': 3724, 'slug': 3725, 'contempl': 3726, 'airport': 3727, 'roth': 3728, 'orson': 3729, 'olli': 3730, 'banal': 3731, 'tackl': 3732, 'pursuit': 3733, 'attorney': 3734, 'slash': 3735, 'shelley': 3736, 'unpredict': 3737, 'pervers': 3738, 'mislead': 3739, 'pervert': 3740, 'arc': 3741, 'taught': 3742, '1983': 3743, 'paltrow': 3744, 'champion': 3745, 'tooth': 3746, 'stilt': 3747, 'dazzl': 3748, 'arguabl': 3749, 'programm': 3750, 'belt': 3751, 'preach': 3752, 'edgar': 3753, 'heal': 3754, 'melodi': 3755, 'virginia': 3756, 'sensat': 3757, 'vengeanc': 3758, 'vocal': 3759, 'chicken': 3760, 'uplift': 3761, 'dixon': 3762, 'duval': 3763, 'tiresom': 3764, 'gambl': 3765, 'rubi': 3766, 'conneri': 3767, 'raymond': 3768, 'closest': 3769, 'maid': 3770, 'bela': 3771, 'orang': 3772, 'cleverli': 3773, 'mesmer': 3774, 'franki': 3775, 'poem': 3776, 'graham': 3777, 'plight': 3778, 'passeng': 3779, 'employe': 3780, 'marti': 3781, 'swallow': 3782, 'volum': 3783, 'outing': 3784, 'secretli': 3785, 'profan': 3786, 'giggl': 3787, 'whine': 3788, 'calm': 3789, 'quarter': 3790, 'tube': 3791, 'bay': 3792, 'numb': 3793, 'iran': 3794, 'engross': 3795, 'crystal': 3796, 'climact': 3797, 'convincingli': 3798, 'paranoia': 3799, 'suffic': 3800, '1968': 3801, 'mute': 3802, 'yawn': 3803, 'clone': 3804, 'scottish': 3805, 'inject': 3806, 'habit': 3807, 'monologu': 3808, 'abraham': 3809, 'extens': 3810, 'gerard': 3811, 'pokemon': 3812, 'amitabh': 3813, 'lundgren': 3814, 'sirk': 3815, 'taxi': 3816, 'abort': 3817, 'grotesqu': 3818, 'bend': 3819, 'im': 3820, 'dispos': 3821, 'franci': 3822, 'linger': 3823, 'underst': 3824, 'chicago': 3825, 'expand': 3826, 'septemb': 3827, 'frankenstein': 3828, 'surpass': 3829, 'fed': 3830, 'lowest': 3831, 'meander': 3832, 'trend': 3833, 'nichola': 3834, 'junior': 3835, 'earl': 3836, 'poetri': 3837, 'ethan': 3838, 'profess': 3839, 'austen': 3840, 'backward': 3841, 'richardson': 3842, 'plod': 3843, 'spock': 3844, 'der': 3845, 'mundan': 3846, 'greedi': 3847, 'simplic': 3848, 'rubber': 3849, 'sue': 3850, 'household': 3851, 'hum': 3852, 'instrument': 3853, 'dysfunct': 3854, 'stallon': 3855, 'descent': 3856, 'waitress': 3857, 'cannon': 3858, 'lure': 3859, 'tourist': 3860, 'myth': 3861, 'spoke': 3862, 'nostalgia': 3863, 'econom': 3864, 'eugen': 3865, 'rant': 3866, 'compliment': 3867, 'catchi': 3868, 'muddl': 3869, 'literatur': 3870, 'stale': 3871, 'june': 3872, 'eaten': 3873, 'phantom': 3874, 'equival': 3875, 'louis': 3876, 'crucial': 3877, 'mortal': 3878, 'recognit': 3879, 'molli': 3880, 'randi': 3881, 'carel': 3882, 'damon': 3883, 'firstli': 3884, 'irrelev': 3885, 'hello': 3886, 'coast': 3887, 'duck': 3888, 'deaf': 3889, 'phoni': 3890, 'furi': 3891, 'lang': 3892, 'alongsid': 3893, 'dictat': 3894, 'dement': 3895, 'map': 3896, 'occupi': 3897, 'cent': 3898, 'flee': 3899, 'insur': 3900, 'sissi': 3901, 'recognis': 3902, 'mankind': 3903, 'omen': 3904, 'bacal': 3905, 'wisdom': 3906, 'labor': 3907, 'blackmail': 3908, 'lengthi': 3909, 'damm': 3910, 'loyalti': 3911, 'rooney': 3912, 'freez': 3913, 'newli': 3914, 'bump': 3915, 'dreari': 3916, 'bike': 3917, 'buffalo': 3918, 'twilight': 3919, 'drake': 3920, 'distinguish': 3921, 'onlin': 3922, 'reign': 3923, 'likewis': 3924, 'rude': 3925, 'antwon': 3926, 'ashley': 3927, '1973': 3928, 'daisi': 3929, 'heel': 3930, 'biko': 3931, 'cyborg': 3932, 'grayson': 3933, 'nineti': 3934, 'ridden': 3935, 'attribut': 3936, 'startl': 3937, 'approv': 3938, 'provoc': 3939, 'butler': 3940, 'vein': 3941, 'analysi': 3942, 'incorpor': 3943, 'baddi': 3944, 'boxer': 3945, 'prey': 3946, 'barrymor': 3947, 'unorigin': 3948, 'pink': 3949, 'keith': 3950, 'inher': 3951, 'basketbal': 3952, 'worn': 3953, 'interior': 3954, 'emphas': 3955, 'exposur': 3956, 'sailor': 3957, 'proce': 3958, 'tunnel': 3959, 'chronicl': 3960, 'mighti': 3961, 'substitut': 3962, 'robbin': 3963, 'meg': 3964, 'carla': 3965, 'undeni': 3966, 'improvis': 3967, 'hypnot': 3968, 'fleet': 3969, 'nicol': 3970, 'meyer': 3971, 'indiffer': 3972, 'predat': 3973, 'barrel': 3974, 'julian': 3975, 'underli': 3976, 'bunni': 3977, 'er': 3978, 'millionair': 3979, 'simmon': 3980, 'belushi': 3981, 'unrel': 3982, 'drift': 3983, 'condemn': 3984, 'degrad': 3985, 'othello': 3986, 'elm': 3987, 'walsh': 3988, 'stalker': 3989, 'mormon': 3990, 'enthusiasm': 3991, 'exquisit': 3992, 'unawar': 3993, 'greed': 3994, 'dolph': 3995, 'palac': 3996, '3d': 3997, 'shove': 3998, 'firm': 3999, 'nyc': 4000, 'reid': 4001, 'alison': 4002, 'roof': 4003, 'errol': 4004, 'marion': 4005, 'rukh': 4006, 'agenda': 4007, 'disord': 4008, 'watson': 4009, 'vital': 4010, 'hay': 4011, 'priceless': 4012, 'mtv': 4013, 'warmth': 4014, 'edgi': 4015, 'lampoon': 4016, 'novak': 4017, 'alarm': 4018, '13th': 4019, 'beatl': 4020, '1933': 4021, 'unleash': 4022, 'session': 4023, 'gestur': 4024, 'nun': 4025, 'ponder': 4026, 'simultan': 4027, 'campaign': 4028, 'spain': 4029, 'pamela': 4030, 'preserv': 4031, 'zizek': 4032, 'thompson': 4033, 'showdown': 4034, 'distort': 4035, 'cassidi': 4036, 'randomli': 4037, 'what': 4038, 'peck': 4039, 'crown': 4040, 'minimum': 4041, 'drip': 4042, 'angela': 4043, 'iraq': 4044, 'sergeant': 4045, 'israel': 4046, 'eastern': 4047, 'coup': 4048, 'peril': 4049, 'testament': 4050, 'championship': 4051, 'orlean': 4052, 'petti': 4053, 'glanc': 4054, 'profit': 4055, 'valentin': 4056, 'climat': 4057, '1984': 4058, 'calib': 4059, 'valley': 4060, 'contradict': 4061, 'sabrina': 4062, 'wig': 4063, 'cream': 4064, 'stroke': 4065, 'miyazaki': 4066, 'reson': 4067, 'crawl': 4068, 'exposit': 4069, 'restrain': 4070, 'mon': 4071, 'crow': 4072, 'travesti': 4073, 'stake': 4074, 'han': 4075, 'regist': 4076, 'bro': 4077, 'brenda': 4078, 'gentleman': 4079, 'unimagin': 4080, 'buster': 4081, 'shootout': 4082, 'scotland': 4083, 'cooki': 4084, 'realm': 4085, 'represent': 4086, 'perpetu': 4087, 'fido': 4088, 'jan': 4089, 'rout': 4090, 'kurosawa': 4091, 'empathi': 4092, 'din': 4093, 'quinn': 4094, 'sammi': 4095, 'demis': 4096, 'unsatisfi': 4097, 'shaki': 4098, 'warrant': 4099, 'dana': 4100, 'crawford': 4101, 'perceiv': 4102, 'shoddi': 4103, 'femm': 4104, 'pretens': 4105, 'censor': 4106, 'baldwin': 4107, 'absent': 4108, 'spacey': 4109, '1987': 4110, 'josh': 4111, 'pole': 4112, 'sucker': 4113, 'stargat': 4114, 'delic': 4115, 'businessman': 4116, 'cloud': 4117, 'passabl': 4118, 'ross': 4119, 'fuller': 4120, 'distress': 4121, 'compromis': 4122, 'tacki': 4123, 'abomin': 4124, 'monoton': 4125, 'unseen': 4126, 'greg': 4127, 'darren': 4128, 'painter': 4129, 'geek': 4130, 'soderbergh': 4131, '1997': 4132, 'meryl': 4133, 'ustinov': 4134, 'traumat': 4135, 'derang': 4136, 'wax': 4137, 'mclaglen': 4138, 'tarantino': 4139, '1993': 4140, 'austin': 4141, 'verbal': 4142, 'deniro': 4143, 'expedit': 4144, 'antonioni': 4145, 'deceas': 4146, 'polici': 4147, 'clash': 4148, 'nathan': 4149, 'unravel': 4150, 'uncov': 4151, 'exclus': 4152, 'tech': 4153, 'fog': 4154, 'accuraci': 4155, 'fenc': 4156, 'primit': 4157, 'norm': 4158, 'dee': 4159, 'correctli': 4160, 'valid': 4161, 'furiou': 4162, 'wholli': 4163, 'jewel': 4164, 'seal': 4165, 'kumar': 4166, 'judgment': 4167, 'sid': 4168, 'reluct': 4169, 'anchor': 4170, 'click': 4171, 'fart': 4172, 'joel': 4173, 'slam': 4174, 'seldom': 4175, 'pocket': 4176, 'nicola': 4177, 'sustain': 4178, '3000': 4179, 'murray': 4180, 'tax': 4181, 'alec': 4182, 'sheet': 4183, '1995': 4184, '2008': 4185, 'fabric': 4186, 'debt': 4187, '1971': 4188, 'dreck': 4189, 'mode': 4190, 'patienc': 4191, 'logan': 4192, 'clerk': 4193, 'darn': 4194, 'hallucin': 4195, 'unfair': 4196, 'sand': 4197, 'bake': 4198, 'wretch': 4199, 'ritual': 4200, 'fought': 4201, 'temper': 4202, 'behold': 4203, 'roller': 4204, 'sunni': 4205, 'enforc': 4206, 'trait': 4207, 'crippl': 4208, 'malon': 4209, 'conduct': 4210, 'vanc': 4211, 'wang': 4212, 'shanghai': 4213, 'phil': 4214, 'conscious': 4215, 'technicolor': 4216, 'isabel': 4217, 'runner': 4218, 'schedul': 4219, 'grief': 4220, 'bias': 4221, 'shell': 4222, 'critiqu': 4223, 'exhaust': 4224, 'fundament': 4225, 'squad': 4226, 'outlin': 4227, 'sweep': 4228, 'legaci': 4229, 'stark': 4230, 'penni': 4231, 'stuart': 4232, 'pete': 4233, 'tactic': 4234, 'canyon': 4235, 'preposter': 4236, 'guitar': 4237, 'helpless': 4238, 'bridget': 4239, 'robber': 4240, 'preston': 4241, 'despis': 4242, 'soup': 4243, 'scriptwrit': 4244, 'rita': 4245, 'divid': 4246, 'clau': 4247, 'jacket': 4248, 'marc': 4249, 'propos': 4250, 'passag': 4251, 'drove': 4252, 'cigarett': 4253, 'sugar': 4254, 'newman': 4255, 'jodi': 4256, 'delv': 4257, 'agenc': 4258, 'restrict': 4259, 'invad': 4260, 'liberti': 4261, 'flair': 4262, 'rehash': 4263, 'bloom': 4264, 'sentinel': 4265, 'alicia': 4266, 'rear': 4267, 'downey': 4268, 'consciou': 4269, 'vomit': 4270, 'palanc': 4271, 'unexpectedli': 4272, 'culmin': 4273, 'gregori': 4274, 'lacklust': 4275, 'inabl': 4276, 'alley': 4277, 'russia': 4278, 'boyl': 4279, 'connor': 4280, 'kansa': 4281, 'sniper': 4282, 'implic': 4283, 'feat': 4284, 'rehears': 4285, 'aesthet': 4286, 'cap': 4287, 'wrench': 4288, 'vet': 4289, 'lush': 4290, 'karl': 4291, 'behaviour': 4292, 'ladder': 4293, 'foxx': 4294, 'bacon': 4295, 'pale': 4296, 'rod': 4297, 'arrow': 4298, 'awhil': 4299, '1936': 4300, 'asylum': 4301, 'mccoy': 4302, 'improb': 4303, 'horn': 4304, 'tripe': 4305, 'tendenc': 4306, 'delet': 4307, '22': 4308, 'chainsaw': 4309, 'sharon': 4310, 'kolchak': 4311, 'rampag': 4312, 'yeti': 4313, 'tasteless': 4314, 'spice': 4315, 'elit': 4316, 'paradis': 4317, 'lurk': 4318, 'conscienc': 4319, 'weav': 4320, 'fright': 4321, '1978': 4322, 'hungri': 4323, 'prank': 4324, 'filler': 4325, 'el': 4326, 'amazon': 4327, 'coaster': 4328, 'hackney': 4329, 'minu': 4330, '1920': 4331, 'underneath': 4332, 'basing': 4333, 'newcom': 4334, '19th': 4335, 'hulk': 4336, 'sung': 4337, '1988': 4338, 'wildli': 4339, 'rhythm': 4340, 'suspicion': 4341, 'visitor': 4342, 'stream': 4343, 'suffici': 4344, 'aristocrat': 4345, 'tomorrow': 4346, 'globe': 4347, 'rumor': 4348, 'loneli': 4349, 'shortcom': 4350, 'paramount': 4351, 'financ': 4352, 'wagner': 4353, 'scoop': 4354, 'thunderbird': 4355, 'iv': 4356, 'inmat': 4357, 'curli': 4358, 'recogniz': 4359, 'entranc': 4360, 'counterpart': 4361, 'straightforward': 4362, 'hopkin': 4363, 'cancer': 4364, 'chavez': 4365, 'leigh': 4366, 'beverli': 4367, 'naughti': 4368, 'literari': 4369, 'rub': 4370, 'brit': 4371, 'teas': 4372, 'paxton': 4373, 'posey': 4374, 'smell': 4375, 'tierney': 4376, 'secondari': 4377, 'choppi': 4378, '1989': 4379, 'standout': 4380, 'quietli': 4381, 'immers': 4382, 'atroc': 4383, 'penn': 4384, 'couch': 4385, 'dirt': 4386, 'lectur': 4387, '75': 4388, 'impos': 4389, 'ingeni': 4390, 'ram': 4391, 'en': 4392, 'heist': 4393, 'abrupt': 4394, 'grudg': 4395, 'minist': 4396, 'worship': 4397, 'wwe': 4398, '1939': 4399, 'bread': 4400, 'chamberlain': 4401, 'springer': 4402, 'sublim': 4403, 'skeptic': 4404, 'nolan': 4405, 'transcend': 4406, 'cattl': 4407, 'net': 4408, 'watcher': 4409, 'moreov': 4410, 'esther': 4411, 'duel': 4412, 'geni': 4413, 'misguid': 4414, 'sassi': 4415, 'injuri': 4416, 'nemesi': 4417, 'yearn': 4418, 'variat': 4419, 'quaid': 4420, 'convert': 4421, 'clan': 4422, 'laurenc': 4423, 'entitl': 4424, 'missil': 4425, '1986': 4426, 'attenborough': 4427, 'bernard': 4428, 'ace': 4429, 'policeman': 4430, 'morbid': 4431, 'lindsay': 4432, 'heartfelt': 4433, 'enthral': 4434, 'ratso': 4435, 'unexplain': 4436, 'graini': 4437, 'mytholog': 4438, 'grin': 4439, 'moder': 4440, 'obstacl': 4441, 'tyler': 4442, 'uncut': 4443, 'characteris': 4444, 'out': 4445, 'steadi': 4446, 'puppi': 4447, 'spiral': 4448, '1979': 4449, 'brood': 4450, 'bean': 4451, 'setup': 4452, 'diari': 4453, 'buzz': 4454, 'rosemari': 4455, 'dont': 4456, 'cruelti': 4457, 'artsi': 4458, 'vader': 4459, 'hopelessli': 4460, 'egg': 4461, 'reliabl': 4462, 'youngest': 4463, 'enabl': 4464, 'kitti': 4465, 'poe': 4466, 'carlito': 4467, 'kidman': 4468, 'hk': 4469, 'facil': 4470, 'bye': 4471, 'niec': 4472, 'patricia': 4473, 'acquaint': 4474, 'disastr': 4475, 'hammi': 4476, 'clueless': 4477, 'bewar': 4478, 'preming': 4479, 'heap': 4480, 'exterior': 4481, 'bronson': 4482, 'athlet': 4483, 'sweat': 4484, 'underworld': 4485, 'baffl': 4486, 'effici': 4487, 'bounc': 4488, 'gina': 4489, 'fuel': 4490, 'oblig': 4491, 'gillian': 4492, 'spontan': 4493, 'decept': 4494, 'hain': 4495, 'weather': 4496, 'kline': 4497, 'martha': 4498, 'despic': 4499, '1969': 4500, 'brendan': 4501, 'christin': 4502, 'narrow': 4503, 'enlist': 4504, 'trigger': 4505, 'analyz': 4506, '19': 4507, 'housewif': 4508, 'injur': 4509, '73': 4510, 'loi': 4511, 'angst': 4512, 'virtu': 4513, 'tick': 4514, 'shatter': 4515, 'scar': 4516, 'uh': 4517, 'viewpoint': 4518, 'outlaw': 4519, 'suprem': 4520, 'hepburn': 4521, 'insipid': 4522, 'goof': 4523, 'harmless': 4524, 'taboo': 4525, 'lester': 4526, 'sooner': 4527, 'mayhem': 4528, 'headach': 4529, 'loath': 4530, 'preachi': 4531, 'candl': 4532, 'dilemma': 4533, 'sleepwalk': 4534, 'circu': 4535, 'rome': 4536, 'biker': 4537, 'mermaid': 4538, 'dandi': 4539, 'astound': 4540, 'renaiss': 4541, 'fontain': 4542, 'oldest': 4543, 'hokey': 4544, 'salt': 4545, 'sox': 4546, 'surgeri': 4547, 'tripl': 4548, 'contempt': 4549, 'spade': 4550, 'boston': 4551, 'hostag': 4552, 'foolish': 4553, 'stimul': 4554, 'phenomenon': 4555, 'macho': 4556, 'camcord': 4557, 'bent': 4558, 'filth': 4559, 'idol': 4560, 'slimi': 4561, 'glorifi': 4562, 'overlong': 4563, 'immatur': 4564, 'ebert': 4565, 'steer': 4566, 'amor': 4567, 'guin': 4568, 'dismal': 4569, 'whore': 4570, 'redund': 4571, 'fluff': 4572, 'corbett': 4573, 'stair': 4574, 'zoom': 4575, 'claustrophob': 4576, 'intric': 4577, 'scorses': 4578, 'ariel': 4579, 'cassavet': 4580, 'dish': 4581, 'hooker': 4582, 'gere': 4583, 'messi': 4584, 'corman': 4585, 'faint': 4586, 'fascist': 4587, 'preced': 4588, 'spree': 4589, 'antagonist': 4590, 'margin': 4591, 'rhyme': 4592, 'joker': 4593, 'shred': 4594, 'muscl': 4595, 'proport': 4596, 'mount': 4597, 'conquer': 4598, 'remad': 4599, 'schlock': 4600, 'dwarf': 4601, 'frantic': 4602, 'flag': 4603, 'widescreen': 4604, 'spinal': 4605, 'down': 4606, 'harold': 4607, 'transplant': 4608, 'cow': 4609, 'trivia': 4610, 'strongest': 4611, '1981': 4612, 'gasp': 4613, 'shield': 4614, 'cohen': 4615, 'perman': 4616, 'assert': 4617, '1976': 4618, 'keen': 4619, 'flashi': 4620, 'mutual': 4621, 'gabl': 4622, 'zane': 4623, 'beard': 4624, 'obligatori': 4625, 'flirt': 4626, 'cush': 4627, 'alvin': 4628, 'nolt': 4629, 'astronaut': 4630, 'naschi': 4631, 'radiat': 4632, 'mobil': 4633, 'info': 4634, '1945': 4635, '28': 4636, 'scandal': 4637, 'departur': 4638, 'boob': 4639, 'neurot': 4640, 'www': 4641, 'brush': 4642, 'wield': 4643, 'repris': 4644, 'divin': 4645, 'mol': 4646, 'sensual': 4647, 'someday': 4648, 'barn': 4649, 'off': 4650, 'bachelor': 4651, 'inflict': 4652, '95': 4653, 'instruct': 4654, 'persuad': 4655, 'resum': 4656, 'vaniti': 4657, 'interestingli': 4658, 'raj': 4659, 'fishburn': 4660, 'carey': 4661, 'claud': 4662, 'deer': 4663, 'discern': 4664, 'strive': 4665, 'bitten': 4666, 'hara': 4667, 'ritchi': 4668, 'flock': 4669, 'danish': 4670, 'triangl': 4671, 'archiv': 4672, 'aborigin': 4673, 'parson': 4674, 'dim': 4675, 'vibrant': 4676, 'melissa': 4677, 'rot': 4678, 'casino': 4679, 'pacif': 4680, 'undermin': 4681, 'cher': 4682, 'banter': 4683, 'mobster': 4684, 'dylan': 4685, 'pickford': 4686, 'recit': 4687, 'clad': 4688, 'senior': 4689, 'hilar': 4690, 'artwork': 4691, 'bate': 4692, 'heartwarm': 4693, 'proclaim': 4694, 'timberlak': 4695, 'hapless': 4696, 'dame': 4697, 'hug': 4698, 'fragil': 4699, 'cycl': 4700, 'cliffhang': 4701, 'ish': 4702, 'cb': 4703, 'luka': 4704, 'submit': 4705, 'axe': 4706, 'colin': 4707, 'miracul': 4708, 'wendigo': 4709, 'loretta': 4710, 'traffic': 4711, 'neill': 4712, 'kathryn': 4713, 'jade': 4714, 'helm': 4715, 'carlo': 4716, 'anton': 4717, 'biblic': 4718, 'earnest': 4719, 'pixar': 4720, 'europa': 4721, 'frontier': 4722, 'prophet': 4723, 'harrison': 4724, 'antholog': 4725, 'breakfast': 4726, 'marlon': 4727, 'jo': 4728, 'legitim': 4729, 'foil': 4730, 'jordan': 4731, 'feast': 4732, 'token': 4733, 'wardrob': 4734, 'aris': 4735, 'misfortun': 4736, 'lucil': 4737, 'orphan': 4738, 'bondag': 4739, 'vile': 4740, 'cerebr': 4741, 'static': 4742, 'mason': 4743, 'alexandr': 4744, 'choke': 4745, 'estrang': 4746, 'vanessa': 4747, 'illus': 4748, 'venom': 4749, 'eli': 4750, 'nope': 4751, 'holocaust': 4752, 'winchest': 4753, 'uma': 4754, 'bikini': 4755, 'sicken': 4756, 'blatantli': 4757, 'northern': 4758, 'pc': 4759, 'electron': 4760, 'milo': 4761, 'http': 4762, 'trier': 4763, 'redneck': 4764, 'toronto': 4765, 'rooki': 4766, 'lui': 4767, 'razor': 4768, 'akin': 4769, 'mathieu': 4770, 'isra': 4771, 'flavor': 4772, 'articl': 4773, 'seedi': 4774, 'shepherd': 4775, 'retriev': 4776, 'knightley': 4777, 'tack': 4778, 'highway': 4779, 'fifth': 4780, 'leather': 4781, 'styliz': 4782, 'psych': 4783, 'clinic': 4784, 'ideolog': 4785, 'howl': 4786, 'abund': 4787, 'cartoonish': 4788, 'comprehend': 4789, 'frog': 4790, 'peer': 4791, 'audrey': 4792, 'swept': 4793, 'nightclub': 4794, 'ceremoni': 4795, 'feminin': 4796, 'charlton': 4797, 'gilbert': 4798, 'smack': 4799, 'glare': 4800, 'affleck': 4801, 'linear': 4802, 'disregard': 4803, 'oppon': 4804, 'huston': 4805, 'turd': 4806, 'dudley': 4807, 'outdat': 4808, 'deem': 4809, 'magician': 4810, 'gunga': 4811, 'shorter': 4812, 'boyer': 4813, 'wrestler': 4814, 'collector': 4815, '1991': 4816, 'einstein': 4817, 'conrad': 4818, 'moe': 4819, 'durat': 4820, 'toe': 4821, 'evolut': 4822, 'spine': 4823, 'bogu': 4824, 'breakdown': 4825, 'lighter': 4826, 'lavish': 4827, 'monument': 4828, 'whack': 4829, 'client': 4830, 'summar': 4831, 'greet': 4832, '4th': 4833, 'uniformli': 4834, 'sleaz': 4835, 'plate': 4836, '1994': 4837, 'tara': 4838, 'energet': 4839, 'btw': 4840, 'lifeless': 4841, 'goldsworthi': 4842, 'corn': 4843, 'bastard': 4844, 'senat': 4845, 'phenomen': 4846, 'newer': 4847, 'chip': 4848, 'mitch': 4849, 'snatch': 4850, 'deliver': 4851, 'boo': 4852, 'spawn': 4853, 'compris': 4854, 'cemeteri': 4855, 'potter': 4856, 'salman': 4857, 'cuban': 4858, 'braveheart': 4859, 'randolph': 4860, 'jule': 4861, '1974': 4862, 'creek': 4863, 'bulk': 4864, 'embark': 4865, 'ol': 4866, 'clara': 4867, 'trauma': 4868, 'constitut': 4869, 'alleg': 4870, 'replay': 4871, 'jam': 4872, 'appl': 4873, 'firmli': 4874, 'neatli': 4875, 'belli': 4876, 'undead': 4877, 'bori': 4878, 'pronounc': 4879, 'armstrong': 4880, 'historian': 4881, 'eleven': 4882, 'occup': 4883, 'judd': 4884, 'liu': 4885, 'fluid': 4886, 'jedi': 4887, 'evelyn': 4888, 'luxuri': 4889, 'healthi': 4890, 'kent': 4891, 'outright': 4892, 'mcqueen': 4893, 'cecil': 4894, 'ie': 4895, 'signal': 4896, 'spectacl': 4897, 'jare': 4898, 'sorrow': 4899, 'lex': 4900, 'kazan': 4901, 'inaccuraci': 4902, '1977': 4903, 'wtf': 4904, 'undertak': 4905, 'gilliam': 4906, 'nina': 4907, 'capot': 4908, 'porter': 4909, 'blur': 4910, 'spray': 4911, 'tokyo': 4912, 'comb': 4913, 'congratul': 4914, 'meal': 4915, 'subtli': 4916, 'unsuspect': 4917, 'inclus': 4918, 'paula': 4919, 'goldblum': 4920, 'miami': 4921, 'fruit': 4922, 'poker': 4923, 'pepper': 4924, 'forgiven': 4925, 'bait': 4926, 'groan': 4927, 'galaxi': 4928, 'relentless': 4929, 'cape': 4930, 'truman': 4931, 'sidewalk': 4932, 'palm': 4933, 'miniseri': 4934, 'pioneer': 4935, 'abound': 4936, 'genet': 4937, 'unattract': 4938, 'vain': 4939, 'curtain': 4940, 'roar': 4941, 'decapit': 4942, 'sacrif': 4943, 'inaccur': 4944, 'kiddi': 4945, 'knee': 4946, 'walt': 4947, 'basket': 4948, 'aussi': 4949, 'mum': 4950, 'rosario': 4951, 'ash': 4952, 'conan': 4953, 'id': 4954, 'propheci': 4955, 'vignett': 4956, 'lanc': 4957, 'antonio': 4958, 'carmen': 4959, 'lauren': 4960, 'comprehens': 4961, '1985': 4962, 'bsg': 4963, 'evan': 4964, 'scariest': 4965, 'reincarn': 4966, 'sparkl': 4967, 'macabr': 4968, 'optimist': 4969, 'masterson': 4970, 'monti': 4971, 'profil': 4972, 'modest': 4973, 'frontal': 4974, 'detach': 4975, 'rapidli': 4976, 'motorcycl': 4977, 'vastli': 4978, 'weari': 4979, 'handicap': 4980, 'mice': 4981, 'omin': 4982, 'sophi': 4983, 'epitom': 4984, 'victorian': 4985, 'dubiou': 4986, 'orchestr': 4987, 'verg': 4988, 'growth': 4989, 'bravo': 4990, 'drone': 4991, '21st': 4992, 'weaker': 4993, 'ghetto': 4994, 'incorrect': 4995, 'ingrid': 4996, 'spill': 4997, 'casper': 4998, 'jill': 4999}\n"
     ]
    }
   ],
   "source": [
    "# TODO: Use this space to determine the five most frequently appearing words in the training set.\n",
    "print(word_dict)"
   ]
  },
  {
   "cell_type": "markdown",
   "metadata": {},
   "source": [
    "### Save `word_dict`\n",
    "\n",
    "Later on when we construct an endpoint which processes a submitted review we will need to make use of the `word_dict` which we have created. As such, we will save it to a file now for future use."
   ]
  },
  {
   "cell_type": "code",
   "execution_count": 17,
   "metadata": {},
   "outputs": [],
   "source": [
    "data_dir = '../data/pytorch' # The folder we will use for storing data\n",
    "if not os.path.exists(data_dir): # Make sure that the folder exists\n",
    "    os.makedirs(data_dir)"
   ]
  },
  {
   "cell_type": "code",
   "execution_count": 18,
   "metadata": {},
   "outputs": [],
   "source": [
    "with open(os.path.join(data_dir, 'word_dict.pkl'), \"wb\") as f:\n",
    "    pickle.dump(word_dict, f)"
   ]
  },
  {
   "cell_type": "markdown",
   "metadata": {},
   "source": [
    "### Transform the reviews\n",
    "\n",
    "Now that we have our word dictionary which allows us to transform the words appearing in the reviews into integers, it is time to make use of it and convert our reviews to their integer sequence representation, making sure to pad or truncate to a fixed length, which in our case is `500`."
   ]
  },
  {
   "cell_type": "code",
   "execution_count": 19,
   "metadata": {},
   "outputs": [],
   "source": [
    "def convert_and_pad(word_dict, sentence, pad=500):\n",
    "    NOWORD = 0 # We will use 0 to represent the 'no word' category\n",
    "    INFREQ = 1 # and we use 1 to represent the infrequent words, i.e., words not appearing in word_dict\n",
    "    \n",
    "    working_sentence = [NOWORD] * pad\n",
    "    \n",
    "    for word_index, word in enumerate(sentence[:pad]):\n",
    "        if word in word_dict:\n",
    "            working_sentence[word_index] = word_dict[word]\n",
    "        else:\n",
    "            working_sentence[word_index] = INFREQ\n",
    "            \n",
    "    return working_sentence, min(len(sentence), pad)\n",
    "\n",
    "def convert_and_pad_data(word_dict, data, pad=500):\n",
    "    result = []\n",
    "    lengths = []\n",
    "    \n",
    "    for sentence in data:\n",
    "        converted, leng = convert_and_pad(word_dict, sentence, pad)\n",
    "        result.append(converted)\n",
    "        lengths.append(leng)\n",
    "        \n",
    "    return np.array(result), np.array(lengths)"
   ]
  },
  {
   "cell_type": "code",
   "execution_count": 20,
   "metadata": {},
   "outputs": [],
   "source": [
    "train_X, train_X_len = convert_and_pad_data(word_dict, train_X)\n",
    "test_X, test_X_len = convert_and_pad_data(word_dict, test_X)"
   ]
  },
  {
   "cell_type": "markdown",
   "metadata": {},
   "source": [
    "As a quick check to make sure that things are working as intended, check to see what one of the reviews in the training set looks like after having been processeed. Does this look reasonable? What is the length of a review in the training set?"
   ]
  },
  {
   "cell_type": "code",
   "execution_count": 21,
   "metadata": {},
   "outputs": [
    {
     "name": "stdout",
     "output_type": "stream",
     "text": [
      "[  28  135  252 2301  536  247  364  168  340    1 1579   99  499   47\n",
      "  209    6   21  231   61  499   61  153  499 1493 1716  359  328  105\n",
      "  195  314  869  129 2028 1437   77 4635 1608    1    1  262   10    4\n",
      " 1227  370 4370    1    1  371 4413  185 1099  426 3061 3852  113   74\n",
      " 2460  796  777  106   75    1  133 4413   50 1116    1 2724  314 1752\n",
      "  723  503 1394 1853    1 3872    1 1612 2461  827   70    1    1  767\n",
      "    1 4063 1752 1195    1 1660 1581  672 3421  897  482    1 4371    1\n",
      " 4872    1  594  791 1339  282    1 4513    1  364    1    1    1  801\n",
      "    1    1    1 3297  923 3297    1    1    1  933    1   66    5 2148\n",
      " 2327    7    1    1   53    1 4479 3335 2548    1  258   37    1    1\n",
      "    1  229    1 1464   25  114  777   96   84 2560  426 2570    1 1230\n",
      "    1  777  374 1539 1213   37    1 1110  899 1162 2127 2897  278  562\n",
      "  152    1 1325 1325 1301   80   92  201  956   19   26  246   19    5\n",
      "    1    1  145   25  167    1  449  207  137    1   74 4413    6   96\n",
      " 1563    1 1230 3247    1  113   89   34  225  908  203  908  138   77\n",
      "    1 1731  793 1801   29   13  642   10  930 1215  467   13    1  830\n",
      "  109 1049 3136  326  156   50  860    1   38 1191 1046    0    0    0\n",
      "    0    0    0    0    0    0    0    0    0    0    0    0    0    0\n",
      "    0    0    0    0    0    0    0    0    0    0    0    0    0    0\n",
      "    0    0    0    0    0    0    0    0    0    0    0    0    0    0\n",
      "    0    0    0    0    0    0    0    0    0    0    0    0    0    0\n",
      "    0    0    0    0    0    0    0    0    0    0    0    0    0    0\n",
      "    0    0    0    0    0    0    0    0    0    0    0    0    0    0\n",
      "    0    0    0    0    0    0    0    0    0    0    0    0    0    0\n",
      "    0    0    0    0    0    0    0    0    0    0    0    0    0    0\n",
      "    0    0    0    0    0    0    0    0    0    0    0    0    0    0\n",
      "    0    0    0    0    0    0    0    0    0    0    0    0    0    0\n",
      "    0    0    0    0    0    0    0    0    0    0    0    0    0    0\n",
      "    0    0    0    0    0    0    0    0    0    0    0    0    0    0\n",
      "    0    0    0    0    0    0    0    0    0    0    0    0    0    0\n",
      "    0    0    0    0    0    0    0    0    0    0    0    0    0    0\n",
      "    0    0    0    0    0    0    0    0    0    0    0    0    0    0\n",
      "    0    0    0    0    0    0    0    0    0    0    0    0    0    0\n",
      "    0    0    0    0    0    0    0    0    0    0    0    0    0    0\n",
      "    0    0    0    0    0    0    0    0    0    0    0    0    0    0\n",
      "    0    0    0    0    0    0    0    0    0    0]\n",
      "True\n"
     ]
    }
   ],
   "source": [
    "# Use this cell to examine one of the processed reviews to make sure everything is working as intended.\n",
    "print(train_X[100])\n",
    "print(500 == len(train_X[100])) #Checking that review was padded or truncated to fixed length of 500"
   ]
  },
  {
   "cell_type": "markdown",
   "metadata": {},
   "source": [
    "**Question:** In the cells above we use the `preprocess_data` and `convert_and_pad_data` methods to process both the training and testing set. Why or why not might this be a problem?"
   ]
  },
  {
   "cell_type": "markdown",
   "metadata": {},
   "source": [
    "**Answer:**\n",
    "\n",
    "The preprocess_data method applies the review_to_words method to each of the reviews in the training and testing datasets and caches the results. This could present an issue in sentiment prediction because when stopwords like \"won't\" and will are removed it can change the meaning of a sentence. For example, the sentence \"I won't recommend\" and \"I will recommend\" would then mean the same thing after removing the stopwords. \n",
    "\n",
    "The convert_and_pad method enumerates each review by mapping each word with the frequency of that word in the dataset. It then either pads or truncates to a fixed length, as a way to deal with both short and very long reviews. 0 is used to represent 'no word' and 1 is to represent a word that does not appear in word_dict. The data was sorted so that the most frequently used word would correspond to 2, the next to 3, then the next to 4 and so on. Since the most frequently used word is 2 and \"infrequent word\" is 1 this may present some confusion."
   ]
  },
  {
   "cell_type": "markdown",
   "metadata": {},
   "source": [
    "## Step 3: Upload the data to S3\n",
    "\n",
    "As in the XGBoost notebook, we will need to upload the training dataset to S3 in order for our training code to access it. For now we will save it locally and we will upload to S3 later on.\n",
    "\n",
    "### Save the processed training dataset locally\n",
    "\n",
    "It is important to note the format of the data that we are saving as we will need to know it when we write the training code. In our case, each row of the dataset has the form `label`, `length`, `review[500]` where `review[500]` is a sequence of `500` integers representing the words in the review."
   ]
  },
  {
   "cell_type": "code",
   "execution_count": 22,
   "metadata": {},
   "outputs": [],
   "source": [
    "import pandas as pd\n",
    "    \n",
    "pd.concat([pd.DataFrame(train_y), pd.DataFrame(train_X_len), pd.DataFrame(train_X)], axis=1) \\\n",
    "        .to_csv(os.path.join(data_dir, 'train.csv'), header=False, index=False)"
   ]
  },
  {
   "cell_type": "markdown",
   "metadata": {},
   "source": [
    "### Uploading the training data\n",
    "\n",
    "\n",
    "Next, we need to upload the training data to the SageMaker default S3 bucket so that we can provide access to it while training our model."
   ]
  },
  {
   "cell_type": "code",
   "execution_count": 23,
   "metadata": {},
   "outputs": [],
   "source": [
    "import sagemaker\n",
    "\n",
    "sagemaker_session = sagemaker.Session()\n",
    "\n",
    "bucket = sagemaker_session.default_bucket()\n",
    "prefix = 'sagemaker/sentiment_rnn'\n",
    "\n",
    "role = sagemaker.get_execution_role()"
   ]
  },
  {
   "cell_type": "code",
   "execution_count": 24,
   "metadata": {},
   "outputs": [],
   "source": [
    "input_data = sagemaker_session.upload_data(path=data_dir, bucket=bucket, key_prefix=prefix)"
   ]
  },
  {
   "cell_type": "markdown",
   "metadata": {},
   "source": [
    "**NOTE:** The cell above uploads the entire contents of our data directory. This includes the `word_dict.pkl` file. This is fortunate as we will need this later on when we create an endpoint that accepts an arbitrary review. For now, we will just take note of the fact that it resides in the data directory (and so also in the S3 training bucket) and that we will need to make sure it gets saved in the model directory."
   ]
  },
  {
   "cell_type": "markdown",
   "metadata": {},
   "source": [
    "## Step 4: Build and Train the PyTorch Model\n",
    "\n",
    "In the XGBoost notebook we discussed what a model is in the SageMaker framework. In particular, a model comprises three objects\n",
    "\n",
    " - Model Artifacts,\n",
    " - Training Code, and\n",
    " - Inference Code,\n",
    " \n",
    "each of which interact with one another. In the XGBoost example we used training and inference code that was provided by Amazon. Here we will still be using containers provided by Amazon with the added benefit of being able to include our own custom code.\n",
    "\n",
    "We will start by implementing our own neural network in PyTorch along with a training script. For the purposes of this project we have provided the necessary model object in the `model.py` file, inside of the `train` folder. You can see the provided implementation by running the cell below."
   ]
  },
  {
   "cell_type": "code",
   "execution_count": 25,
   "metadata": {},
   "outputs": [
    {
     "name": "stdout",
     "output_type": "stream",
     "text": [
      "\u001b[34mimport\u001b[39;49;00m \u001b[04m\u001b[36mtorch\u001b[39;49;00m\u001b[04m\u001b[36m.\u001b[39;49;00m\u001b[04m\u001b[36mnn\u001b[39;49;00m \u001b[34mas\u001b[39;49;00m \u001b[04m\u001b[36mnn\u001b[39;49;00m\r\n",
      "\r\n",
      "\u001b[34mclass\u001b[39;49;00m \u001b[04m\u001b[32mLSTMClassifier\u001b[39;49;00m(nn.Module):\r\n",
      "    \u001b[33m\"\"\"\u001b[39;49;00m\r\n",
      "\u001b[33m    This is the simple RNN model we will be using to perform Sentiment Analysis.\u001b[39;49;00m\r\n",
      "\u001b[33m    \"\"\"\u001b[39;49;00m\r\n",
      "\r\n",
      "    \u001b[34mdef\u001b[39;49;00m \u001b[32m__init__\u001b[39;49;00m(\u001b[36mself\u001b[39;49;00m, embedding_dim, hidden_dim, vocab_size):\r\n",
      "        \u001b[33m\"\"\"\u001b[39;49;00m\r\n",
      "\u001b[33m        Initialize the model by settingg up the various layers.\u001b[39;49;00m\r\n",
      "\u001b[33m        \"\"\"\u001b[39;49;00m\r\n",
      "        \u001b[36msuper\u001b[39;49;00m(LSTMClassifier, \u001b[36mself\u001b[39;49;00m).\u001b[32m__init__\u001b[39;49;00m()\r\n",
      "\r\n",
      "        \u001b[36mself\u001b[39;49;00m.embedding = nn.Embedding(vocab_size, embedding_dim, padding_idx=\u001b[34m0\u001b[39;49;00m)\r\n",
      "        \u001b[36mself\u001b[39;49;00m.lstm = nn.LSTM(embedding_dim, hidden_dim)\r\n",
      "        \u001b[36mself\u001b[39;49;00m.dense = nn.Linear(in_features=hidden_dim, out_features=\u001b[34m1\u001b[39;49;00m)\r\n",
      "        \u001b[36mself\u001b[39;49;00m.sig = nn.Sigmoid()\r\n",
      "        \r\n",
      "        \u001b[36mself\u001b[39;49;00m.word_dict = \u001b[34mNone\u001b[39;49;00m\r\n",
      "\r\n",
      "    \u001b[34mdef\u001b[39;49;00m \u001b[32mforward\u001b[39;49;00m(\u001b[36mself\u001b[39;49;00m, x):\r\n",
      "        \u001b[33m\"\"\"\u001b[39;49;00m\r\n",
      "\u001b[33m        Perform a forward pass of our model on some input.\u001b[39;49;00m\r\n",
      "\u001b[33m        \"\"\"\u001b[39;49;00m\r\n",
      "        x = x.t()\r\n",
      "        lengths = x[\u001b[34m0\u001b[39;49;00m,:]\r\n",
      "        reviews = x[\u001b[34m1\u001b[39;49;00m:,:]\r\n",
      "        embeds = \u001b[36mself\u001b[39;49;00m.embedding(reviews)\r\n",
      "        lstm_out, _ = \u001b[36mself\u001b[39;49;00m.lstm(embeds)\r\n",
      "        out = \u001b[36mself\u001b[39;49;00m.dense(lstm_out)\r\n",
      "        out = out[lengths - \u001b[34m1\u001b[39;49;00m, \u001b[36mrange\u001b[39;49;00m(\u001b[36mlen\u001b[39;49;00m(lengths))]\r\n",
      "        \u001b[34mreturn\u001b[39;49;00m \u001b[36mself\u001b[39;49;00m.sig(out.squeeze())\r\n"
     ]
    }
   ],
   "source": [
    "!pygmentize train/model.py"
   ]
  },
  {
   "cell_type": "markdown",
   "metadata": {},
   "source": [
    "The important takeaway from the implementation provided is that there are three parameters that we may wish to tweak to improve the performance of our model. These are the embedding dimension, the hidden dimension and the size of the vocabulary. We will likely want to make these parameters configurable in the training script so that if we wish to modify them we do not need to modify the script itself. We will see how to do this later on. To start we will write some of the training code in the notebook so that we can more easily diagnose any issues that arise.\n",
    "\n",
    "First we will load a small portion of the training data set to use as a sample. It would be very time consuming to try and train the model completely in the notebook as we do not have access to a gpu and the compute instance that we are using is not particularly powerful. However, we can work on a small bit of the data to get a feel for how our training script is behaving."
   ]
  },
  {
   "cell_type": "code",
   "execution_count": 26,
   "metadata": {},
   "outputs": [],
   "source": [
    "import torch\n",
    "import torch.utils.data\n",
    "\n",
    "# Read in only the first 250 rows\n",
    "train_sample = pd.read_csv(os.path.join(data_dir, 'train.csv'), header=None, names=None, nrows=250)\n",
    "\n",
    "# Turn the input pandas dataframe into tensors\n",
    "train_sample_y = torch.from_numpy(train_sample[[0]].values).float().squeeze()\n",
    "train_sample_X = torch.from_numpy(train_sample.drop([0], axis=1).values).long()\n",
    "\n",
    "# Build the dataset\n",
    "train_sample_ds = torch.utils.data.TensorDataset(train_sample_X, train_sample_y)\n",
    "# Build the dataloader\n",
    "train_sample_dl = torch.utils.data.DataLoader(train_sample_ds, batch_size=50)"
   ]
  },
  {
   "cell_type": "markdown",
   "metadata": {},
   "source": [
    "### (TODO) Writing the training method\n",
    "\n",
    "Next we need to write the training code itself. This should be very similar to training methods that you have written before to train PyTorch models. We will leave any difficult aspects such as model saving / loading and parameter loading until a little later."
   ]
  },
  {
   "cell_type": "code",
   "execution_count": 27,
   "metadata": {},
   "outputs": [],
   "source": [
    "def train(model, train_loader, epochs, optimizer, loss_fn, device):\n",
    "    for epoch in range(1, epochs + 1):\n",
    "        model.train()\n",
    "        total_loss = 0\n",
    "        for batch in train_loader:         \n",
    "            batch_X, batch_y = batch\n",
    "            \n",
    "            batch_X = batch_X.to(device)\n",
    "            batch_y = batch_y.to(device)\n",
    "            \n",
    "            # TODO: Complete this train method to train the model provided.\n",
    "            optimizer.zero_grad()\n",
    "            \n",
    "            output = model.forward(batch_X)\n",
    "            loss = loss_fn(output, batch_y)\n",
    "            loss.backward()\n",
    "            \n",
    "            optimizer.step()\n",
    "            \n",
    "            total_loss += loss.data.item()\n",
    "        print(\"Epoch: {}, BCELoss: {}\".format(epoch, total_loss / len(train_loader)))"
   ]
  },
  {
   "cell_type": "markdown",
   "metadata": {},
   "source": [
    "Supposing we have the training method above, we will test that it is working by writing a bit of code in the notebook that executes our training method on the small sample training set that we loaded earlier. The reason for doing this in the notebook is so that we have an opportunity to fix any errors that arise early when they are easier to diagnose."
   ]
  },
  {
   "cell_type": "code",
   "execution_count": 28,
   "metadata": {},
   "outputs": [
    {
     "name": "stdout",
     "output_type": "stream",
     "text": [
      "Epoch: 1, BCELoss: 0.6919429779052735\n",
      "Epoch: 2, BCELoss: 0.6828552126884461\n",
      "Epoch: 3, BCELoss: 0.6748012900352478\n",
      "Epoch: 4, BCELoss: 0.6659231424331665\n",
      "Epoch: 5, BCELoss: 0.655272650718689\n"
     ]
    }
   ],
   "source": [
    "import torch.optim as optim\n",
    "from train.model import LSTMClassifier\n",
    "\n",
    "device = torch.device(\"cuda\" if torch.cuda.is_available() else \"cpu\")\n",
    "model = LSTMClassifier(32, 100, 5000).to(device)\n",
    "optimizer = optim.Adam(model.parameters())\n",
    "loss_fn = torch.nn.BCELoss()\n",
    "\n",
    "train(model, train_sample_dl, 5, optimizer, loss_fn, device)"
   ]
  },
  {
   "cell_type": "markdown",
   "metadata": {},
   "source": [
    "In order to construct a PyTorch model using SageMaker we must provide SageMaker with a training script. We may optionally include a directory which will be copied to the container and from which our training code will be run. When the training container is executed it will check the uploaded directory (if there is one) for a `requirements.txt` file and install any required Python libraries, after which the training script will be run."
   ]
  },
  {
   "cell_type": "markdown",
   "metadata": {},
   "source": [
    "### (TODO) Training the model\n",
    "\n",
    "When a PyTorch model is constructed in SageMaker, an entry point must be specified. This is the Python file which will be executed when the model is trained. Inside of the `train` directory is a file called `train.py` which has been provided and which contains most of the necessary code to train our model. The only thing that is missing is the implementation of the `train()` method which you wrote earlier in this notebook.\n",
    "\n",
    "**TODO**: Copy the `train()` method written above and paste it into the `train/train.py` file where required.\n",
    "\n",
    "The way that SageMaker passes hyperparameters to the training script is by way of arguments. These arguments can then be parsed and used in the training script. To see how this is done take a look at the provided `train/train.py` file."
   ]
  },
  {
   "cell_type": "code",
   "execution_count": 29,
   "metadata": {},
   "outputs": [],
   "source": [
    "from sagemaker.pytorch import PyTorch\n",
    "\n",
    "estimator = PyTorch(entry_point=\"train.py\",\n",
    "                    source_dir=\"train\",\n",
    "                    role=role,\n",
    "                    framework_version='0.4.0',\n",
    "                    train_instance_count=1,\n",
    "                    train_instance_type='ml.p2.xlarge',\n",
    "                    hyperparameters={\n",
    "                        'epochs': 10,\n",
    "                        'hidden_dim': 200,\n",
    "                    })"
   ]
  },
  {
   "cell_type": "code",
   "execution_count": 30,
   "metadata": {},
   "outputs": [
    {
     "name": "stderr",
     "output_type": "stream",
     "text": [
      "'create_image_uri' will be deprecated in favor of 'ImageURIProvider' class in SageMaker Python SDK v2.\n",
      "'s3_input' class will be renamed to 'TrainingInput' in SageMaker Python SDK v2.\n",
      "'create_image_uri' will be deprecated in favor of 'ImageURIProvider' class in SageMaker Python SDK v2.\n"
     ]
    },
    {
     "name": "stdout",
     "output_type": "stream",
     "text": [
      "2020-08-04 20:35:54 Starting - Starting the training job...\n",
      "2020-08-04 20:35:57 Starting - Launching requested ML instances......\n",
      "2020-08-04 20:37:13 Starting - Preparing the instances for training.........\n",
      "2020-08-04 20:38:34 Downloading - Downloading input data...\n",
      "2020-08-04 20:39:18 Training - Downloading the training image...\n",
      "2020-08-04 20:39:39 Training - Training image download completed. Training in progress.\u001b[34mbash: cannot set terminal process group (-1): Inappropriate ioctl for device\u001b[0m\n",
      "\u001b[34mbash: no job control in this shell\u001b[0m\n",
      "\u001b[34m2020-08-04 20:39:40,271 sagemaker-containers INFO     Imported framework sagemaker_pytorch_container.training\u001b[0m\n",
      "\u001b[34m2020-08-04 20:39:40,297 sagemaker_pytorch_container.training INFO     Block until all host DNS lookups succeed.\u001b[0m\n",
      "\u001b[34m2020-08-04 20:39:41,827 sagemaker_pytorch_container.training INFO     Invoking user training script.\u001b[0m\n",
      "\u001b[34m2020-08-04 20:39:42,401 sagemaker-containers INFO     Module train does not provide a setup.py. \u001b[0m\n",
      "\u001b[34mGenerating setup.py\u001b[0m\n",
      "\u001b[34m2020-08-04 20:39:42,402 sagemaker-containers INFO     Generating setup.cfg\u001b[0m\n",
      "\u001b[34m2020-08-04 20:39:42,402 sagemaker-containers INFO     Generating MANIFEST.in\u001b[0m\n",
      "\u001b[34m2020-08-04 20:39:42,402 sagemaker-containers INFO     Installing module with the following command:\u001b[0m\n",
      "\u001b[34m/usr/bin/python -m pip install -U . -r requirements.txt\u001b[0m\n",
      "\u001b[34mProcessing /opt/ml/code\u001b[0m\n",
      "\u001b[34mCollecting pandas (from -r requirements.txt (line 1))\u001b[0m\n",
      "\u001b[34m  Downloading https://files.pythonhosted.org/packages/74/24/0cdbf8907e1e3bc5a8da03345c23cbed7044330bb8f73bb12e711a640a00/pandas-0.24.2-cp35-cp35m-manylinux1_x86_64.whl (10.0MB)\u001b[0m\n",
      "\u001b[34mCollecting numpy (from -r requirements.txt (line 2))\n",
      "  Downloading https://files.pythonhosted.org/packages/b5/36/88723426b4ff576809fec7d73594fe17a35c27f8d01f93637637a29ae25b/numpy-1.18.5-cp35-cp35m-manylinux1_x86_64.whl (19.9MB)\u001b[0m\n",
      "\u001b[34mCollecting nltk (from -r requirements.txt (line 3))\n",
      "  Downloading https://files.pythonhosted.org/packages/92/75/ce35194d8e3022203cca0d2f896dbb88689f9b3fce8e9f9cff942913519d/nltk-3.5.zip (1.4MB)\u001b[0m\n",
      "\u001b[34mCollecting beautifulsoup4 (from -r requirements.txt (line 4))\n",
      "  Downloading https://files.pythonhosted.org/packages/66/25/ff030e2437265616a1e9b25ccc864e0371a0bc3adb7c5a404fd661c6f4f6/beautifulsoup4-4.9.1-py3-none-any.whl (115kB)\u001b[0m\n",
      "\u001b[34mCollecting html5lib (from -r requirements.txt (line 5))\n",
      "  Downloading https://files.pythonhosted.org/packages/6c/dd/a834df6482147d48e225a49515aabc28974ad5a4ca3215c18a882565b028/html5lib-1.1-py2.py3-none-any.whl (112kB)\u001b[0m\n",
      "\u001b[34mRequirement already satisfied, skipping upgrade: python-dateutil>=2.5.0 in /usr/local/lib/python3.5/dist-packages (from pandas->-r requirements.txt (line 1)) (2.7.5)\u001b[0m\n",
      "\u001b[34mCollecting pytz>=2011k (from pandas->-r requirements.txt (line 1))\u001b[0m\n",
      "\u001b[34m  Downloading https://files.pythonhosted.org/packages/4f/a4/879454d49688e2fad93e59d7d4efda580b783c745fd2ec2a3adf87b0808d/pytz-2020.1-py2.py3-none-any.whl (510kB)\u001b[0m\n",
      "\u001b[34mRequirement already satisfied, skipping upgrade: click in /usr/local/lib/python3.5/dist-packages (from nltk->-r requirements.txt (line 3)) (7.0)\u001b[0m\n",
      "\u001b[34mCollecting joblib (from nltk->-r requirements.txt (line 3))\n",
      "  Downloading https://files.pythonhosted.org/packages/28/5c/cf6a2b65a321c4a209efcdf64c2689efae2cb62661f8f6f4bb28547cf1bf/joblib-0.14.1-py2.py3-none-any.whl (294kB)\u001b[0m\n",
      "\u001b[34mCollecting regex (from nltk->-r requirements.txt (line 3))\n",
      "  Downloading https://files.pythonhosted.org/packages/09/c3/ddaa87500f31ed86290e3d014c0302a51fde28d7139eda0b5f33733726db/regex-2020.7.14.tar.gz (690kB)\u001b[0m\n",
      "\u001b[34mCollecting tqdm (from nltk->-r requirements.txt (line 3))\n",
      "  Downloading https://files.pythonhosted.org/packages/28/7e/281edb5bc3274dfb894d90f4dbacfceaca381c2435ec6187a2c6f329aed7/tqdm-4.48.2-py2.py3-none-any.whl (68kB)\u001b[0m\n",
      "\u001b[34mCollecting soupsieve>1.2 (from beautifulsoup4->-r requirements.txt (line 4))\n",
      "  Downloading https://files.pythonhosted.org/packages/6f/8f/457f4a5390eeae1cc3aeab89deb7724c965be841ffca6cfca9197482e470/soupsieve-2.0.1-py3-none-any.whl\u001b[0m\n",
      "\u001b[34mCollecting webencodings (from html5lib->-r requirements.txt (line 5))\n",
      "  Downloading https://files.pythonhosted.org/packages/f4/24/2a3e3df732393fed8b3ebf2ec078f05546de641fe1b667ee316ec1dcf3b7/webencodings-0.5.1-py2.py3-none-any.whl\u001b[0m\n",
      "\u001b[34mRequirement already satisfied, skipping upgrade: six>=1.9 in /usr/local/lib/python3.5/dist-packages (from html5lib->-r requirements.txt (line 5)) (1.11.0)\u001b[0m\n",
      "\u001b[34mBuilding wheels for collected packages: nltk, train, regex\n",
      "  Running setup.py bdist_wheel for nltk: started\u001b[0m\n",
      "\u001b[34m  Running setup.py bdist_wheel for nltk: finished with status 'done'\n",
      "  Stored in directory: /root/.cache/pip/wheels/ae/8c/3f/b1fe0ba04555b08b57ab52ab7f86023639a526d8bc8d384306\n",
      "  Running setup.py bdist_wheel for train: started\n",
      "  Running setup.py bdist_wheel for train: finished with status 'done'\n",
      "  Stored in directory: /tmp/pip-ephem-wheel-cache-r9pp4ysb/wheels/35/24/16/37574d11bf9bde50616c67372a334f94fa8356bc7164af8ca3\n",
      "  Running setup.py bdist_wheel for regex: started\u001b[0m\n",
      "\u001b[34m  Running setup.py bdist_wheel for regex: finished with status 'done'\n",
      "  Stored in directory: /root/.cache/pip/wheels/53/55/dc/e17fa4568958f4c53be34b65e474a1327b64641f65df379ec3\u001b[0m\n",
      "\u001b[34mSuccessfully built nltk train regex\u001b[0m\n",
      "\u001b[34mInstalling collected packages: numpy, pytz, pandas, joblib, regex, tqdm, nltk, soupsieve, beautifulsoup4, webencodings, html5lib, train\n",
      "  Found existing installation: numpy 1.15.4\n",
      "    Uninstalling numpy-1.15.4:\u001b[0m\n",
      "\u001b[34m      Successfully uninstalled numpy-1.15.4\u001b[0m\n",
      "\u001b[34mSuccessfully installed beautifulsoup4-4.9.1 html5lib-1.1 joblib-0.14.1 nltk-3.5 numpy-1.18.5 pandas-0.24.2 pytz-2020.1 regex-2020.7.14 soupsieve-2.0.1 tqdm-4.48.2 train-1.0.0 webencodings-0.5.1\u001b[0m\n",
      "\u001b[34mYou are using pip version 18.1, however version 20.2.1 is available.\u001b[0m\n",
      "\u001b[34mYou should consider upgrading via the 'pip install --upgrade pip' command.\u001b[0m\n",
      "\u001b[34m2020-08-04 20:40:04,548 sagemaker-containers INFO     Invoking user script\n",
      "\u001b[0m\n",
      "\u001b[34mTraining Env:\n",
      "\u001b[0m\n",
      "\u001b[34m{\n",
      "    \"module_name\": \"train\",\n",
      "    \"input_data_config\": {\n",
      "        \"training\": {\n",
      "            \"TrainingInputMode\": \"File\",\n",
      "            \"S3DistributionType\": \"FullyReplicated\",\n",
      "            \"RecordWrapperType\": \"None\"\n",
      "        }\n",
      "    },\n",
      "    \"input_config_dir\": \"/opt/ml/input/config\",\n",
      "    \"additional_framework_parameters\": {},\n",
      "    \"framework_module\": \"sagemaker_pytorch_container.training:main\",\n",
      "    \"channel_input_dirs\": {\n",
      "        \"training\": \"/opt/ml/input/data/training\"\n",
      "    },\n",
      "    \"log_level\": 20,\n",
      "    \"output_dir\": \"/opt/ml/output\",\n",
      "    \"resource_config\": {\n",
      "        \"current_host\": \"algo-1\",\n",
      "        \"network_interface_name\": \"eth0\",\n",
      "        \"hosts\": [\n",
      "            \"algo-1\"\n",
      "        ]\n",
      "    },\n",
      "    \"hosts\": [\n",
      "        \"algo-1\"\n",
      "    ],\n",
      "    \"current_host\": \"algo-1\",\n",
      "    \"output_data_dir\": \"/opt/ml/output/data\",\n",
      "    \"model_dir\": \"/opt/ml/model\",\n",
      "    \"network_interface_name\": \"eth0\",\n",
      "    \"user_entry_point\": \"train.py\",\n",
      "    \"hyperparameters\": {\n",
      "        \"hidden_dim\": 200,\n",
      "        \"epochs\": 10\n",
      "    },\n",
      "    \"output_intermediate_dir\": \"/opt/ml/output/intermediate\",\n",
      "    \"job_name\": \"sagemaker-pytorch-2020-08-04-20-35-54-447\",\n",
      "    \"module_dir\": \"s3://sagemaker-us-east-1-612541805094/sagemaker-pytorch-2020-08-04-20-35-54-447/source/sourcedir.tar.gz\",\n",
      "    \"num_cpus\": 4,\n",
      "    \"input_dir\": \"/opt/ml/input\",\n",
      "    \"num_gpus\": 1\u001b[0m\n",
      "\u001b[34m}\n",
      "\u001b[0m\n",
      "\u001b[34mEnvironment variables:\n",
      "\u001b[0m\n",
      "\u001b[34mSM_MODEL_DIR=/opt/ml/model\u001b[0m\n",
      "\u001b[34mSM_USER_ENTRY_POINT=train.py\u001b[0m\n",
      "\u001b[34mSM_NUM_GPUS=1\u001b[0m\n",
      "\u001b[34mSM_HP_HIDDEN_DIM=200\u001b[0m\n",
      "\u001b[34mSM_LOG_LEVEL=20\u001b[0m\n",
      "\u001b[34mSM_NETWORK_INTERFACE_NAME=eth0\u001b[0m\n",
      "\u001b[34mSM_NUM_CPUS=4\u001b[0m\n",
      "\u001b[34mSM_CURRENT_HOST=algo-1\u001b[0m\n",
      "\u001b[34mSM_OUTPUT_DIR=/opt/ml/output\u001b[0m\n",
      "\u001b[34mSM_TRAINING_ENV={\"additional_framework_parameters\":{},\"channel_input_dirs\":{\"training\":\"/opt/ml/input/data/training\"},\"current_host\":\"algo-1\",\"framework_module\":\"sagemaker_pytorch_container.training:main\",\"hosts\":[\"algo-1\"],\"hyperparameters\":{\"epochs\":10,\"hidden_dim\":200},\"input_config_dir\":\"/opt/ml/input/config\",\"input_data_config\":{\"training\":{\"RecordWrapperType\":\"None\",\"S3DistributionType\":\"FullyReplicated\",\"TrainingInputMode\":\"File\"}},\"input_dir\":\"/opt/ml/input\",\"job_name\":\"sagemaker-pytorch-2020-08-04-20-35-54-447\",\"log_level\":20,\"model_dir\":\"/opt/ml/model\",\"module_dir\":\"s3://sagemaker-us-east-1-612541805094/sagemaker-pytorch-2020-08-04-20-35-54-447/source/sourcedir.tar.gz\",\"module_name\":\"train\",\"network_interface_name\":\"eth0\",\"num_cpus\":4,\"num_gpus\":1,\"output_data_dir\":\"/opt/ml/output/data\",\"output_dir\":\"/opt/ml/output\",\"output_intermediate_dir\":\"/opt/ml/output/intermediate\",\"resource_config\":{\"current_host\":\"algo-1\",\"hosts\":[\"algo-1\"],\"network_interface_name\":\"eth0\"},\"user_entry_point\":\"train.py\"}\u001b[0m\n",
      "\u001b[34mSM_OUTPUT_INTERMEDIATE_DIR=/opt/ml/output/intermediate\u001b[0m\n",
      "\u001b[34mSM_HPS={\"epochs\":10,\"hidden_dim\":200}\u001b[0m\n",
      "\u001b[34mSM_HOSTS=[\"algo-1\"]\u001b[0m\n",
      "\u001b[34mSM_OUTPUT_DATA_DIR=/opt/ml/output/data\u001b[0m\n",
      "\u001b[34mSM_FRAMEWORK_PARAMS={}\u001b[0m\n",
      "\u001b[34mSM_USER_ARGS=[\"--epochs\",\"10\",\"--hidden_dim\",\"200\"]\u001b[0m\n",
      "\u001b[34mSM_CHANNELS=[\"training\"]\u001b[0m\n",
      "\u001b[34mSM_MODULE_NAME=train\u001b[0m\n",
      "\u001b[34mSM_CHANNEL_TRAINING=/opt/ml/input/data/training\u001b[0m\n",
      "\u001b[34mSM_INPUT_CONFIG_DIR=/opt/ml/input/config\u001b[0m\n",
      "\u001b[34mSM_INPUT_DIR=/opt/ml/input\u001b[0m\n",
      "\u001b[34mSM_MODULE_DIR=s3://sagemaker-us-east-1-612541805094/sagemaker-pytorch-2020-08-04-20-35-54-447/source/sourcedir.tar.gz\u001b[0m\n",
      "\u001b[34mPYTHONPATH=/usr/local/bin:/usr/lib/python35.zip:/usr/lib/python3.5:/usr/lib/python3.5/plat-x86_64-linux-gnu:/usr/lib/python3.5/lib-dynload:/usr/local/lib/python3.5/dist-packages:/usr/lib/python3/dist-packages\u001b[0m\n",
      "\u001b[34mSM_INPUT_DATA_CONFIG={\"training\":{\"RecordWrapperType\":\"None\",\"S3DistributionType\":\"FullyReplicated\",\"TrainingInputMode\":\"File\"}}\u001b[0m\n",
      "\u001b[34mSM_RESOURCE_CONFIG={\"current_host\":\"algo-1\",\"hosts\":[\"algo-1\"],\"network_interface_name\":\"eth0\"}\u001b[0m\n",
      "\u001b[34mSM_FRAMEWORK_MODULE=sagemaker_pytorch_container.training:main\u001b[0m\n",
      "\u001b[34mSM_HP_EPOCHS=10\n",
      "\u001b[0m\n",
      "\u001b[34mInvoking script with the following command:\n",
      "\u001b[0m\n",
      "\u001b[34m/usr/bin/python -m train --epochs 10 --hidden_dim 200\n",
      "\n",
      "\u001b[0m\n",
      "\u001b[34mUsing device cuda.\u001b[0m\n",
      "\u001b[34mGet train data loader.\u001b[0m\n",
      "\u001b[34mModel loaded with embedding_dim 32, hidden_dim 200, vocab_size 5000.\u001b[0m\n",
      "\u001b[34mEpoch: 1, BCELoss: 0.6709559194895686\u001b[0m\n",
      "\u001b[34mEpoch: 2, BCELoss: 0.5930845846935194\u001b[0m\n",
      "\u001b[34mEpoch: 3, BCELoss: 0.4882978711809431\u001b[0m\n",
      "\u001b[34mEpoch: 4, BCELoss: 0.4363411190558453\u001b[0m\n",
      "\u001b[34mEpoch: 5, BCELoss: 0.376969184802503\u001b[0m\n",
      "\u001b[34mEpoch: 6, BCELoss: 0.3423850870862299\u001b[0m\n",
      "\u001b[34mEpoch: 7, BCELoss: 0.32333556729920054\u001b[0m\n",
      "\u001b[34mEpoch: 8, BCELoss: 0.3119087654108904\u001b[0m\n",
      "\u001b[34mEpoch: 9, BCELoss: 0.2904804126948726\u001b[0m\n",
      "\n",
      "2020-08-04 20:43:24 Uploading - Uploading generated training model\n",
      "2020-08-04 20:43:24 Completed - Training job completed\n",
      "\u001b[34mEpoch: 10, BCELoss: 0.2685759292573345\u001b[0m\n",
      "\u001b[34m2020-08-04 20:43:14,837 sagemaker-containers INFO     Reporting training SUCCESS\u001b[0m\n",
      "Training seconds: 290\n",
      "Billable seconds: 290\n"
     ]
    }
   ],
   "source": [
    "estimator.fit({'training': input_data})"
   ]
  },
  {
   "cell_type": "markdown",
   "metadata": {},
   "source": [
    "## Step 5: Testing the model\n",
    "\n",
    "As mentioned at the top of this notebook, we will be testing this model by first deploying it and then sending the testing data to the deployed endpoint. We will do this so that we can make sure that the deployed model is working correctly.\n",
    "\n",
    "## Step 6: Deploy the model for testing\n",
    "\n",
    "Now that we have trained our model, we would like to test it to see how it performs. Currently our model takes input of the form `review_length, review[500]` where `review[500]` is a sequence of `500` integers which describe the words present in the review, encoded using `word_dict`. Fortunately for us, SageMaker provides built-in inference code for models with simple inputs such as this.\n",
    "\n",
    "There is one thing that we need to provide, however, and that is a function which loads the saved model. This function must be called `model_fn()` and takes as its only parameter a path to the directory where the model artifacts are stored. This function must also be present in the python file which we specified as the entry point. In our case the model loading function has been provided and so no changes need to be made.\n",
    "\n",
    "**NOTE**: When the built-in inference code is run it must import the `model_fn()` method from the `train.py` file. This is why the training code is wrapped in a main guard ( ie, `if __name__ == '__main__':` )\n",
    "\n",
    "Since we don't need to change anything in the code that was uploaded during training, we can simply deploy the current model as-is.\n",
    "\n",
    "**NOTE:** When deploying a model you are asking SageMaker to launch an compute instance that will wait for data to be sent to it. As a result, this compute instance will continue to run until *you* shut it down. This is important to know since the cost of a deployed endpoint depends on how long it has been running for.\n",
    "\n",
    "In other words **If you are no longer using a deployed endpoint, shut it down!**\n",
    "\n",
    "**TODO:** Deploy the trained model."
   ]
  },
  {
   "cell_type": "code",
   "execution_count": 31,
   "metadata": {},
   "outputs": [
    {
     "name": "stderr",
     "output_type": "stream",
     "text": [
      "Parameter image will be renamed to image_uri in SageMaker Python SDK v2.\n",
      "'create_image_uri' will be deprecated in favor of 'ImageURIProvider' class in SageMaker Python SDK v2.\n"
     ]
    },
    {
     "name": "stdout",
     "output_type": "stream",
     "text": [
      "---------------!"
     ]
    }
   ],
   "source": [
    "# TODO: Deploy the trained model\n",
    "predictor = estimator.deploy(initial_instance_count=1, instance_type='ml.m4.xlarge')"
   ]
  },
  {
   "cell_type": "markdown",
   "metadata": {},
   "source": [
    "## Step 7 - Use the model for testing\n",
    "\n",
    "Once deployed, we can read in the test data and send it off to our deployed model to get some results. Once we collect all of the results we can determine how accurate our model is."
   ]
  },
  {
   "cell_type": "code",
   "execution_count": 32,
   "metadata": {},
   "outputs": [],
   "source": [
    "test_X = pd.concat([pd.DataFrame(test_X_len), pd.DataFrame(test_X)], axis=1)"
   ]
  },
  {
   "cell_type": "code",
   "execution_count": 33,
   "metadata": {},
   "outputs": [],
   "source": [
    "# We split the data into chunks and send each chunk seperately, accumulating the results.\n",
    "\n",
    "def predict(data, rows=512):\n",
    "    split_array = np.array_split(data, int(data.shape[0] / float(rows) + 1))\n",
    "    predictions = np.array([])\n",
    "    for array in split_array:\n",
    "        predictions = np.append(predictions, predictor.predict(array))\n",
    "    \n",
    "    return predictions"
   ]
  },
  {
   "cell_type": "code",
   "execution_count": 34,
   "metadata": {},
   "outputs": [],
   "source": [
    "predictions = predict(test_X.values)\n",
    "predictions = [round(num) for num in predictions]"
   ]
  },
  {
   "cell_type": "code",
   "execution_count": 35,
   "metadata": {},
   "outputs": [
    {
     "data": {
      "text/plain": [
       "0.85084"
      ]
     },
     "execution_count": 35,
     "metadata": {},
     "output_type": "execute_result"
    }
   ],
   "source": [
    "from sklearn.metrics import accuracy_score\n",
    "accuracy_score(test_y, predictions)"
   ]
  },
  {
   "cell_type": "markdown",
   "metadata": {},
   "source": [
    "**Question:** How does this model compare to the XGBoost model you created earlier? Why might these two models perform differently on this dataset? Which do *you* think is better for sentiment analysis?"
   ]
  },
  {
   "cell_type": "markdown",
   "metadata": {},
   "source": [
    "**Answer:** \n",
    "\n",
    "The XGBoost model is an implementation of gradient boosted decision trees and is good for tabular data with a small set of variables. Nerual nets like RNN is good for prediction problems invloving unstructured data like images and large amounts of text, which would make it a top choice for sentiment analysis.\n",
    "\n",
    "However, the accuracy scores for both models had less than a basis point difference. Tuning the hyperparameters of the XGBoost model would result in a bump in accuracy and thus make it a better choice."
   ]
  },
  {
   "cell_type": "markdown",
   "metadata": {},
   "source": [
    "### (TODO) More testing\n",
    "\n",
    "We now have a trained model which has been deployed and which we can send processed reviews to and which returns the predicted sentiment. However, ultimately we would like to be able to send our model an unprocessed review. That is, we would like to send the review itself as a string. For example, suppose we wish to send the following review to our model."
   ]
  },
  {
   "cell_type": "code",
   "execution_count": 36,
   "metadata": {},
   "outputs": [],
   "source": [
    "test_review = 'The simplest pleasures in life are the best, and this film is one of them. Combining a rather basic storyline of love and adventure this movie transcends the usual weekend fair with wit and unmitigated charm.'"
   ]
  },
  {
   "cell_type": "markdown",
   "metadata": {},
   "source": [
    "The question we now need to answer is, how do we send this review to our model?\n",
    "\n",
    "Recall in the first section of this notebook we did a bunch of data processing to the IMDb dataset. In particular, we did two specific things to the provided reviews.\n",
    " - Removed any html tags and stemmed the input\n",
    " - Encoded the review as a sequence of integers using `word_dict`\n",
    " \n",
    "In order process the review we will need to repeat these two steps.\n",
    "\n",
    "**TODO**: Using the `review_to_words` and `convert_and_pad` methods from section one, convert `test_review` into a numpy array `test_data` suitable to send to our model. Remember that our model expects input of the form `review_length, review[500]`."
   ]
  },
  {
   "cell_type": "code",
   "execution_count": 39,
   "metadata": {},
   "outputs": [],
   "source": [
    "# TODO: Convert test_review into a form usable by the model and save the results in test_data\n",
    "review_words, review_words_len = convert_and_pad(word_dict, review_to_words(test_review))\n",
    "data = [[review_words_len] + review_words]\n",
    "test_data = pd.DataFrame(data)"
   ]
  },
  {
   "cell_type": "markdown",
   "metadata": {},
   "source": [
    "Now that we have processed the review, we can send the resulting array to our model to predict the sentiment of the review."
   ]
  },
  {
   "cell_type": "code",
   "execution_count": 40,
   "metadata": {},
   "outputs": [
    {
     "data": {
      "text/plain": [
       "array(0.9779514, dtype=float32)"
      ]
     },
     "execution_count": 40,
     "metadata": {},
     "output_type": "execute_result"
    }
   ],
   "source": [
    "predictor.predict(test_data)"
   ]
  },
  {
   "cell_type": "markdown",
   "metadata": {},
   "source": [
    "Since the return value of our model is close to `1`, we can be certain that the review we submitted is positive."
   ]
  },
  {
   "cell_type": "markdown",
   "metadata": {},
   "source": [
    "### Delete the endpoint\n",
    "\n",
    "Of course, just like in the XGBoost notebook, once we've deployed an endpoint it continues to run until we tell it to shut down. Since we are done using our endpoint for now, we can delete it."
   ]
  },
  {
   "cell_type": "code",
   "execution_count": 41,
   "metadata": {},
   "outputs": [
    {
     "name": "stderr",
     "output_type": "stream",
     "text": [
      "estimator.delete_endpoint() will be deprecated in SageMaker Python SDK v2. Please use the delete_endpoint() function on your predictor instead.\n"
     ]
    }
   ],
   "source": [
    "estimator.delete_endpoint()"
   ]
  },
  {
   "cell_type": "markdown",
   "metadata": {},
   "source": [
    "## Step 6 (again) - Deploy the model for the web app\n",
    "\n",
    "Now that we know that our model is working, it's time to create some custom inference code so that we can send the model a review which has not been processed and have it determine the sentiment of the review.\n",
    "\n",
    "As we saw above, by default the estimator which we created, when deployed, will use the entry script and directory which we provided when creating the model. However, since we now wish to accept a string as input and our model expects a processed review, we need to write some custom inference code.\n",
    "\n",
    "We will store the code that we write in the `serve` directory. Provided in this directory is the `model.py` file that we used to construct our model, a `utils.py` file which contains the `review_to_words` and `convert_and_pad` pre-processing functions which we used during the initial data processing, and `predict.py`, the file which will contain our custom inference code. Note also that `requirements.txt` is present which will tell SageMaker what Python libraries are required by our custom inference code.\n",
    "\n",
    "When deploying a PyTorch model in SageMaker, you are expected to provide four functions which the SageMaker inference container will use.\n",
    " - `model_fn`: This function is the same function that we used in the training script and it tells SageMaker how to load our model.\n",
    " - `input_fn`: This function receives the raw serialized input that has been sent to the model's endpoint and its job is to de-serialize and make the input available for the inference code.\n",
    " - `output_fn`: This function takes the output of the inference code and its job is to serialize this output and return it to the caller of the model's endpoint.\n",
    " - `predict_fn`: The heart of the inference script, this is where the actual prediction is done and is the function which you will need to complete.\n",
    "\n",
    "For the simple website that we are constructing during this project, the `input_fn` and `output_fn` methods are relatively straightforward. We only require being able to accept a string as input and we expect to return a single value as output. You might imagine though that in a more complex application the input or output may be image data or some other binary data which would require some effort to serialize.\n",
    "\n",
    "### (TODO) Writing inference code\n",
    "\n",
    "Before writing our custom inference code, we will begin by taking a look at the code which has been provided."
   ]
  },
  {
   "cell_type": "code",
   "execution_count": 42,
   "metadata": {},
   "outputs": [
    {
     "name": "stdout",
     "output_type": "stream",
     "text": [
      "\u001b[34mimport\u001b[39;49;00m \u001b[04m\u001b[36margparse\u001b[39;49;00m\r\n",
      "\u001b[34mimport\u001b[39;49;00m \u001b[04m\u001b[36mjson\u001b[39;49;00m\r\n",
      "\u001b[34mimport\u001b[39;49;00m \u001b[04m\u001b[36mos\u001b[39;49;00m\r\n",
      "\u001b[34mimport\u001b[39;49;00m \u001b[04m\u001b[36mpickle\u001b[39;49;00m\r\n",
      "\u001b[34mimport\u001b[39;49;00m \u001b[04m\u001b[36msys\u001b[39;49;00m\r\n",
      "\u001b[34mimport\u001b[39;49;00m \u001b[04m\u001b[36msagemaker_containers\u001b[39;49;00m\r\n",
      "\u001b[34mimport\u001b[39;49;00m \u001b[04m\u001b[36mpandas\u001b[39;49;00m \u001b[34mas\u001b[39;49;00m \u001b[04m\u001b[36mpd\u001b[39;49;00m\r\n",
      "\u001b[34mimport\u001b[39;49;00m \u001b[04m\u001b[36mnumpy\u001b[39;49;00m \u001b[34mas\u001b[39;49;00m \u001b[04m\u001b[36mnp\u001b[39;49;00m\r\n",
      "\u001b[34mimport\u001b[39;49;00m \u001b[04m\u001b[36mtorch\u001b[39;49;00m\r\n",
      "\u001b[34mimport\u001b[39;49;00m \u001b[04m\u001b[36mtorch\u001b[39;49;00m\u001b[04m\u001b[36m.\u001b[39;49;00m\u001b[04m\u001b[36mnn\u001b[39;49;00m \u001b[34mas\u001b[39;49;00m \u001b[04m\u001b[36mnn\u001b[39;49;00m\r\n",
      "\u001b[34mimport\u001b[39;49;00m \u001b[04m\u001b[36mtorch\u001b[39;49;00m\u001b[04m\u001b[36m.\u001b[39;49;00m\u001b[04m\u001b[36moptim\u001b[39;49;00m \u001b[34mas\u001b[39;49;00m \u001b[04m\u001b[36moptim\u001b[39;49;00m\r\n",
      "\u001b[34mimport\u001b[39;49;00m \u001b[04m\u001b[36mtorch\u001b[39;49;00m\u001b[04m\u001b[36m.\u001b[39;49;00m\u001b[04m\u001b[36mutils\u001b[39;49;00m\u001b[04m\u001b[36m.\u001b[39;49;00m\u001b[04m\u001b[36mdata\u001b[39;49;00m\r\n",
      "\r\n",
      "\u001b[34mfrom\u001b[39;49;00m \u001b[04m\u001b[36mmodel\u001b[39;49;00m \u001b[34mimport\u001b[39;49;00m LSTMClassifier\r\n",
      "\r\n",
      "\u001b[34mfrom\u001b[39;49;00m \u001b[04m\u001b[36mutils\u001b[39;49;00m \u001b[34mimport\u001b[39;49;00m review_to_words, convert_and_pad\r\n",
      "\r\n",
      "\u001b[34mdef\u001b[39;49;00m \u001b[32mmodel_fn\u001b[39;49;00m(model_dir):\r\n",
      "    \u001b[33m\"\"\"Load the PyTorch model from the `model_dir` directory.\"\"\"\u001b[39;49;00m\r\n",
      "    \u001b[36mprint\u001b[39;49;00m(\u001b[33m\"\u001b[39;49;00m\u001b[33mLoading model.\u001b[39;49;00m\u001b[33m\"\u001b[39;49;00m)\r\n",
      "\r\n",
      "    \u001b[37m# First, load the parameters used to create the model.\u001b[39;49;00m\r\n",
      "    model_info = {}\r\n",
      "    model_info_path = os.path.join(model_dir, \u001b[33m'\u001b[39;49;00m\u001b[33mmodel_info.pth\u001b[39;49;00m\u001b[33m'\u001b[39;49;00m)\r\n",
      "    \u001b[34mwith\u001b[39;49;00m \u001b[36mopen\u001b[39;49;00m(model_info_path, \u001b[33m'\u001b[39;49;00m\u001b[33mrb\u001b[39;49;00m\u001b[33m'\u001b[39;49;00m) \u001b[34mas\u001b[39;49;00m f:\r\n",
      "        model_info = torch.load(f)\r\n",
      "\r\n",
      "    \u001b[36mprint\u001b[39;49;00m(\u001b[33m\"\u001b[39;49;00m\u001b[33mmodel_info: \u001b[39;49;00m\u001b[33m{}\u001b[39;49;00m\u001b[33m\"\u001b[39;49;00m.format(model_info))\r\n",
      "\r\n",
      "    \u001b[37m# Determine the device and construct the model.\u001b[39;49;00m\r\n",
      "    device = torch.device(\u001b[33m\"\u001b[39;49;00m\u001b[33mcuda\u001b[39;49;00m\u001b[33m\"\u001b[39;49;00m \u001b[34mif\u001b[39;49;00m torch.cuda.is_available() \u001b[34melse\u001b[39;49;00m \u001b[33m\"\u001b[39;49;00m\u001b[33mcpu\u001b[39;49;00m\u001b[33m\"\u001b[39;49;00m)\r\n",
      "    model = LSTMClassifier(model_info[\u001b[33m'\u001b[39;49;00m\u001b[33membedding_dim\u001b[39;49;00m\u001b[33m'\u001b[39;49;00m], model_info[\u001b[33m'\u001b[39;49;00m\u001b[33mhidden_dim\u001b[39;49;00m\u001b[33m'\u001b[39;49;00m], model_info[\u001b[33m'\u001b[39;49;00m\u001b[33mvocab_size\u001b[39;49;00m\u001b[33m'\u001b[39;49;00m])\r\n",
      "\r\n",
      "    \u001b[37m# Load the store model parameters.\u001b[39;49;00m\r\n",
      "    model_path = os.path.join(model_dir, \u001b[33m'\u001b[39;49;00m\u001b[33mmodel.pth\u001b[39;49;00m\u001b[33m'\u001b[39;49;00m)\r\n",
      "    \u001b[34mwith\u001b[39;49;00m \u001b[36mopen\u001b[39;49;00m(model_path, \u001b[33m'\u001b[39;49;00m\u001b[33mrb\u001b[39;49;00m\u001b[33m'\u001b[39;49;00m) \u001b[34mas\u001b[39;49;00m f:\r\n",
      "        model.load_state_dict(torch.load(f))\r\n",
      "\r\n",
      "    \u001b[37m# Load the saved word_dict.\u001b[39;49;00m\r\n",
      "    word_dict_path = os.path.join(model_dir, \u001b[33m'\u001b[39;49;00m\u001b[33mword_dict.pkl\u001b[39;49;00m\u001b[33m'\u001b[39;49;00m)\r\n",
      "    \u001b[34mwith\u001b[39;49;00m \u001b[36mopen\u001b[39;49;00m(word_dict_path, \u001b[33m'\u001b[39;49;00m\u001b[33mrb\u001b[39;49;00m\u001b[33m'\u001b[39;49;00m) \u001b[34mas\u001b[39;49;00m f:\r\n",
      "        model.word_dict = pickle.load(f)\r\n",
      "\r\n",
      "    model.to(device).eval()\r\n",
      "\r\n",
      "    \u001b[36mprint\u001b[39;49;00m(\u001b[33m\"\u001b[39;49;00m\u001b[33mDone loading model.\u001b[39;49;00m\u001b[33m\"\u001b[39;49;00m)\r\n",
      "    \u001b[34mreturn\u001b[39;49;00m model\r\n",
      "\r\n",
      "\u001b[34mdef\u001b[39;49;00m \u001b[32minput_fn\u001b[39;49;00m(serialized_input_data, content_type):\r\n",
      "    \u001b[36mprint\u001b[39;49;00m(\u001b[33m'\u001b[39;49;00m\u001b[33mDeserializing the input data.\u001b[39;49;00m\u001b[33m'\u001b[39;49;00m)\r\n",
      "    \u001b[34mif\u001b[39;49;00m content_type == \u001b[33m'\u001b[39;49;00m\u001b[33mtext/plain\u001b[39;49;00m\u001b[33m'\u001b[39;49;00m:\r\n",
      "        data = serialized_input_data.decode(\u001b[33m'\u001b[39;49;00m\u001b[33mutf-8\u001b[39;49;00m\u001b[33m'\u001b[39;49;00m)\r\n",
      "        \u001b[34mreturn\u001b[39;49;00m data\r\n",
      "    \u001b[34mraise\u001b[39;49;00m \u001b[36mException\u001b[39;49;00m(\u001b[33m'\u001b[39;49;00m\u001b[33mRequested unsupported ContentType in content_type: \u001b[39;49;00m\u001b[33m'\u001b[39;49;00m + content_type)\r\n",
      "\r\n",
      "\u001b[34mdef\u001b[39;49;00m \u001b[32moutput_fn\u001b[39;49;00m(prediction_output, accept):\r\n",
      "    \u001b[36mprint\u001b[39;49;00m(\u001b[33m'\u001b[39;49;00m\u001b[33mSerializing the generated output.\u001b[39;49;00m\u001b[33m'\u001b[39;49;00m)\r\n",
      "    \u001b[34mreturn\u001b[39;49;00m \u001b[36mstr\u001b[39;49;00m(prediction_output)\r\n",
      "\r\n",
      "\u001b[34mdef\u001b[39;49;00m \u001b[32mpredict_fn\u001b[39;49;00m(input_data, model):\r\n",
      "    \u001b[36mprint\u001b[39;49;00m(\u001b[33m'\u001b[39;49;00m\u001b[33mInferring sentiment of input data.\u001b[39;49;00m\u001b[33m'\u001b[39;49;00m)\r\n",
      "\r\n",
      "    device = torch.device(\u001b[33m\"\u001b[39;49;00m\u001b[33mcuda\u001b[39;49;00m\u001b[33m\"\u001b[39;49;00m \u001b[34mif\u001b[39;49;00m torch.cuda.is_available() \u001b[34melse\u001b[39;49;00m \u001b[33m\"\u001b[39;49;00m\u001b[33mcpu\u001b[39;49;00m\u001b[33m\"\u001b[39;49;00m)\r\n",
      "    \r\n",
      "    \u001b[34mif\u001b[39;49;00m model.word_dict \u001b[35mis\u001b[39;49;00m \u001b[34mNone\u001b[39;49;00m:\r\n",
      "        \u001b[34mraise\u001b[39;49;00m \u001b[36mException\u001b[39;49;00m(\u001b[33m'\u001b[39;49;00m\u001b[33mModel has not been loaded properly, no word_dict.\u001b[39;49;00m\u001b[33m'\u001b[39;49;00m)\r\n",
      "    \r\n",
      "    \u001b[37m# TODO: Process input_data so that it is ready to be sent to our model.\u001b[39;49;00m\r\n",
      "    \u001b[37m#       You should produce two variables:\u001b[39;49;00m\r\n",
      "    \u001b[37m#         data_X   - A sequence of length 500 which represents the converted review\u001b[39;49;00m\r\n",
      "    \u001b[37m#         data_len - The length of the review\u001b[39;49;00m\r\n",
      "\r\n",
      "    data_X, data_len = convert_and_pad(model.word_dict, review_to_words(input_data), \u001b[34m500\u001b[39;49;00m)\r\n",
      "    \r\n",
      "\r\n",
      "    \u001b[37m# Using data_X and data_len we construct an appropriate input tensor. Remember\u001b[39;49;00m\r\n",
      "    \u001b[37m# that our model expects input data of the form 'len, review[500]'.\u001b[39;49;00m\r\n",
      "    data_pack = np.hstack((data_len, data_X))\r\n",
      "    data_pack = data_pack.reshape(\u001b[34m1\u001b[39;49;00m, -\u001b[34m1\u001b[39;49;00m)\r\n",
      "    \r\n",
      "    data = torch.from_numpy(data_pack)\r\n",
      "    data = data.to(device)\r\n",
      "\r\n",
      "    \u001b[37m# Make sure to put the model into evaluation mode\u001b[39;49;00m\r\n",
      "    model.eval()\r\n",
      "\r\n",
      "    \u001b[37m# TODO: Compute the result of applying the model to the input data. The variable `result` should\u001b[39;49;00m\r\n",
      "    \u001b[37m#       be a numpy array which contains a single integer which is either 1 or 0\u001b[39;49;00m\r\n",
      "\r\n",
      "    result = model(data)\r\n",
      "    result = \u001b[36mround\u001b[39;49;00m(result.item())\r\n",
      "\r\n",
      "    \u001b[34mreturn\u001b[39;49;00m result\r\n"
     ]
    }
   ],
   "source": [
    "!pygmentize serve/predict.py"
   ]
  },
  {
   "cell_type": "markdown",
   "metadata": {},
   "source": [
    "As mentioned earlier, the `model_fn` method is the same as the one provided in the training code and the `input_fn` and `output_fn` methods are very simple and your task will be to complete the `predict_fn` method. Make sure that you save the completed file as `predict.py` in the `serve` directory.\n",
    "\n",
    "**TODO**: Complete the `predict_fn()` method in the `serve/predict.py` file."
   ]
  },
  {
   "cell_type": "markdown",
   "metadata": {},
   "source": [
    "### Deploying the model\n",
    "\n",
    "Now that the custom inference code has been written, we will create and deploy our model. To begin with, we need to construct a new PyTorchModel object which points to the model artifacts created during training and also points to the inference code that we wish to use. Then we can call the deploy method to launch the deployment container.\n",
    "\n",
    "**NOTE**: The default behaviour for a deployed PyTorch model is to assume that any input passed to the predictor is a `numpy` array. In our case we want to send a string so we need to construct a simple wrapper around the `RealTimePredictor` class to accomodate simple strings. In a more complicated situation you may want to provide a serialization object, for example if you wanted to sent image data."
   ]
  },
  {
   "cell_type": "code",
   "execution_count": 43,
   "metadata": {},
   "outputs": [
    {
     "name": "stderr",
     "output_type": "stream",
     "text": [
      "Parameter image will be renamed to image_uri in SageMaker Python SDK v2.\n",
      "'create_image_uri' will be deprecated in favor of 'ImageURIProvider' class in SageMaker Python SDK v2.\n"
     ]
    },
    {
     "name": "stdout",
     "output_type": "stream",
     "text": [
      "-------------------!"
     ]
    }
   ],
   "source": [
    "from sagemaker.predictor import RealTimePredictor\n",
    "from sagemaker.pytorch import PyTorchModel\n",
    "\n",
    "class StringPredictor(RealTimePredictor):\n",
    "    def __init__(self, endpoint_name, sagemaker_session):\n",
    "        super(StringPredictor, self).__init__(endpoint_name, sagemaker_session, content_type='text/plain')\n",
    "\n",
    "model = PyTorchModel(model_data=estimator.model_data,\n",
    "                     role = role,\n",
    "                     framework_version='0.4.0',\n",
    "                     entry_point='predict.py',\n",
    "                     source_dir='serve',\n",
    "                     predictor_cls=StringPredictor)\n",
    "predictor = model.deploy(initial_instance_count=1, instance_type='ml.m4.xlarge')"
   ]
  },
  {
   "cell_type": "markdown",
   "metadata": {},
   "source": [
    "### Testing the model\n",
    "\n",
    "Now that we have deployed our model with the custom inference code, we should test to see if everything is working. Here we test our model by loading the first `250` positive and negative reviews and send them to the endpoint, then collect the results. The reason for only sending some of the data is that the amount of time it takes for our model to process the input and then perform inference is quite long and so testing the entire data set would be prohibitive."
   ]
  },
  {
   "cell_type": "code",
   "execution_count": 44,
   "metadata": {},
   "outputs": [],
   "source": [
    "import glob\n",
    "\n",
    "def test_reviews(data_dir='../data/aclImdb', stop=250):\n",
    "    \n",
    "    results = []\n",
    "    ground = []\n",
    "    \n",
    "    # We make sure to test both positive and negative reviews    \n",
    "    for sentiment in ['pos', 'neg']:\n",
    "        \n",
    "        path = os.path.join(data_dir, 'test', sentiment, '*.txt')\n",
    "        files = glob.glob(path)\n",
    "        \n",
    "        files_read = 0\n",
    "        \n",
    "        print('Starting ', sentiment, ' files')\n",
    "        \n",
    "        # Iterate through the files and send them to the predictor\n",
    "        for f in files:\n",
    "            with open(f) as review:\n",
    "                # First, we store the ground truth (was the review positive or negative)\n",
    "                if sentiment == 'pos':\n",
    "                    ground.append(1)\n",
    "                else:\n",
    "                    ground.append(0)\n",
    "                # Read in the review and convert to 'utf-8' for transmission via HTTP\n",
    "                review_input = review.read().encode('utf-8')\n",
    "                # Send the review to the predictor and store the results\n",
    "                results.append(int(predictor.predict(review_input)))\n",
    "                \n",
    "            # Sending reviews to our endpoint one at a time takes a while so we\n",
    "            # only send a small number of reviews\n",
    "            files_read += 1\n",
    "            if files_read == stop:\n",
    "                break\n",
    "            \n",
    "    return ground, results"
   ]
  },
  {
   "cell_type": "code",
   "execution_count": 45,
   "metadata": {},
   "outputs": [
    {
     "name": "stdout",
     "output_type": "stream",
     "text": [
      "Starting  pos  files\n",
      "Starting  neg  files\n"
     ]
    }
   ],
   "source": [
    "ground, results = test_reviews()"
   ]
  },
  {
   "cell_type": "code",
   "execution_count": 46,
   "metadata": {},
   "outputs": [
    {
     "data": {
      "text/plain": [
       "0.846"
      ]
     },
     "execution_count": 46,
     "metadata": {},
     "output_type": "execute_result"
    }
   ],
   "source": [
    "from sklearn.metrics import accuracy_score\n",
    "accuracy_score(ground, results)"
   ]
  },
  {
   "cell_type": "markdown",
   "metadata": {},
   "source": [
    "As an additional test, we can try sending the `test_review` that we looked at earlier."
   ]
  },
  {
   "cell_type": "code",
   "execution_count": 47,
   "metadata": {},
   "outputs": [
    {
     "data": {
      "text/plain": [
       "b'1'"
      ]
     },
     "execution_count": 47,
     "metadata": {},
     "output_type": "execute_result"
    }
   ],
   "source": [
    "predictor.predict(test_review)"
   ]
  },
  {
   "cell_type": "markdown",
   "metadata": {},
   "source": [
    "Now that we know our endpoint is working as expected, we can set up the web page that will interact with it. If you don't have time to finish the project now, make sure to skip down to the end of this notebook and shut down your endpoint. You can deploy it again when you come back."
   ]
  },
  {
   "cell_type": "markdown",
   "metadata": {},
   "source": [
    "## Step 7 (again): Use the model for the web app\n",
    "\n",
    "> **TODO:** This entire section and the next contain tasks for you to complete, mostly using the AWS console.\n",
    "\n",
    "So far we have been accessing our model endpoint by constructing a predictor object which uses the endpoint and then just using the predictor object to perform inference. What if we wanted to create a web app which accessed our model? The way things are set up currently makes that not possible since in order to access a SageMaker endpoint the app would first have to authenticate with AWS using an IAM role which included access to SageMaker endpoints. However, there is an easier way! We just need to use some additional AWS services.\n",
    "\n",
    "<img src=\"Web App Diagram.svg\">\n",
    "\n",
    "The diagram above gives an overview of how the various services will work together. On the far right is the model which we trained above and which is deployed using SageMaker. On the far left is our web app that collects a user's movie review, sends it off and expects a positive or negative sentiment in return.\n",
    "\n",
    "In the middle is where some of the magic happens. We will construct a Lambda function, which you can think of as a straightforward Python function that can be executed whenever a specified event occurs. We will give this function permission to send and recieve data from a SageMaker endpoint.\n",
    "\n",
    "Lastly, the method we will use to execute the Lambda function is a new endpoint that we will create using API Gateway. This endpoint will be a url that listens for data to be sent to it. Once it gets some data it will pass that data on to the Lambda function and then return whatever the Lambda function returns. Essentially it will act as an interface that lets our web app communicate with the Lambda function.\n",
    "\n",
    "### Setting up a Lambda function\n",
    "\n",
    "The first thing we are going to do is set up a Lambda function. This Lambda function will be executed whenever our public API has data sent to it. When it is executed it will receive the data, perform any sort of processing that is required, send the data (the review) to the SageMaker endpoint we've created and then return the result.\n",
    "\n",
    "#### Part A: Create an IAM Role for the Lambda function\n",
    "\n",
    "Since we want the Lambda function to call a SageMaker endpoint, we need to make sure that it has permission to do so. To do this, we will construct a role that we can later give the Lambda function.\n",
    "\n",
    "Using the AWS Console, navigate to the **IAM** page and click on **Roles**. Then, click on **Create role**. Make sure that the **AWS service** is the type of trusted entity selected and choose **Lambda** as the service that will use this role, then click **Next: Permissions**.\n",
    "\n",
    "In the search box type `sagemaker` and select the check box next to the **AmazonSageMakerFullAccess** policy. Then, click on **Next: Review**.\n",
    "\n",
    "Lastly, give this role a name. Make sure you use a name that you will remember later on, for example `LambdaSageMakerRole`. Then, click on **Create role**.\n",
    "\n",
    "#### Part B: Create a Lambda function\n",
    "\n",
    "Now it is time to actually create the Lambda function.\n",
    "\n",
    "Using the AWS Console, navigate to the AWS Lambda page and click on **Create a function**. When you get to the next page, make sure that **Author from scratch** is selected. Now, name your Lambda function, using a name that you will remember later on, for example `sentiment_analysis_func`. Make sure that the **Python 3.6** runtime is selected and then choose the role that you created in the previous part. Then, click on **Create Function**.\n",
    "\n",
    "On the next page you will see some information about the Lambda function you've just created. If you scroll down you should see an editor in which you can write the code that will be executed when your Lambda function is triggered. In our example, we will use the code below. \n",
    "\n",
    "```python\n",
    "# We need to use the low-level library to interact with SageMaker since the SageMaker API\n",
    "# is not available natively through Lambda.\n",
    "import boto3\n",
    "\n",
    "def lambda_handler(event, context):\n",
    "\n",
    "    # The SageMaker runtime is what allows us to invoke the endpoint that we've created.\n",
    "    runtime = boto3.Session().client('sagemaker-runtime')\n",
    "\n",
    "    # Now we use the SageMaker runtime to invoke our endpoint, sending the review we were given\n",
    "    response = runtime.invoke_endpoint(EndpointName = '**ENDPOINT NAME HERE**',    # The name of the endpoint we created\n",
    "                                       ContentType = 'text/plain',                 # The data format that is expected\n",
    "                                       Body = event['body'])                       # The actual review\n",
    "\n",
    "    # The response is an HTTP response whose body contains the result of our inference\n",
    "    result = response['Body'].read().decode('utf-8')\n",
    "\n",
    "    return {\n",
    "        'statusCode' : 200,\n",
    "        'headers' : { 'Content-Type' : 'text/plain', 'Access-Control-Allow-Origin' : '*' },\n",
    "        'body' : result\n",
    "    }\n",
    "```\n",
    "\n",
    "Once you have copy and pasted the code above into the Lambda code editor, replace the `**ENDPOINT NAME HERE**` portion with the name of the endpoint that we deployed earlier. You can determine the name of the endpoint using the code cell below."
   ]
  },
  {
   "cell_type": "code",
   "execution_count": 48,
   "metadata": {},
   "outputs": [
    {
     "data": {
      "text/plain": [
       "'sagemaker-pytorch-2020-08-04-21-03-16-083'"
      ]
     },
     "execution_count": 48,
     "metadata": {},
     "output_type": "execute_result"
    }
   ],
   "source": [
    "predictor.endpoint"
   ]
  },
  {
   "cell_type": "markdown",
   "metadata": {},
   "source": [
    "Once you have added the endpoint name to the Lambda function, click on **Save**. Your Lambda function is now up and running. Next we need to create a way for our web app to execute the Lambda function.\n",
    "\n",
    "### Setting up API Gateway\n",
    "\n",
    "Now that our Lambda function is set up, it is time to create a new API using API Gateway that will trigger the Lambda function we have just created.\n",
    "\n",
    "Using AWS Console, navigate to **Amazon API Gateway** and then click on **Get started**.\n",
    "\n",
    "On the next page, make sure that **New API** is selected and give the new api a name, for example, `sentiment_analysis_api`. Then, click on **Create API**.\n",
    "\n",
    "Now we have created an API, however it doesn't currently do anything. What we want it to do is to trigger the Lambda function that we created earlier.\n",
    "\n",
    "Select the **Actions** dropdown menu and click **Create Method**. A new blank method will be created, select its dropdown menu and select **POST**, then click on the check mark beside it.\n",
    "\n",
    "For the integration point, make sure that **Lambda Function** is selected and click on the **Use Lambda Proxy integration**. This option makes sure that the data that is sent to the API is then sent directly to the Lambda function with no processing. It also means that the return value must be a proper response object as it will also not be processed by API Gateway.\n",
    "\n",
    "Type the name of the Lambda function you created earlier into the **Lambda Function** text entry box and then click on **Save**. Click on **OK** in the pop-up box that then appears, giving permission to API Gateway to invoke the Lambda function you created.\n",
    "\n",
    "The last step in creating the API Gateway is to select the **Actions** dropdown and click on **Deploy API**. You will need to create a new Deployment stage and name it anything you like, for example `prod`.\n",
    "\n",
    "You have now successfully set up a public API to access your SageMaker model. Make sure to copy or write down the URL provided to invoke your newly created public API as this will be needed in the next step. This URL can be found at the top of the page, highlighted in blue next to the text **Invoke URL**."
   ]
  },
  {
   "cell_type": "markdown",
   "metadata": {},
   "source": [
    "## Step 4: Deploying our web app\n",
    "\n",
    "Now that we have a publicly available API, we can start using it in a web app. For our purposes, we have provided a simple static html file which can make use of the public api you created earlier.\n",
    "\n",
    "In the `website` folder there should be a file called `index.html`. Download the file to your computer and open that file up in a text editor of your choice. There should be a line which contains **\\*\\*REPLACE WITH PUBLIC API URL\\*\\***. Replace this string with the url that you wrote down in the last step and then save the file.\n",
    "\n",
    "Now, if you open `index.html` on your local computer, your browser will behave as a local web server and you can use the provided site to interact with your SageMaker model.\n",
    "\n",
    "If you'd like to go further, you can host this html file anywhere you'd like, for example using github or hosting a static site on Amazon's S3. Once you have done this you can share the link with anyone you'd like and have them play with it too!\n",
    "\n",
    "> **Important Note** In order for the web app to communicate with the SageMaker endpoint, the endpoint has to actually be deployed and running. This means that you are paying for it. Make sure that the endpoint is running when you want to use the web app but that you shut it down when you don't need it, otherwise you will end up with a surprisingly large AWS bill.\n",
    "\n",
    "**TODO:** Make sure that you include the edited `index.html` file in your project submission."
   ]
  },
  {
   "cell_type": "markdown",
   "metadata": {},
   "source": [
    "Now that your web app is working, trying playing around with it and see how well it works.\n",
    "\n",
    "**Question**: Give an example of a review that you entered into your web app. What was the predicted sentiment of your example review?"
   ]
  },
  {
   "cell_type": "markdown",
   "metadata": {},
   "source": [
    "**Answer:**\n",
    "\n",
    "Review of Despicable Me:\n",
    "\n",
    "\"Carell as Gru may be the draw for this movie, and he does a wonderful job -- as always -- with his voice acting; but it's the girls who are the most impressive. They know exactly how to convey hurt, disappointment, joy, and wonder -- not an easy task for young actors. Segel's Vector is that fabulous combination of super nerdy and super arrogant, exactly the sort of villain (and person) who would rankle an old-school villain like Gru. It's easy to root for Gru when his nemesis is such a jerk. The movie also features a wonderfully catchy and unique soundtrack by hip-hop performer/producer Pharrell Williams, and, to its credit, the 3-D is actually enjoyable, as opposed to irritating. Will Gru rank among the greatest villains of all time? No, because in the end, he's actually got a heart -- and a large one at that.\n",
    "\n",
    "The best movie villains gleefully chew up the scenery, either because they're so creepily eeeevil (Darth Vader, Hannibal Lecter, Voldemort), or because they're larger than life (the Terminator, Cruella de Vil, the Wicked Witch of the West). So it's a unique twist to see an animated movie that focuses on the villain. He doesn't turn hero overnight, but he's not a one-dimensional tyrant, either. He's got mommy issues (his mom, played by Julie Andrews, is the stereotypically overlycritical mother who's never pleased with her son's accomplishments), he's older and not as \"bankable\" as he used to be, and he really needs a buzzed-about scheme to go his way. Enter the three little orphans, the youngest of whom (Agnes) is so irresistably adorable she's like a human Puss 'N Boots.\"\n",
    "\n",
    "Predicted sentiment: Positive "
   ]
  },
  {
   "cell_type": "markdown",
   "metadata": {},
   "source": [
    "### Delete the endpoint\n",
    "\n",
    "Remember to always shut down your endpoint if you are no longer using it. You are charged for the length of time that the endpoint is running so if you forget and leave it on you could end up with an unexpectedly large bill."
   ]
  },
  {
   "cell_type": "code",
   "execution_count": 49,
   "metadata": {},
   "outputs": [],
   "source": [
    "predictor.delete_endpoint()"
   ]
  },
  {
   "cell_type": "code",
   "execution_count": null,
   "metadata": {},
   "outputs": [],
   "source": []
  },
  {
   "cell_type": "code",
   "execution_count": null,
   "metadata": {},
   "outputs": [],
   "source": []
  }
 ],
 "metadata": {
  "kernelspec": {
   "display_name": "conda_pytorch_p36",
   "language": "python",
   "name": "conda_pytorch_p36"
  },
  "language_info": {
   "codemirror_mode": {
    "name": "ipython",
    "version": 3
   },
   "file_extension": ".py",
   "mimetype": "text/x-python",
   "name": "python",
   "nbconvert_exporter": "python",
   "pygments_lexer": "ipython3",
   "version": "3.6.10"
  }
 },
 "nbformat": 4,
 "nbformat_minor": 2
}
